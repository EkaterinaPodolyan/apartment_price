{
 "cells": [
  {
   "cell_type": "markdown",
   "metadata": {},
   "source": [
    "# Исследование объявлений о продаже квартир\n",
    "\n",
    "В вашем распоряжении данные — архив объявлений о продаже квартир в Санкт-Петербурге и соседних населённых пунктов за несколько лет. Нужно научиться определять рыночную стоимость объектов недвижимости. Ваша задача — установить параметры. Это позволит построить автоматизированную систему: она отследит аномалии и мошенническую деятельность. \n",
    "\n",
    "По каждой квартире на продажу доступны два вида данных. Первые вписаны пользователем, вторые — получены автоматически на основе картографических данных. Например, расстояние до центра, аэропорта, ближайшего парка и водоёма. "
   ]
  },
  {
   "cell_type": "markdown",
   "metadata": {},
   "source": [
    "## Изучу общую информацию. "
   ]
  },
  {
   "cell_type": "code",
   "execution_count": 1,
   "metadata": {},
   "outputs": [],
   "source": [
    "import pandas as pd"
   ]
  },
  {
   "cell_type": "markdown",
   "metadata": {},
   "source": [
    "Попробуем прочесть данные из файла.\n",
    "После вывода на экран первых строк архива, стало понятно, что данные склеились в одну строку. Попробуем исправить это, используя дополнительный аргумент функции read_csv() - 'sep'. Чтобы увидеть все колонки, достаточно в аргументах .set_option() указать 30."
   ]
  },
  {
   "cell_type": "code",
   "execution_count": 2,
   "metadata": {},
   "outputs": [
    {
     "data": {
      "text/html": [
       "<div>\n",
       "<style scoped>\n",
       "    .dataframe tbody tr th:only-of-type {\n",
       "        vertical-align: middle;\n",
       "    }\n",
       "\n",
       "    .dataframe tbody tr th {\n",
       "        vertical-align: top;\n",
       "    }\n",
       "\n",
       "    .dataframe thead th {\n",
       "        text-align: right;\n",
       "    }\n",
       "</style>\n",
       "<table border=\"1\" class=\"dataframe\">\n",
       "  <thead>\n",
       "    <tr style=\"text-align: right;\">\n",
       "      <th></th>\n",
       "      <th>total_images</th>\n",
       "      <th>last_price</th>\n",
       "      <th>total_area</th>\n",
       "      <th>first_day_exposition</th>\n",
       "      <th>rooms</th>\n",
       "      <th>ceiling_height</th>\n",
       "      <th>floors_total</th>\n",
       "      <th>living_area</th>\n",
       "      <th>floor</th>\n",
       "      <th>is_apartment</th>\n",
       "      <th>studio</th>\n",
       "      <th>open_plan</th>\n",
       "      <th>kitchen_area</th>\n",
       "      <th>balcony</th>\n",
       "      <th>locality_name</th>\n",
       "      <th>airports_nearest</th>\n",
       "      <th>cityCenters_nearest</th>\n",
       "      <th>parks_around3000</th>\n",
       "      <th>parks_nearest</th>\n",
       "      <th>ponds_around3000</th>\n",
       "      <th>ponds_nearest</th>\n",
       "      <th>days_exposition</th>\n",
       "    </tr>\n",
       "  </thead>\n",
       "  <tbody>\n",
       "    <tr>\n",
       "      <th>0</th>\n",
       "      <td>20</td>\n",
       "      <td>13000000.0</td>\n",
       "      <td>108.0</td>\n",
       "      <td>2019-03-07T00:00:00</td>\n",
       "      <td>3</td>\n",
       "      <td>2.70</td>\n",
       "      <td>16.0</td>\n",
       "      <td>51.0</td>\n",
       "      <td>8</td>\n",
       "      <td>NaN</td>\n",
       "      <td>False</td>\n",
       "      <td>False</td>\n",
       "      <td>25.0</td>\n",
       "      <td>NaN</td>\n",
       "      <td>Санкт-Петербург</td>\n",
       "      <td>18863.0</td>\n",
       "      <td>16028.0</td>\n",
       "      <td>1.0</td>\n",
       "      <td>482.0</td>\n",
       "      <td>2.0</td>\n",
       "      <td>755.0</td>\n",
       "      <td>NaN</td>\n",
       "    </tr>\n",
       "    <tr>\n",
       "      <th>1</th>\n",
       "      <td>7</td>\n",
       "      <td>3350000.0</td>\n",
       "      <td>40.4</td>\n",
       "      <td>2018-12-04T00:00:00</td>\n",
       "      <td>1</td>\n",
       "      <td>NaN</td>\n",
       "      <td>11.0</td>\n",
       "      <td>18.6</td>\n",
       "      <td>1</td>\n",
       "      <td>NaN</td>\n",
       "      <td>False</td>\n",
       "      <td>False</td>\n",
       "      <td>11.0</td>\n",
       "      <td>2.0</td>\n",
       "      <td>посёлок Шушары</td>\n",
       "      <td>12817.0</td>\n",
       "      <td>18603.0</td>\n",
       "      <td>0.0</td>\n",
       "      <td>NaN</td>\n",
       "      <td>0.0</td>\n",
       "      <td>NaN</td>\n",
       "      <td>81.0</td>\n",
       "    </tr>\n",
       "    <tr>\n",
       "      <th>2</th>\n",
       "      <td>10</td>\n",
       "      <td>5196000.0</td>\n",
       "      <td>56.0</td>\n",
       "      <td>2015-08-20T00:00:00</td>\n",
       "      <td>2</td>\n",
       "      <td>NaN</td>\n",
       "      <td>5.0</td>\n",
       "      <td>34.3</td>\n",
       "      <td>4</td>\n",
       "      <td>NaN</td>\n",
       "      <td>False</td>\n",
       "      <td>False</td>\n",
       "      <td>8.3</td>\n",
       "      <td>0.0</td>\n",
       "      <td>Санкт-Петербург</td>\n",
       "      <td>21741.0</td>\n",
       "      <td>13933.0</td>\n",
       "      <td>1.0</td>\n",
       "      <td>90.0</td>\n",
       "      <td>2.0</td>\n",
       "      <td>574.0</td>\n",
       "      <td>558.0</td>\n",
       "    </tr>\n",
       "    <tr>\n",
       "      <th>3</th>\n",
       "      <td>0</td>\n",
       "      <td>64900000.0</td>\n",
       "      <td>159.0</td>\n",
       "      <td>2015-07-24T00:00:00</td>\n",
       "      <td>3</td>\n",
       "      <td>NaN</td>\n",
       "      <td>14.0</td>\n",
       "      <td>NaN</td>\n",
       "      <td>9</td>\n",
       "      <td>NaN</td>\n",
       "      <td>False</td>\n",
       "      <td>False</td>\n",
       "      <td>NaN</td>\n",
       "      <td>0.0</td>\n",
       "      <td>Санкт-Петербург</td>\n",
       "      <td>28098.0</td>\n",
       "      <td>6800.0</td>\n",
       "      <td>2.0</td>\n",
       "      <td>84.0</td>\n",
       "      <td>3.0</td>\n",
       "      <td>234.0</td>\n",
       "      <td>424.0</td>\n",
       "    </tr>\n",
       "    <tr>\n",
       "      <th>4</th>\n",
       "      <td>2</td>\n",
       "      <td>10000000.0</td>\n",
       "      <td>100.0</td>\n",
       "      <td>2018-06-19T00:00:00</td>\n",
       "      <td>2</td>\n",
       "      <td>3.03</td>\n",
       "      <td>14.0</td>\n",
       "      <td>32.0</td>\n",
       "      <td>13</td>\n",
       "      <td>NaN</td>\n",
       "      <td>False</td>\n",
       "      <td>False</td>\n",
       "      <td>41.0</td>\n",
       "      <td>NaN</td>\n",
       "      <td>Санкт-Петербург</td>\n",
       "      <td>31856.0</td>\n",
       "      <td>8098.0</td>\n",
       "      <td>2.0</td>\n",
       "      <td>112.0</td>\n",
       "      <td>1.0</td>\n",
       "      <td>48.0</td>\n",
       "      <td>121.0</td>\n",
       "    </tr>\n",
       "  </tbody>\n",
       "</table>\n",
       "</div>"
      ],
      "text/plain": [
       "   total_images  last_price  total_area first_day_exposition  rooms  \\\n",
       "0            20  13000000.0       108.0  2019-03-07T00:00:00      3   \n",
       "1             7   3350000.0        40.4  2018-12-04T00:00:00      1   \n",
       "2            10   5196000.0        56.0  2015-08-20T00:00:00      2   \n",
       "3             0  64900000.0       159.0  2015-07-24T00:00:00      3   \n",
       "4             2  10000000.0       100.0  2018-06-19T00:00:00      2   \n",
       "\n",
       "   ceiling_height  floors_total  living_area  floor is_apartment  studio  \\\n",
       "0            2.70          16.0         51.0      8          NaN   False   \n",
       "1             NaN          11.0         18.6      1          NaN   False   \n",
       "2             NaN           5.0         34.3      4          NaN   False   \n",
       "3             NaN          14.0          NaN      9          NaN   False   \n",
       "4            3.03          14.0         32.0     13          NaN   False   \n",
       "\n",
       "   open_plan  kitchen_area  balcony    locality_name  airports_nearest  \\\n",
       "0      False          25.0      NaN  Санкт-Петербург           18863.0   \n",
       "1      False          11.0      2.0   посёлок Шушары           12817.0   \n",
       "2      False           8.3      0.0  Санкт-Петербург           21741.0   \n",
       "3      False           NaN      0.0  Санкт-Петербург           28098.0   \n",
       "4      False          41.0      NaN  Санкт-Петербург           31856.0   \n",
       "\n",
       "   cityCenters_nearest  parks_around3000  parks_nearest  ponds_around3000  \\\n",
       "0              16028.0               1.0          482.0               2.0   \n",
       "1              18603.0               0.0            NaN               0.0   \n",
       "2              13933.0               1.0           90.0               2.0   \n",
       "3               6800.0               2.0           84.0               3.0   \n",
       "4               8098.0               2.0          112.0               1.0   \n",
       "\n",
       "   ponds_nearest  days_exposition  \n",
       "0          755.0              NaN  \n",
       "1            NaN             81.0  \n",
       "2          574.0            558.0  \n",
       "3          234.0            424.0  \n",
       "4           48.0            121.0  "
      ]
     },
     "execution_count": 2,
     "metadata": {},
     "output_type": "execute_result"
    }
   ],
   "source": [
    "try:\n",
    "    data = pd.read_csv('/datasets/real_estate_data.csv', sep = '\\t')\n",
    "except:\n",
    "    print(\"could not open the file\")\n",
    "pd.set_option('display.max_columns', 30)\n",
    "data.head()\n"
   ]
  },
  {
   "cell_type": "markdown",
   "metadata": {},
   "source": [
    "Изучим данные архива, используя .info()"
   ]
  },
  {
   "cell_type": "code",
   "execution_count": 3,
   "metadata": {},
   "outputs": [
    {
     "name": "stdout",
     "output_type": "stream",
     "text": [
      "<class 'pandas.core.frame.DataFrame'>\n",
      "RangeIndex: 23699 entries, 0 to 23698\n",
      "Data columns (total 22 columns):\n",
      " #   Column                Non-Null Count  Dtype  \n",
      "---  ------                --------------  -----  \n",
      " 0   total_images          23699 non-null  int64  \n",
      " 1   last_price            23699 non-null  float64\n",
      " 2   total_area            23699 non-null  float64\n",
      " 3   first_day_exposition  23699 non-null  object \n",
      " 4   rooms                 23699 non-null  int64  \n",
      " 5   ceiling_height        14504 non-null  float64\n",
      " 6   floors_total          23613 non-null  float64\n",
      " 7   living_area           21796 non-null  float64\n",
      " 8   floor                 23699 non-null  int64  \n",
      " 9   is_apartment          2775 non-null   object \n",
      " 10  studio                23699 non-null  bool   \n",
      " 11  open_plan             23699 non-null  bool   \n",
      " 12  kitchen_area          21421 non-null  float64\n",
      " 13  balcony               12180 non-null  float64\n",
      " 14  locality_name         23650 non-null  object \n",
      " 15  airports_nearest      18157 non-null  float64\n",
      " 16  cityCenters_nearest   18180 non-null  float64\n",
      " 17  parks_around3000      18181 non-null  float64\n",
      " 18  parks_nearest         8079 non-null   float64\n",
      " 19  ponds_around3000      18181 non-null  float64\n",
      " 20  ponds_nearest         9110 non-null   float64\n",
      " 21  days_exposition       20518 non-null  float64\n",
      "dtypes: bool(2), float64(14), int64(3), object(3)\n",
      "memory usage: 3.7+ MB\n"
     ]
    }
   ],
   "source": [
    "data.info()"
   ]
  },
  {
   "cell_type": "markdown",
   "metadata": {},
   "source": [
    "Построим гистораммы:"
   ]
  },
  {
   "cell_type": "code",
   "execution_count": 4,
   "metadata": {},
   "outputs": [
    {
     "data": {
      "text/plain": [
       "array([[<AxesSubplot:title={'center':'total_images'}>,\n",
       "        <AxesSubplot:title={'center':'last_price'}>,\n",
       "        <AxesSubplot:title={'center':'total_area'}>,\n",
       "        <AxesSubplot:title={'center':'rooms'}>],\n",
       "       [<AxesSubplot:title={'center':'ceiling_height'}>,\n",
       "        <AxesSubplot:title={'center':'floors_total'}>,\n",
       "        <AxesSubplot:title={'center':'living_area'}>,\n",
       "        <AxesSubplot:title={'center':'floor'}>],\n",
       "       [<AxesSubplot:title={'center':'kitchen_area'}>,\n",
       "        <AxesSubplot:title={'center':'balcony'}>,\n",
       "        <AxesSubplot:title={'center':'airports_nearest'}>,\n",
       "        <AxesSubplot:title={'center':'cityCenters_nearest'}>],\n",
       "       [<AxesSubplot:title={'center':'parks_around3000'}>,\n",
       "        <AxesSubplot:title={'center':'parks_nearest'}>,\n",
       "        <AxesSubplot:title={'center':'ponds_around3000'}>,\n",
       "        <AxesSubplot:title={'center':'ponds_nearest'}>],\n",
       "       [<AxesSubplot:title={'center':'days_exposition'}>, <AxesSubplot:>,\n",
       "        <AxesSubplot:>, <AxesSubplot:>]], dtype=object)"
      ]
     },
     "execution_count": 4,
     "metadata": {},
     "output_type": "execute_result"
    },
    {
     "data": {
      "image/png": "[encoded data removed]",
      "text/plain": [
       "<Figure size 1080x1440 with 20 Axes>"
      ]
     },
     "metadata": {
      "needs_background": "light"
     },
     "output_type": "display_data"
    }
   ],
   "source": [
    "data.hist(figsize = (15,20))"
   ]
  },
  {
   "cell_type": "markdown",
   "metadata": {},
   "source": [
    "Получается, что в таблице содержится 22 столбца, описывающих 23699 объектов. Разница в количестве данных по столбцам, говорит о том, что пропуски есть. Столбцы содержат данные типа bool, float64, int64 и object. Колонка 'first_day_exposition' содержит строковый тип данных, который необходимо изменить на временной для удобства работы с ним. Колонка 'is_apartment' содержит информацию, которая может отражать два состояния, поэтому  логичнее заменить ее на bool. Это также сэкономит ресурс компьютера. В столбцах 'last_price', 'floors_total', 'balcony', 'days_exposition' использование типа данных float64 кажется избыточным и напрасно нагружает память компьютера. Int в этих случаях кажется более подходящим.\n",
    "Название столбца cityCenters_nearest не соответствует рекомендованому в python стилю, необходимо исправить его на \"city_centers_nearest\" ."
   ]
  },
  {
   "cell_type": "markdown",
   "metadata": {},
   "source": [
    "### Предобработка данных"
   ]
  },
  {
   "cell_type": "markdown",
   "metadata": {},
   "source": [
    "Для начала переименуем столбец cityCenters_nearest в city_сenters_nearest"
   ]
  },
  {
   "cell_type": "code",
   "execution_count": 5,
   "metadata": {},
   "outputs": [
    {
     "data": {
      "text/html": [
       "<div>\n",
       "<style scoped>\n",
       "    .dataframe tbody tr th:only-of-type {\n",
       "        vertical-align: middle;\n",
       "    }\n",
       "\n",
       "    .dataframe tbody tr th {\n",
       "        vertical-align: top;\n",
       "    }\n",
       "\n",
       "    .dataframe thead th {\n",
       "        text-align: right;\n",
       "    }\n",
       "</style>\n",
       "<table border=\"1\" class=\"dataframe\">\n",
       "  <thead>\n",
       "    <tr style=\"text-align: right;\">\n",
       "      <th></th>\n",
       "      <th>total_images</th>\n",
       "      <th>last_price</th>\n",
       "      <th>total_area</th>\n",
       "      <th>first_day_exposition</th>\n",
       "      <th>rooms</th>\n",
       "      <th>ceiling_height</th>\n",
       "      <th>floors_total</th>\n",
       "      <th>living_area</th>\n",
       "      <th>floor</th>\n",
       "      <th>is_apartment</th>\n",
       "      <th>studio</th>\n",
       "      <th>open_plan</th>\n",
       "      <th>kitchen_area</th>\n",
       "      <th>balcony</th>\n",
       "      <th>locality_name</th>\n",
       "      <th>airports_nearest</th>\n",
       "      <th>city_centers_nearest</th>\n",
       "      <th>parks_around3000</th>\n",
       "      <th>parks_nearest</th>\n",
       "      <th>ponds_around3000</th>\n",
       "      <th>ponds_nearest</th>\n",
       "      <th>days_exposition</th>\n",
       "    </tr>\n",
       "  </thead>\n",
       "  <tbody>\n",
       "    <tr>\n",
       "      <th>0</th>\n",
       "      <td>20</td>\n",
       "      <td>13000000.0</td>\n",
       "      <td>108.0</td>\n",
       "      <td>2019-03-07T00:00:00</td>\n",
       "      <td>3</td>\n",
       "      <td>2.7</td>\n",
       "      <td>16.0</td>\n",
       "      <td>51.0</td>\n",
       "      <td>8</td>\n",
       "      <td>NaN</td>\n",
       "      <td>False</td>\n",
       "      <td>False</td>\n",
       "      <td>25.0</td>\n",
       "      <td>NaN</td>\n",
       "      <td>Санкт-Петербург</td>\n",
       "      <td>18863.0</td>\n",
       "      <td>16028.0</td>\n",
       "      <td>1.0</td>\n",
       "      <td>482.0</td>\n",
       "      <td>2.0</td>\n",
       "      <td>755.0</td>\n",
       "      <td>NaN</td>\n",
       "    </tr>\n",
       "    <tr>\n",
       "      <th>1</th>\n",
       "      <td>7</td>\n",
       "      <td>3350000.0</td>\n",
       "      <td>40.4</td>\n",
       "      <td>2018-12-04T00:00:00</td>\n",
       "      <td>1</td>\n",
       "      <td>NaN</td>\n",
       "      <td>11.0</td>\n",
       "      <td>18.6</td>\n",
       "      <td>1</td>\n",
       "      <td>NaN</td>\n",
       "      <td>False</td>\n",
       "      <td>False</td>\n",
       "      <td>11.0</td>\n",
       "      <td>2.0</td>\n",
       "      <td>посёлок Шушары</td>\n",
       "      <td>12817.0</td>\n",
       "      <td>18603.0</td>\n",
       "      <td>0.0</td>\n",
       "      <td>NaN</td>\n",
       "      <td>0.0</td>\n",
       "      <td>NaN</td>\n",
       "      <td>81.0</td>\n",
       "    </tr>\n",
       "  </tbody>\n",
       "</table>\n",
       "</div>"
      ],
      "text/plain": [
       "   total_images  last_price  total_area first_day_exposition  rooms  \\\n",
       "0            20  13000000.0       108.0  2019-03-07T00:00:00      3   \n",
       "1             7   3350000.0        40.4  2018-12-04T00:00:00      1   \n",
       "\n",
       "   ceiling_height  floors_total  living_area  floor is_apartment  studio  \\\n",
       "0             2.7          16.0         51.0      8          NaN   False   \n",
       "1             NaN          11.0         18.6      1          NaN   False   \n",
       "\n",
       "   open_plan  kitchen_area  balcony    locality_name  airports_nearest  \\\n",
       "0      False          25.0      NaN  Санкт-Петербург           18863.0   \n",
       "1      False          11.0      2.0   посёлок Шушары           12817.0   \n",
       "\n",
       "   city_centers_nearest  parks_around3000  parks_nearest  ponds_around3000  \\\n",
       "0               16028.0               1.0          482.0               2.0   \n",
       "1               18603.0               0.0            NaN               0.0   \n",
       "\n",
       "   ponds_nearest  days_exposition  \n",
       "0          755.0              NaN  \n",
       "1            NaN             81.0  "
      ]
     },
     "execution_count": 5,
     "metadata": {},
     "output_type": "execute_result"
    }
   ],
   "source": [
    "data.rename(columns = {\"cityCenters_nearest\" : \"city_centers_nearest\"}, inplace = True)\n",
    "data.head(2)"
   ]
  },
  {
   "cell_type": "code",
   "execution_count": 6,
   "metadata": {},
   "outputs": [],
   "source": [
    "import numpy as np"
   ]
  },
  {
   "cell_type": "markdown",
   "metadata": {},
   "source": [
    "Теперь поработаем с типом данных. Необходимо заменить в некоторых ячейках float на int, а в некоторых строчные данные на логические и временные."
   ]
  },
  {
   "cell_type": "markdown",
   "metadata": {},
   "source": [
    "Для цены и количества дней подойдет тип int64:"
   ]
  },
  {
   "cell_type": "code",
   "execution_count": 7,
   "metadata": {},
   "outputs": [],
   "source": [
    "try:\n",
    "    data['last_price'] = data['last_price'].astype('int64')\n",
    "except:\n",
    "    print('failed last_price')\n",
    "\n",
    "try:\n",
    "    data['days_exposition'] = np.floor(pd.to_numeric(data['days_exposition'], errors='coerce')).astype('Int64')\n",
    "except:\n",
    "    print('failed days_exposition')\n"
   ]
  },
  {
   "cell_type": "markdown",
   "metadata": {},
   "source": [
    "Для количества этажей  и балконов достаточно int8"
   ]
  },
  {
   "cell_type": "code",
   "execution_count": 8,
   "metadata": {},
   "outputs": [],
   "source": [
    "try:\n",
    "    data['floors_total'] = data['floors_total'].astype('Int8')\n",
    "except:\n",
    "    print('failed floors_total')\n",
    "    \n",
    "try:\n",
    "    data['floor'] = data['floor'].astype('Int8')\n",
    "except:\n",
    "    print('failed floor')  \n",
    "\n",
    "try:\n",
    "    data['balcony'] = data['balcony'].astype('Int8')\n",
    "except:\n",
    "    print('failed balcony')\n"
   ]
  },
  {
   "cell_type": "markdown",
   "metadata": {},
   "source": [
    "В колонке 'is_apartment' заменим тип данных на bool. Пропущенные значения примем как False"
   ]
  },
  {
   "cell_type": "code",
   "execution_count": 9,
   "metadata": {},
   "outputs": [],
   "source": [
    "try:\n",
    "    data['is_apartment'] = data['is_apartment'].map({\"True\": True, \"False\": False})\n",
    "except:\n",
    "    print(\"is_apartmen failed\")\n",
    "data['is_apartment'] = data['is_apartment'].fillna(False)"
   ]
  },
  {
   "cell_type": "markdown",
   "metadata": {},
   "source": [
    "в столбце \"first_day_exposition\" заменим строковые данные на время"
   ]
  },
  {
   "cell_type": "code",
   "execution_count": 10,
   "metadata": {},
   "outputs": [],
   "source": [
    "try:\n",
    "    data['first_day_exposition'] = pd.to_datetime(data['first_day_exposition'], format=\"%Y-%m-%dT%H:%M:%S\")\n",
    "except:\n",
    "    print(\"failed first_day_exposition\")"
   ]
  },
  {
   "cell_type": "code",
   "execution_count": 11,
   "metadata": {},
   "outputs": [
    {
     "name": "stdout",
     "output_type": "stream",
     "text": [
      "<class 'pandas.core.frame.DataFrame'>\n",
      "RangeIndex: 23699 entries, 0 to 23698\n",
      "Data columns (total 22 columns):\n",
      " #   Column                Non-Null Count  Dtype         \n",
      "---  ------                --------------  -----         \n",
      " 0   total_images          23699 non-null  int64         \n",
      " 1   last_price            23699 non-null  int64         \n",
      " 2   total_area            23699 non-null  float64       \n",
      " 3   first_day_exposition  23699 non-null  datetime64[ns]\n",
      " 4   rooms                 23699 non-null  int64         \n",
      " 5   ceiling_height        14504 non-null  float64       \n",
      " 6   floors_total          23613 non-null  Int8          \n",
      " 7   living_area           21796 non-null  float64       \n",
      " 8   floor                 23699 non-null  Int8          \n",
      " 9   is_apartment          23699 non-null  bool          \n",
      " 10  studio                23699 non-null  bool          \n",
      " 11  open_plan             23699 non-null  bool          \n",
      " 12  kitchen_area          21421 non-null  float64       \n",
      " 13  balcony               12180 non-null  Int8          \n",
      " 14  locality_name         23650 non-null  object        \n",
      " 15  airports_nearest      18157 non-null  float64       \n",
      " 16  city_centers_nearest  18180 non-null  float64       \n",
      " 17  parks_around3000      18181 non-null  float64       \n",
      " 18  parks_nearest         8079 non-null   float64       \n",
      " 19  ponds_around3000      18181 non-null  float64       \n",
      " 20  ponds_nearest         9110 non-null   float64       \n",
      " 21  days_exposition       20518 non-null  Int64         \n",
      "dtypes: Int64(1), Int8(3), bool(3), datetime64[ns](1), float64(10), int64(3), object(1)\n",
      "memory usage: 3.1+ MB\n"
     ]
    }
   ],
   "source": [
    "data.info()"
   ]
  },
  {
   "cell_type": "markdown",
   "metadata": {},
   "source": [
    "Посмотрим сколько и каких значений пропущено"
   ]
  },
  {
   "cell_type": "code",
   "execution_count": 12,
   "metadata": {},
   "outputs": [
    {
     "data": {
      "text/plain": [
       "total_images                0\n",
       "last_price                  0\n",
       "total_area                  0\n",
       "first_day_exposition        0\n",
       "rooms                       0\n",
       "ceiling_height           9195\n",
       "floors_total               86\n",
       "living_area              1903\n",
       "floor                       0\n",
       "is_apartment                0\n",
       "studio                      0\n",
       "open_plan                   0\n",
       "kitchen_area             2278\n",
       "balcony                 11519\n",
       "locality_name              49\n",
       "airports_nearest         5542\n",
       "city_centers_nearest     5519\n",
       "parks_around3000         5518\n",
       "parks_nearest           15620\n",
       "ponds_around3000         5518\n",
       "ponds_nearest           14589\n",
       "days_exposition          3181\n",
       "dtype: int64"
      ]
     },
     "execution_count": 12,
     "metadata": {},
     "output_type": "execute_result"
    }
   ],
   "source": [
    "data.isna().sum()"
   ]
  },
  {
   "cell_type": "markdown",
   "metadata": {},
   "source": [
    "В колонке 'is_apartment' все пропуски мы уже заменили на False. \n",
    "\n",
    "В 9195 случаях пропущена высота потолка, скорее всего они до 2,6м включительно. Иначе бы указали как дополнительный плюс. Но это важный параметр при выборе квартиры, может быть решающим, поэтому смысла заменять его нет.\n",
    "\n",
    "86 значений 'floors_total' отсутсвуют. Вероятнее всего не заполнили. Уберем строки с пропусками."
   ]
  },
  {
   "cell_type": "code",
   "execution_count": 13,
   "metadata": {},
   "outputs": [],
   "source": [
    "data['floors_total'].dropna(inplace = True)"
   ]
  },
  {
   "cell_type": "markdown",
   "metadata": {},
   "source": [
    "1903 значения жилой площади тоже нет, скорее всего просто не заполнили. Оставим пропуски.\n",
    "\n",
    "Касательно кухни возможный вариант, что ее в квартире просто нет, либо это квартира-студия.\n",
    "\n",
    "11519 пропусков в колонке с балконами скорее всего означают, что их попросту нет, заменим их на 0."
   ]
  },
  {
   "cell_type": "code",
   "execution_count": 14,
   "metadata": {},
   "outputs": [],
   "source": [
    "data['balcony'] = data['balcony'].fillna(0)"
   ]
  },
  {
   "cell_type": "markdown",
   "metadata": {},
   "source": [
    "С пропусками в колонке \"locality_name\" мы ничего сделать не сможем, при этом их 49. Просто удалим строки с пропусками в этом столбце."
   ]
  },
  {
   "cell_type": "code",
   "execution_count": 15,
   "metadata": {},
   "outputs": [],
   "source": [
    "data['locality_name'].dropna(inplace = True)"
   ]
  },
  {
   "cell_type": "markdown",
   "metadata": {},
   "source": [
    "\n",
    "Колонки 'airports_nearest', 'city_centers_nearest', 'parks_around3000', 'parks_nearest', 'ponds_around3000', 'ponds_nearest' говорят о дополнительных плюсах квартиры и, поскольку эти ячейки не были заполнены, скорее всего этих приимуществ нет, значит оставляем пропуски.\n",
    "\n",
    "Если в колонке с количеством дней публикации пропуск, предположим, что публикации не было."
   ]
  },
  {
   "cell_type": "code",
   "execution_count": 16,
   "metadata": {},
   "outputs": [
    {
     "data": {
      "text/plain": [
       "total_images                0\n",
       "last_price                  0\n",
       "total_area                  0\n",
       "first_day_exposition        0\n",
       "rooms                       0\n",
       "ceiling_height           9195\n",
       "floors_total               86\n",
       "living_area              1903\n",
       "floor                       0\n",
       "is_apartment                0\n",
       "studio                      0\n",
       "open_plan                   0\n",
       "kitchen_area             2278\n",
       "balcony                     0\n",
       "locality_name              49\n",
       "airports_nearest         5542\n",
       "city_centers_nearest     5519\n",
       "parks_around3000         5518\n",
       "parks_nearest           15620\n",
       "ponds_around3000         5518\n",
       "ponds_nearest           14589\n",
       "days_exposition          3181\n",
       "dtype: int64"
      ]
     },
     "execution_count": 16,
     "metadata": {},
     "output_type": "execute_result"
    }
   ],
   "source": [
    "data.isna().sum()"
   ]
  },
  {
   "cell_type": "markdown",
   "metadata": {},
   "source": [
    "Изучим уникальные значения в столбце с названиями и устраним неявные дубликаты. Для начала посмотрим сколько всего уникальных названий в столбце:"
   ]
  },
  {
   "cell_type": "code",
   "execution_count": 17,
   "metadata": {},
   "outputs": [
    {
     "data": {
      "text/plain": [
       "365"
      ]
     },
     "execution_count": 17,
     "metadata": {},
     "output_type": "execute_result"
    }
   ],
   "source": [
    "data['locality_name'].unique().shape[0]"
   ]
  },
  {
   "cell_type": "markdown",
   "metadata": {},
   "source": [
    "Посмотрим содержимое столбца:"
   ]
  },
  {
   "cell_type": "code",
   "execution_count": 18,
   "metadata": {},
   "outputs": [
    {
     "data": {
      "text/plain": [
       "array(['Санкт-Петербург', 'посёлок Шушары', 'городской посёлок Янино-1',\n",
       "       'посёлок Парголово', 'посёлок Мурино', 'Ломоносов', 'Сертолово',\n",
       "       'Петергоф', 'Пушкин', 'деревня Кудрово', 'Коммунар', 'Колпино',\n",
       "       'поселок городского типа Красный Бор', 'Гатчина', 'поселок Мурино',\n",
       "       'деревня Фёдоровское', 'Выборг', 'Кронштадт', 'Кировск',\n",
       "       'деревня Новое Девяткино', 'посёлок Металлострой',\n",
       "       'посёлок городского типа Лебяжье',\n",
       "       'посёлок городского типа Сиверский', 'поселок Молодцово',\n",
       "       'поселок городского типа Кузьмоловский',\n",
       "       'садовое товарищество Новая Ропша', 'Павловск',\n",
       "       'деревня Пикколово', 'Всеволожск', 'Волхов', 'Кингисепп',\n",
       "       'Приозерск', 'Сестрорецк', 'деревня Куттузи', 'посёлок Аннино',\n",
       "       'поселок городского типа Ефимовский', 'посёлок Плодовое',\n",
       "       'деревня Заклинье', 'поселок Торковичи', 'поселок Первомайское',\n",
       "       'Красное Село', 'посёлок Понтонный', 'Сясьстрой', 'деревня Старая',\n",
       "       'деревня Лесколово', 'посёлок Новый Свет', 'Сланцы',\n",
       "       'село Путилово', 'Ивангород', 'Мурино', 'Шлиссельбург',\n",
       "       'Никольское', 'Зеленогорск', 'Сосновый Бор', 'поселок Новый Свет',\n",
       "       'деревня Оржицы', 'деревня Кальтино', 'Кудрово',\n",
       "       'поселок Романовка', 'посёлок Бугры', 'поселок Бугры',\n",
       "       'поселок городского типа Рощино', 'Кириши', 'Луга', 'Волосово',\n",
       "       'Отрадное', 'село Павлово', 'поселок Оредеж', 'село Копорье',\n",
       "       'посёлок городского типа Красный Бор', 'посёлок Молодёжное',\n",
       "       'Тихвин', 'посёлок Победа', 'деревня Нурма',\n",
       "       'поселок городского типа Синявино', 'Тосно',\n",
       "       'посёлок городского типа Кузьмоловский', 'посёлок Стрельна',\n",
       "       'Бокситогорск', 'посёлок Александровская', 'деревня Лопухинка',\n",
       "       'Пикалёво', 'поселок Терволово',\n",
       "       'поселок городского типа Советский', 'Подпорожье',\n",
       "       'посёлок Петровское', 'посёлок городского типа Токсово',\n",
       "       'поселок Сельцо', 'посёлок городского типа Вырица',\n",
       "       'деревня Кипень', 'деревня Келози', 'деревня Вартемяги',\n",
       "       'посёлок Тельмана', 'поселок Севастьяново',\n",
       "       'городской поселок Большая Ижора', nan,\n",
       "       'городской посёлок Павлово', 'деревня Агалатово',\n",
       "       'посёлок Новогорелово', 'городской посёлок Лесогорский',\n",
       "       'деревня Лаголово', 'поселок Цвелодубово',\n",
       "       'поселок городского типа Рахья', 'поселок городского типа Вырица',\n",
       "       'деревня Белогорка', 'поселок Заводской',\n",
       "       'городской посёлок Новоселье', 'деревня Большие Колпаны',\n",
       "       'деревня Горбунки', 'деревня Батово', 'деревня Заневка',\n",
       "       'деревня Иссад', 'Приморск', 'городской посёлок Фёдоровское',\n",
       "       'деревня Мистолово', 'Новая Ладога', 'поселок Зимитицы',\n",
       "       'поселок Барышево', 'деревня Разметелево',\n",
       "       'поселок городского типа имени Свердлова', 'деревня Пеники',\n",
       "       'поселок Рябово', 'деревня Пудомяги', 'поселок станции Корнево',\n",
       "       'деревня Низино', 'деревня Бегуницы', 'посёлок Поляны',\n",
       "       'городской посёлок Мга', 'поселок Елизаветино',\n",
       "       'посёлок городского типа Кузнечное', 'деревня Колтуши',\n",
       "       'поселок Запорожское', 'посёлок городского типа Рощино',\n",
       "       'деревня Гостилицы', 'деревня Малое Карлино',\n",
       "       'посёлок Мичуринское', 'посёлок городского типа имени Морозова',\n",
       "       'посёлок Песочный', 'посёлок Сосново', 'деревня Аро',\n",
       "       'поселок Ильичёво', 'посёлок городского типа Тайцы',\n",
       "       'деревня Малое Верево', 'деревня Извара', 'поселок станции Вещево',\n",
       "       'село Паша', 'деревня Калитино',\n",
       "       'посёлок городского типа Ульяновка', 'деревня Чудской Бор',\n",
       "       'поселок городского типа Дубровка', 'деревня Мины',\n",
       "       'поселок Войсковицы', 'посёлок городского типа имени Свердлова',\n",
       "       'деревня Коркино', 'посёлок Ропша',\n",
       "       'поселок городского типа Приладожский', 'посёлок Щеглово',\n",
       "       'посёлок Гаврилово', 'Лодейное Поле', 'деревня Рабитицы',\n",
       "       'поселок городского типа Никольский', 'деревня Кузьмолово',\n",
       "       'деревня Малые Колпаны', 'поселок Тельмана',\n",
       "       'посёлок Петро-Славянка', 'городской посёлок Назия',\n",
       "       'посёлок Репино', 'посёлок Ильичёво', 'поселок Углово',\n",
       "       'поселок Старая Малукса', 'садовое товарищество Рахья',\n",
       "       'поселок Аннино', 'поселок Победа', 'деревня Меньково',\n",
       "       'деревня Старые Бегуницы', 'посёлок Сапёрный', 'поселок Семрино',\n",
       "       'поселок Гаврилово', 'поселок Глажево', 'поселок Кобринское',\n",
       "       'деревня Гарболово', 'деревня Юкки',\n",
       "       'поселок станции Приветнинское', 'деревня Мануйлово',\n",
       "       'деревня Пчева', 'поселок Поляны', 'поселок Цвылёво',\n",
       "       'поселок Мельниково', 'посёлок Пудость', 'посёлок Усть-Луга',\n",
       "       'Светогорск', 'Любань', 'поселок Селезнёво',\n",
       "       'поселок городского типа Рябово', 'Каменногорск', 'деревня Кривко',\n",
       "       'поселок Глебычево', 'деревня Парицы', 'поселок Жилпосёлок',\n",
       "       'посёлок городского типа Мга', 'городской поселок Янино-1',\n",
       "       'посёлок Войскорово', 'село Никольское', 'посёлок Терволово',\n",
       "       'поселок Стеклянный', 'посёлок городского типа Важины',\n",
       "       'посёлок Мыза-Ивановка', 'село Русско-Высоцкое',\n",
       "       'поселок городского типа Лебяжье',\n",
       "       'поселок городского типа Форносово', 'село Старая Ладога',\n",
       "       'поселок Житково', 'городской посёлок Виллози', 'деревня Лампово',\n",
       "       'деревня Шпаньково', 'деревня Лаврики', 'посёлок Сумино',\n",
       "       'посёлок Возрождение', 'деревня Старосиверская',\n",
       "       'посёлок Кикерино', 'поселок Возрождение',\n",
       "       'деревня Старое Хинколово', 'посёлок Пригородный',\n",
       "       'посёлок Торфяное', 'городской посёлок Будогощь',\n",
       "       'поселок Суходолье', 'поселок Красная Долина', 'деревня Хапо-Ое',\n",
       "       'поселок городского типа Дружная Горка', 'поселок Лисий Нос',\n",
       "       'деревня Яльгелево', 'посёлок Стеклянный', 'село Рождествено',\n",
       "       'деревня Старополье', 'посёлок Левашово', 'деревня Сяськелево',\n",
       "       'деревня Камышовка',\n",
       "       'садоводческое некоммерческое товарищество Лесная Поляна',\n",
       "       'деревня Хязельки', 'поселок Жилгородок',\n",
       "       'посёлок городского типа Павлово', 'деревня Ялгино',\n",
       "       'поселок Новый Учхоз', 'городской посёлок Рощино',\n",
       "       'поселок Гончарово', 'поселок Почап', 'посёлок Сапёрное',\n",
       "       'посёлок Платформа 69-й километр', 'поселок Каложицы',\n",
       "       'деревня Фалилеево', 'деревня Пельгора',\n",
       "       'поселок городского типа Лесогорский', 'деревня Торошковичи',\n",
       "       'посёлок Белоостров', 'посёлок Алексеевка', 'поселок Серебрянский',\n",
       "       'поселок Лукаши', 'поселок Петровское', 'деревня Щеглово',\n",
       "       'поселок Мичуринское', 'деревня Тарасово', 'поселок Кингисеппский',\n",
       "       'посёлок при железнодорожной станции Вещево', 'поселок Ушаки',\n",
       "       'деревня Котлы', 'деревня Сижно', 'деревня Торосово',\n",
       "       'посёлок Форт Красная Горка', 'поселок городского типа Токсово',\n",
       "       'деревня Новолисино', 'посёлок станции Громово', 'деревня Глинка',\n",
       "       'посёлок Мельниково', 'поселок городского типа Назия',\n",
       "       'деревня Старая Пустошь', 'поселок Коммунары', 'поселок Починок',\n",
       "       'посёлок городского типа Вознесенье', 'деревня Разбегаево',\n",
       "       'посёлок городского типа Рябово', 'поселок Гладкое',\n",
       "       'посёлок при железнодорожной станции Приветнинское',\n",
       "       'поселок Тёсово-4', 'посёлок Жилгородок', 'деревня Бор',\n",
       "       'посёлок Коробицыно', 'деревня Большая Вруда', 'деревня Курковицы',\n",
       "       'посёлок Лисий Нос', 'городской посёлок Советский',\n",
       "       'посёлок Кобралово', 'деревня Суоранда', 'поселок Кобралово',\n",
       "       'поселок городского типа Кондратьево',\n",
       "       'коттеджный поселок Счастье', 'поселок Любань', 'деревня Реброво',\n",
       "       'деревня Зимитицы', 'деревня Тойворово', 'поселок Семиозерье',\n",
       "       'поселок Лесное', 'поселок Совхозный', 'поселок Усть-Луга',\n",
       "       'посёлок Ленинское', 'посёлок Суйда',\n",
       "       'посёлок городского типа Форносово', 'деревня Нижние Осельки',\n",
       "       'посёлок станции Свирь', 'поселок Перово', 'Высоцк',\n",
       "       'поселок Гарболово', 'село Шум', 'поселок Котельский',\n",
       "       'поселок станции Лужайка', 'деревня Большая Пустомержа',\n",
       "       'поселок Красносельское', 'деревня Вахнова Кара', 'деревня Пижма',\n",
       "       'коттеджный поселок Кивеннапа Север', 'поселок Коробицыно',\n",
       "       'поселок Ромашки', 'посёлок Перово', 'деревня Каськово',\n",
       "       'деревня Куровицы', 'посёлок Плоское', 'поселок Сумино',\n",
       "       'поселок городского типа Большая Ижора', 'поселок Кирпичное',\n",
       "       'деревня Ям-Тесово', 'деревня Раздолье', 'деревня Терпилицы',\n",
       "       'посёлок Шугозеро', 'деревня Ваганово', 'поселок Пушное',\n",
       "       'садовое товарищество Садко', 'посёлок Усть-Ижора',\n",
       "       'деревня Выскатка', 'городской посёлок Свирьстрой',\n",
       "       'поселок Громово', 'деревня Кисельня', 'посёлок Старая Малукса',\n",
       "       'деревня Трубников Бор', 'поселок Калитино',\n",
       "       'посёлок Высокоключевой', 'садовое товарищество Приладожский',\n",
       "       'посёлок Пансионат Зелёный Бор', 'деревня Ненимяки',\n",
       "       'поселок Пансионат Зелёный Бор', 'деревня Снегирёвка',\n",
       "       'деревня Рапполово', 'деревня Пустынка', 'поселок Рабитицы',\n",
       "       'деревня Большой Сабск', 'деревня Русско', 'деревня Лупполово',\n",
       "       'деревня Большое Рейзино', 'деревня Малая Романовка',\n",
       "       'поселок Дружноселье', 'поселок Пчевжа', 'поселок Володарское',\n",
       "       'деревня Нижняя', 'коттеджный посёлок Лесное', 'деревня Тихковицы',\n",
       "       'деревня Борисова Грива', 'посёлок Дзержинского'], dtype=object)"
      ]
     },
     "execution_count": 18,
     "metadata": {},
     "output_type": "execute_result"
    }
   ],
   "source": [
    "data['locality_name'].unique()"
   ]
  },
  {
   "cell_type": "markdown",
   "metadata": {},
   "source": [
    "Первое, что бросается в глаза - использование в одних и тех же словах то буквы \"е\" то \"ё\". Заменим все на \"е\", предварительно переведя весь текст в нижний регистр:"
   ]
  },
  {
   "cell_type": "code",
   "execution_count": 19,
   "metadata": {},
   "outputs": [],
   "source": [
    "data['locality_name'] = data['locality_name'].str.lower()\n",
    "data['locality_name'] = data['locality_name'].str.replace('ё','е')"
   ]
  },
  {
   "cell_type": "code",
   "execution_count": 20,
   "metadata": {},
   "outputs": [
    {
     "data": {
      "text/plain": [
       "331"
      ]
     },
     "execution_count": 20,
     "metadata": {},
     "output_type": "execute_result"
    }
   ],
   "source": [
    "data['locality_name'].unique().shape[0]"
   ]
  },
  {
   "cell_type": "code",
   "execution_count": 21,
   "metadata": {},
   "outputs": [
    {
     "data": {
      "text/plain": [
       "array(['санкт-петербург', 'поселок шушары', 'городской поселок янино-1',\n",
       "       'поселок парголово', 'поселок мурино', 'ломоносов', 'сертолово',\n",
       "       'петергоф', 'пушкин', 'деревня кудрово', 'коммунар', 'колпино',\n",
       "       'поселок городского типа красный бор', 'гатчина',\n",
       "       'деревня федоровское', 'выборг', 'кронштадт', 'кировск',\n",
       "       'деревня новое девяткино', 'поселок металлострой',\n",
       "       'поселок городского типа лебяжье',\n",
       "       'поселок городского типа сиверский', 'поселок молодцово',\n",
       "       'поселок городского типа кузьмоловский',\n",
       "       'садовое товарищество новая ропша', 'павловск',\n",
       "       'деревня пикколово', 'всеволожск', 'волхов', 'кингисепп',\n",
       "       'приозерск', 'сестрорецк', 'деревня куттузи', 'поселок аннино',\n",
       "       'поселок городского типа ефимовский', 'поселок плодовое',\n",
       "       'деревня заклинье', 'поселок торковичи', 'поселок первомайское',\n",
       "       'красное село', 'поселок понтонный', 'сясьстрой', 'деревня старая',\n",
       "       'деревня лесколово', 'поселок новый свет', 'сланцы',\n",
       "       'село путилово', 'ивангород', 'мурино', 'шлиссельбург',\n",
       "       'никольское', 'зеленогорск', 'сосновый бор', 'деревня оржицы',\n",
       "       'деревня кальтино', 'кудрово', 'поселок романовка',\n",
       "       'поселок бугры', 'поселок городского типа рощино', 'кириши',\n",
       "       'луга', 'волосово', 'отрадное', 'село павлово', 'поселок оредеж',\n",
       "       'село копорье', 'поселок молодежное', 'тихвин', 'поселок победа',\n",
       "       'деревня нурма', 'поселок городского типа синявино', 'тосно',\n",
       "       'поселок стрельна', 'бокситогорск', 'поселок александровская',\n",
       "       'деревня лопухинка', 'пикалево', 'поселок терволово',\n",
       "       'поселок городского типа советский', 'подпорожье',\n",
       "       'поселок петровское', 'поселок городского типа токсово',\n",
       "       'поселок сельцо', 'поселок городского типа вырица',\n",
       "       'деревня кипень', 'деревня келози', 'деревня вартемяги',\n",
       "       'поселок тельмана', 'поселок севастьяново',\n",
       "       'городской поселок большая ижора', nan,\n",
       "       'городской поселок павлово', 'деревня агалатово',\n",
       "       'поселок новогорелово', 'городской поселок лесогорский',\n",
       "       'деревня лаголово', 'поселок цвелодубово',\n",
       "       'поселок городского типа рахья', 'деревня белогорка',\n",
       "       'поселок заводской', 'городской поселок новоселье',\n",
       "       'деревня большие колпаны', 'деревня горбунки', 'деревня батово',\n",
       "       'деревня заневка', 'деревня иссад', 'приморск',\n",
       "       'городской поселок федоровское', 'деревня мистолово',\n",
       "       'новая ладога', 'поселок зимитицы', 'поселок барышево',\n",
       "       'деревня разметелево', 'поселок городского типа имени свердлова',\n",
       "       'деревня пеники', 'поселок рябово', 'деревня пудомяги',\n",
       "       'поселок станции корнево', 'деревня низино', 'деревня бегуницы',\n",
       "       'поселок поляны', 'городской поселок мга', 'поселок елизаветино',\n",
       "       'поселок городского типа кузнечное', 'деревня колтуши',\n",
       "       'поселок запорожское', 'деревня гостилицы',\n",
       "       'деревня малое карлино', 'поселок мичуринское',\n",
       "       'поселок городского типа имени морозова', 'поселок песочный',\n",
       "       'поселок сосново', 'деревня аро', 'поселок ильичево',\n",
       "       'поселок городского типа тайцы', 'деревня малое верево',\n",
       "       'деревня извара', 'поселок станции вещево', 'село паша',\n",
       "       'деревня калитино', 'поселок городского типа ульяновка',\n",
       "       'деревня чудской бор', 'поселок городского типа дубровка',\n",
       "       'деревня мины', 'поселок войсковицы', 'деревня коркино',\n",
       "       'поселок ропша', 'поселок городского типа приладожский',\n",
       "       'поселок щеглово', 'поселок гаврилово', 'лодейное поле',\n",
       "       'деревня рабитицы', 'поселок городского типа никольский',\n",
       "       'деревня кузьмолово', 'деревня малые колпаны',\n",
       "       'поселок петро-славянка', 'городской поселок назия',\n",
       "       'поселок репино', 'поселок углово', 'поселок старая малукса',\n",
       "       'садовое товарищество рахья', 'деревня меньково',\n",
       "       'деревня старые бегуницы', 'поселок саперный', 'поселок семрино',\n",
       "       'поселок глажево', 'поселок кобринское', 'деревня гарболово',\n",
       "       'деревня юкки', 'поселок станции приветнинское',\n",
       "       'деревня мануйлово', 'деревня пчева', 'поселок цвылево',\n",
       "       'поселок мельниково', 'поселок пудость', 'поселок усть-луга',\n",
       "       'светогорск', 'любань', 'поселок селезнево',\n",
       "       'поселок городского типа рябово', 'каменногорск', 'деревня кривко',\n",
       "       'поселок глебычево', 'деревня парицы', 'поселок жилпоселок',\n",
       "       'поселок городского типа мга', 'поселок войскорово',\n",
       "       'село никольское', 'поселок стеклянный',\n",
       "       'поселок городского типа важины', 'поселок мыза-ивановка',\n",
       "       'село русско-высоцкое', 'поселок городского типа форносово',\n",
       "       'село старая ладога', 'поселок житково',\n",
       "       'городской поселок виллози', 'деревня лампово',\n",
       "       'деревня шпаньково', 'деревня лаврики', 'поселок сумино',\n",
       "       'поселок возрождение', 'деревня старосиверская',\n",
       "       'поселок кикерино', 'деревня старое хинколово',\n",
       "       'поселок пригородный', 'поселок торфяное',\n",
       "       'городской поселок будогощь', 'поселок суходолье',\n",
       "       'поселок красная долина', 'деревня хапо-ое',\n",
       "       'поселок городского типа дружная горка', 'поселок лисий нос',\n",
       "       'деревня яльгелево', 'село рождествено', 'деревня старополье',\n",
       "       'поселок левашово', 'деревня сяськелево', 'деревня камышовка',\n",
       "       'садоводческое некоммерческое товарищество лесная поляна',\n",
       "       'деревня хязельки', 'поселок жилгородок',\n",
       "       'поселок городского типа павлово', 'деревня ялгино',\n",
       "       'поселок новый учхоз', 'городской поселок рощино',\n",
       "       'поселок гончарово', 'поселок почап', 'поселок саперное',\n",
       "       'поселок платформа 69-й километр', 'поселок каложицы',\n",
       "       'деревня фалилеево', 'деревня пельгора',\n",
       "       'поселок городского типа лесогорский', 'деревня торошковичи',\n",
       "       'поселок белоостров', 'поселок алексеевка', 'поселок серебрянский',\n",
       "       'поселок лукаши', 'деревня щеглово', 'деревня тарасово',\n",
       "       'поселок кингисеппский',\n",
       "       'поселок при железнодорожной станции вещево', 'поселок ушаки',\n",
       "       'деревня котлы', 'деревня сижно', 'деревня торосово',\n",
       "       'поселок форт красная горка', 'деревня новолисино',\n",
       "       'поселок станции громово', 'деревня глинка',\n",
       "       'поселок городского типа назия', 'деревня старая пустошь',\n",
       "       'поселок коммунары', 'поселок починок',\n",
       "       'поселок городского типа вознесенье', 'деревня разбегаево',\n",
       "       'поселок гладкое',\n",
       "       'поселок при железнодорожной станции приветнинское',\n",
       "       'поселок тесово-4', 'деревня бор', 'поселок коробицыно',\n",
       "       'деревня большая вруда', 'деревня курковицы',\n",
       "       'городской поселок советский', 'поселок кобралово',\n",
       "       'деревня суоранда', 'поселок городского типа кондратьево',\n",
       "       'коттеджный поселок счастье', 'поселок любань', 'деревня реброво',\n",
       "       'деревня зимитицы', 'деревня тойворово', 'поселок семиозерье',\n",
       "       'поселок лесное', 'поселок совхозный', 'поселок ленинское',\n",
       "       'поселок суйда', 'деревня нижние осельки', 'поселок станции свирь',\n",
       "       'поселок перово', 'высоцк', 'поселок гарболово', 'село шум',\n",
       "       'поселок котельский', 'поселок станции лужайка',\n",
       "       'деревня большая пустомержа', 'поселок красносельское',\n",
       "       'деревня вахнова кара', 'деревня пижма',\n",
       "       'коттеджный поселок кивеннапа север', 'поселок ромашки',\n",
       "       'деревня каськово', 'деревня куровицы', 'поселок плоское',\n",
       "       'поселок городского типа большая ижора', 'поселок кирпичное',\n",
       "       'деревня ям-тесово', 'деревня раздолье', 'деревня терпилицы',\n",
       "       'поселок шугозеро', 'деревня ваганово', 'поселок пушное',\n",
       "       'садовое товарищество садко', 'поселок усть-ижора',\n",
       "       'деревня выскатка', 'городской поселок свирьстрой',\n",
       "       'поселок громово', 'деревня кисельня', 'деревня трубников бор',\n",
       "       'поселок калитино', 'поселок высокоключевой',\n",
       "       'садовое товарищество приладожский',\n",
       "       'поселок пансионат зеленый бор', 'деревня ненимяки',\n",
       "       'деревня снегиревка', 'деревня рапполово', 'деревня пустынка',\n",
       "       'поселок рабитицы', 'деревня большой сабск', 'деревня русско',\n",
       "       'деревня лупполово', 'деревня большое рейзино',\n",
       "       'деревня малая романовка', 'поселок дружноселье', 'поселок пчевжа',\n",
       "       'поселок володарское', 'деревня нижняя',\n",
       "       'коттеджный поселок лесное', 'деревня тихковицы',\n",
       "       'деревня борисова грива', 'поселок дзержинского'], dtype=object)"
      ]
     },
     "execution_count": 21,
     "metadata": {},
     "output_type": "execute_result"
    }
   ],
   "source": [
    "data['locality_name'].unique()"
   ]
  },
  {
   "cell_type": "markdown",
   "metadata": {},
   "source": [
    "Очевидно, что городской поселок и поселок городского типа - это одно и то же. Заменим \"городской поселок\" на \"поселок городского типа\"."
   ]
  },
  {
   "cell_type": "code",
   "execution_count": 22,
   "metadata": {},
   "outputs": [],
   "source": [
    "data['locality_name'] = data['locality_name'].str.replace(\"городской поселок\", \"поселок городского типа\")"
   ]
  },
  {
   "cell_type": "code",
   "execution_count": 23,
   "metadata": {},
   "outputs": [
    {
     "name": "stdout",
     "output_type": "stream",
     "text": [
      "после обработки, количество уникальных значений:\n"
     ]
    },
    {
     "data": {
      "text/plain": [
       "324"
      ]
     },
     "execution_count": 23,
     "metadata": {},
     "output_type": "execute_result"
    }
   ],
   "source": [
    "print(\"после обработки, количество уникальных значений:\")\n",
    "data['locality_name'].unique().shape[0]"
   ]
  },
  {
   "cell_type": "markdown",
   "metadata": {},
   "source": [
    "Если «поселок Рябово» и «поселок городского типа Рябово» - это один и тот же населённый пункт, то заменим название на \"поселок городского типа Рябово\":"
   ]
  },
  {
   "cell_type": "code",
   "execution_count": 24,
   "metadata": {},
   "outputs": [
    {
     "data": {
      "text/plain": [
       "323"
      ]
     },
     "execution_count": 24,
     "metadata": {},
     "output_type": "execute_result"
    }
   ],
   "source": [
    "data['locality_name'] = data['locality_name'].str.replace(\"поселок рябово\", \"поселок городского типа рябово\")\n",
    "data['locality_name'].unique().shape[0]"
   ]
  },
  {
   "cell_type": "markdown",
   "metadata": {},
   "source": [
    "Посмотрим наличие явных дубликатов:"
   ]
  },
  {
   "cell_type": "code",
   "execution_count": 25,
   "metadata": {},
   "outputs": [
    {
     "name": "stdout",
     "output_type": "stream",
     "text": [
      "Количество дубликатов после обработки:\n"
     ]
    },
    {
     "data": {
      "text/plain": [
       "0"
      ]
     },
     "execution_count": 25,
     "metadata": {},
     "output_type": "execute_result"
    }
   ],
   "source": [
    "print('Количество дубликатов после обработки:')\n",
    "data.duplicated().sum()"
   ]
  },
  {
   "cell_type": "markdown",
   "metadata": {},
   "source": [
    "Находим и устраняем редкие и выбивающиеся значения."
   ]
  },
  {
   "cell_type": "markdown",
   "metadata": {},
   "source": [
    "Для начала с помощью .describe() посмотрим как распределились данные:"
   ]
  },
  {
   "cell_type": "code",
   "execution_count": 26,
   "metadata": {},
   "outputs": [
    {
     "data": {
      "text/html": [
       "<div>\n",
       "<style scoped>\n",
       "    .dataframe tbody tr th:only-of-type {\n",
       "        vertical-align: middle;\n",
       "    }\n",
       "\n",
       "    .dataframe tbody tr th {\n",
       "        vertical-align: top;\n",
       "    }\n",
       "\n",
       "    .dataframe thead th {\n",
       "        text-align: right;\n",
       "    }\n",
       "</style>\n",
       "<table border=\"1\" class=\"dataframe\">\n",
       "  <thead>\n",
       "    <tr style=\"text-align: right;\">\n",
       "      <th></th>\n",
       "      <th>total_images</th>\n",
       "      <th>last_price</th>\n",
       "      <th>total_area</th>\n",
       "      <th>rooms</th>\n",
       "      <th>ceiling_height</th>\n",
       "      <th>floors_total</th>\n",
       "      <th>living_area</th>\n",
       "      <th>floor</th>\n",
       "      <th>kitchen_area</th>\n",
       "      <th>balcony</th>\n",
       "      <th>airports_nearest</th>\n",
       "      <th>city_centers_nearest</th>\n",
       "      <th>parks_around3000</th>\n",
       "      <th>parks_nearest</th>\n",
       "      <th>ponds_around3000</th>\n",
       "      <th>ponds_nearest</th>\n",
       "      <th>days_exposition</th>\n",
       "    </tr>\n",
       "  </thead>\n",
       "  <tbody>\n",
       "    <tr>\n",
       "      <th>count</th>\n",
       "      <td>23699.000000</td>\n",
       "      <td>2.369900e+04</td>\n",
       "      <td>23699.000000</td>\n",
       "      <td>23699.000000</td>\n",
       "      <td>14504.000000</td>\n",
       "      <td>23613.000000</td>\n",
       "      <td>21796.000000</td>\n",
       "      <td>23699.000000</td>\n",
       "      <td>21421.000000</td>\n",
       "      <td>23699.000000</td>\n",
       "      <td>18157.000000</td>\n",
       "      <td>18180.000000</td>\n",
       "      <td>18181.000000</td>\n",
       "      <td>8079.000000</td>\n",
       "      <td>18181.000000</td>\n",
       "      <td>9110.000000</td>\n",
       "      <td>20518.000000</td>\n",
       "    </tr>\n",
       "    <tr>\n",
       "      <th>mean</th>\n",
       "      <td>9.858475</td>\n",
       "      <td>6.541549e+06</td>\n",
       "      <td>60.348651</td>\n",
       "      <td>2.070636</td>\n",
       "      <td>2.771499</td>\n",
       "      <td>10.673824</td>\n",
       "      <td>34.457852</td>\n",
       "      <td>5.892358</td>\n",
       "      <td>10.569807</td>\n",
       "      <td>0.591080</td>\n",
       "      <td>28793.672193</td>\n",
       "      <td>14191.277833</td>\n",
       "      <td>0.611408</td>\n",
       "      <td>490.804555</td>\n",
       "      <td>0.770255</td>\n",
       "      <td>517.980900</td>\n",
       "      <td>180.888634</td>\n",
       "    </tr>\n",
       "    <tr>\n",
       "      <th>std</th>\n",
       "      <td>5.682529</td>\n",
       "      <td>1.088701e+07</td>\n",
       "      <td>35.654083</td>\n",
       "      <td>1.078405</td>\n",
       "      <td>1.261056</td>\n",
       "      <td>6.597173</td>\n",
       "      <td>22.030445</td>\n",
       "      <td>4.885249</td>\n",
       "      <td>5.905438</td>\n",
       "      <td>0.959298</td>\n",
       "      <td>12630.880622</td>\n",
       "      <td>8608.386210</td>\n",
       "      <td>0.802074</td>\n",
       "      <td>342.317995</td>\n",
       "      <td>0.938346</td>\n",
       "      <td>277.720643</td>\n",
       "      <td>219.727988</td>\n",
       "    </tr>\n",
       "    <tr>\n",
       "      <th>min</th>\n",
       "      <td>0.000000</td>\n",
       "      <td>1.219000e+04</td>\n",
       "      <td>12.000000</td>\n",
       "      <td>0.000000</td>\n",
       "      <td>1.000000</td>\n",
       "      <td>1.000000</td>\n",
       "      <td>2.000000</td>\n",
       "      <td>1.000000</td>\n",
       "      <td>1.300000</td>\n",
       "      <td>0.000000</td>\n",
       "      <td>0.000000</td>\n",
       "      <td>181.000000</td>\n",
       "      <td>0.000000</td>\n",
       "      <td>1.000000</td>\n",
       "      <td>0.000000</td>\n",
       "      <td>13.000000</td>\n",
       "      <td>1.000000</td>\n",
       "    </tr>\n",
       "    <tr>\n",
       "      <th>25%</th>\n",
       "      <td>6.000000</td>\n",
       "      <td>3.400000e+06</td>\n",
       "      <td>40.000000</td>\n",
       "      <td>1.000000</td>\n",
       "      <td>2.520000</td>\n",
       "      <td>5.000000</td>\n",
       "      <td>18.600000</td>\n",
       "      <td>2.000000</td>\n",
       "      <td>7.000000</td>\n",
       "      <td>0.000000</td>\n",
       "      <td>18585.000000</td>\n",
       "      <td>9238.000000</td>\n",
       "      <td>0.000000</td>\n",
       "      <td>288.000000</td>\n",
       "      <td>0.000000</td>\n",
       "      <td>294.000000</td>\n",
       "      <td>45.000000</td>\n",
       "    </tr>\n",
       "    <tr>\n",
       "      <th>50%</th>\n",
       "      <td>9.000000</td>\n",
       "      <td>4.650000e+06</td>\n",
       "      <td>52.000000</td>\n",
       "      <td>2.000000</td>\n",
       "      <td>2.650000</td>\n",
       "      <td>9.000000</td>\n",
       "      <td>30.000000</td>\n",
       "      <td>4.000000</td>\n",
       "      <td>9.100000</td>\n",
       "      <td>0.000000</td>\n",
       "      <td>26726.000000</td>\n",
       "      <td>13098.500000</td>\n",
       "      <td>0.000000</td>\n",
       "      <td>455.000000</td>\n",
       "      <td>1.000000</td>\n",
       "      <td>502.000000</td>\n",
       "      <td>95.000000</td>\n",
       "    </tr>\n",
       "    <tr>\n",
       "      <th>75%</th>\n",
       "      <td>14.000000</td>\n",
       "      <td>6.800000e+06</td>\n",
       "      <td>69.900000</td>\n",
       "      <td>3.000000</td>\n",
       "      <td>2.800000</td>\n",
       "      <td>16.000000</td>\n",
       "      <td>42.300000</td>\n",
       "      <td>8.000000</td>\n",
       "      <td>12.000000</td>\n",
       "      <td>1.000000</td>\n",
       "      <td>37273.000000</td>\n",
       "      <td>16293.000000</td>\n",
       "      <td>1.000000</td>\n",
       "      <td>612.000000</td>\n",
       "      <td>1.000000</td>\n",
       "      <td>729.000000</td>\n",
       "      <td>232.000000</td>\n",
       "    </tr>\n",
       "    <tr>\n",
       "      <th>max</th>\n",
       "      <td>50.000000</td>\n",
       "      <td>7.630000e+08</td>\n",
       "      <td>900.000000</td>\n",
       "      <td>19.000000</td>\n",
       "      <td>100.000000</td>\n",
       "      <td>60.000000</td>\n",
       "      <td>409.700000</td>\n",
       "      <td>33.000000</td>\n",
       "      <td>112.000000</td>\n",
       "      <td>5.000000</td>\n",
       "      <td>84869.000000</td>\n",
       "      <td>65968.000000</td>\n",
       "      <td>3.000000</td>\n",
       "      <td>3190.000000</td>\n",
       "      <td>3.000000</td>\n",
       "      <td>1344.000000</td>\n",
       "      <td>1580.000000</td>\n",
       "    </tr>\n",
       "  </tbody>\n",
       "</table>\n",
       "</div>"
      ],
      "text/plain": [
       "       total_images    last_price    total_area         rooms  ceiling_height  \\\n",
       "count  23699.000000  2.369900e+04  23699.000000  23699.000000    14504.000000   \n",
       "mean       9.858475  6.541549e+06     60.348651      2.070636        2.771499   \n",
       "std        5.682529  1.088701e+07     35.654083      1.078405        1.261056   \n",
       "min        0.000000  1.219000e+04     12.000000      0.000000        1.000000   \n",
       "25%        6.000000  3.400000e+06     40.000000      1.000000        2.520000   \n",
       "50%        9.000000  4.650000e+06     52.000000      2.000000        2.650000   \n",
       "75%       14.000000  6.800000e+06     69.900000      3.000000        2.800000   \n",
       "max       50.000000  7.630000e+08    900.000000     19.000000      100.000000   \n",
       "\n",
       "       floors_total   living_area         floor  kitchen_area       balcony  \\\n",
       "count  23613.000000  21796.000000  23699.000000  21421.000000  23699.000000   \n",
       "mean      10.673824     34.457852      5.892358     10.569807      0.591080   \n",
       "std        6.597173     22.030445      4.885249      5.905438      0.959298   \n",
       "min        1.000000      2.000000      1.000000      1.300000      0.000000   \n",
       "25%        5.000000     18.600000      2.000000      7.000000      0.000000   \n",
       "50%        9.000000     30.000000      4.000000      9.100000      0.000000   \n",
       "75%       16.000000     42.300000      8.000000     12.000000      1.000000   \n",
       "max       60.000000    409.700000     33.000000    112.000000      5.000000   \n",
       "\n",
       "       airports_nearest  city_centers_nearest  parks_around3000  \\\n",
       "count      18157.000000          18180.000000      18181.000000   \n",
       "mean       28793.672193          14191.277833          0.611408   \n",
       "std        12630.880622           8608.386210          0.802074   \n",
       "min            0.000000            181.000000          0.000000   \n",
       "25%        18585.000000           9238.000000          0.000000   \n",
       "50%        26726.000000          13098.500000          0.000000   \n",
       "75%        37273.000000          16293.000000          1.000000   \n",
       "max        84869.000000          65968.000000          3.000000   \n",
       "\n",
       "       parks_nearest  ponds_around3000  ponds_nearest  days_exposition  \n",
       "count    8079.000000      18181.000000    9110.000000     20518.000000  \n",
       "mean      490.804555          0.770255     517.980900       180.888634  \n",
       "std       342.317995          0.938346     277.720643       219.727988  \n",
       "min         1.000000          0.000000      13.000000         1.000000  \n",
       "25%       288.000000          0.000000     294.000000        45.000000  \n",
       "50%       455.000000          1.000000     502.000000        95.000000  \n",
       "75%       612.000000          1.000000     729.000000       232.000000  \n",
       "max      3190.000000          3.000000    1344.000000      1580.000000  "
      ]
     },
     "execution_count": 26,
     "metadata": {},
     "output_type": "execute_result"
    }
   ],
   "source": [
    "data.describe()"
   ]
  },
  {
   "cell_type": "markdown",
   "metadata": {},
   "source": [
    "total_images - ничего выдающегося, можно оставить всё как есть"
   ]
  },
  {
   "cell_type": "markdown",
   "metadata": {},
   "source": [
    "last_price\n",
    "Посмотрим на гистограмму:"
   ]
  },
  {
   "cell_type": "code",
   "execution_count": 27,
   "metadata": {},
   "outputs": [
    {
     "data": {
      "text/plain": [
       "array([[<AxesSubplot:title={'center':'last_price'}>]], dtype=object)"
      ]
     },
     "execution_count": 27,
     "metadata": {},
     "output_type": "execute_result"
    },
    {
     "data": {
      "image/png": "[encoded data removed]",
      "text/plain": [
       "<Figure size 432x288 with 1 Axes>"
      ]
     },
     "metadata": {
      "needs_background": "light"
     },
     "output_type": "display_data"
    }
   ],
   "source": [
    "data.hist('last_price', bins = 50, range = (0, 100000000))"
   ]
  },
  {
   "cell_type": "code",
   "execution_count": 28,
   "metadata": {},
   "outputs": [
    {
     "name": "stdout",
     "output_type": "stream",
     "text": [
      "Количество квартир, стоимостью меньше 500000: 14\n"
     ]
    }
   ],
   "source": [
    "print(\"Количество квартир, стоимостью меньше 500000:\", data.query('last_price<500000')['last_price'].count())"
   ]
  },
  {
   "cell_type": "code",
   "execution_count": 29,
   "metadata": {},
   "outputs": [
    {
     "name": "stdout",
     "output_type": "stream",
     "text": [
      "Количество квартир, дороже 50млн: 131\n",
      "Количество квартир, дороже 100млн: 37\n",
      "Количество квартир, дороже 200млн: 9\n"
     ]
    }
   ],
   "source": [
    "print(\"Количество квартир, дороже 50млн:\", data.query('last_price>50000000')['last_price'].count())\n",
    "print(\"Количество квартир, дороже 100млн:\", data.query('last_price>100000000')['last_price'].count())\n",
    "print(\"Количество квартир, дороже 200млн:\", data.query('last_price>200000000')['last_price'].count())\n"
   ]
  },
  {
   "cell_type": "markdown",
   "metadata": {},
   "source": [
    "Думаю, можно избавиться от квартир, дороже 100млн и дешевле 500000"
   ]
  },
  {
   "cell_type": "code",
   "execution_count": 30,
   "metadata": {},
   "outputs": [],
   "source": [
    "data.drop(index=data.query('last_price<500000').index, inplace=True)\n",
    "data.drop(index=data.query('last_price>100000000').index, inplace=True)\n"
   ]
  },
  {
   "cell_type": "code",
   "execution_count": 31,
   "metadata": {},
   "outputs": [
    {
     "data": {
      "text/plain": [
       "array([[<AxesSubplot:title={'center':'last_price'}>]], dtype=object)"
      ]
     },
     "execution_count": 31,
     "metadata": {},
     "output_type": "execute_result"
    },
    {
     "data": {
      "image/png": "[encoded data removed]",
      "text/plain": [
       "<Figure size 432x288 with 1 Axes>"
      ]
     },
     "metadata": {
      "needs_background": "light"
     },
     "output_type": "display_data"
    }
   ],
   "source": [
    "data.hist('last_price', bins = 50)"
   ]
  },
  {
   "cell_type": "markdown",
   "metadata": {},
   "source": [
    "Общая площадь"
   ]
  },
  {
   "cell_type": "markdown",
   "metadata": {},
   "source": [
    "Посмотрим на квартиры с подозрительно маленькой площадью. Сейчас рынок предлагает студии, которые могут иметь небольшие площади, надо быть аккуратной."
   ]
  },
  {
   "cell_type": "code",
   "execution_count": 32,
   "metadata": {},
   "outputs": [
    {
     "name": "stdout",
     "output_type": "stream",
     "text": [
      "Количество квартир, меньше 15 кв.м: 6\n",
      "Количество квартир, меньше 20 кв.м: 27\n",
      "Количество квартир, меньше 25 кв.м: 190\n"
     ]
    }
   ],
   "source": [
    "print(\"Количество квартир, меньше 15 кв.м:\", data.query('total_area<15')['total_area'].count())\n",
    "print(\"Количество квартир, меньше 20 кв.м:\", data.query('total_area<20')[\"total_area\"].count())\n",
    "print(\"Количество квартир, меньше 25 кв.м:\", data.query('total_area<25')[\"total_area\"].count())\n"
   ]
  },
  {
   "cell_type": "markdown",
   "metadata": {},
   "source": [
    "И на квартиры с очень большой площадью."
   ]
  },
  {
   "cell_type": "code",
   "execution_count": 33,
   "metadata": {},
   "outputs": [
    {
     "name": "stdout",
     "output_type": "stream",
     "text": [
      "Количество квартир, больше 1000 кв.м 0\n",
      "Количество квартир, больше 700 кв.м 0\n",
      "Количество квартир, больше 500 кв.м 3\n",
      "Количество квартир, от 400 кв.м 16\n",
      "Количество квартир, от 350 кв.м 30\n"
     ]
    }
   ],
   "source": [
    "print('Количество квартир, больше 1000 кв.м', data.query('total_area >1000')['total_area'].count())\n",
    "print('Количество квартир, больше 700 кв.м', data.query('total_area>700')['total_area'].count())\n",
    "print(\"Количество квартир, больше 500 кв.м\", data.query('total_area>500')['total_area'].count())\n",
    "print(\"Количество квартир, от 400 кв.м\", data.query('total_area>=400')['total_area'].count())\n",
    "print(\"Количество квартир, от 350 кв.м\", data.query('total_area>=350')['total_area'].count())\n"
   ]
  },
  {
   "cell_type": "markdown",
   "metadata": {},
   "source": [
    "Пожалуй, стоит избавиться от квартир, площадью меньше 20 и больше 400кв.м"
   ]
  },
  {
   "cell_type": "code",
   "execution_count": 34,
   "metadata": {},
   "outputs": [],
   "source": [
    "data.drop(index=data.query('total_area<20 or total_area>400').index, inplace=True)"
   ]
  },
  {
   "cell_type": "code",
   "execution_count": 35,
   "metadata": {},
   "outputs": [
    {
     "data": {
      "text/plain": [
       "array([[<AxesSubplot:title={'center':'total_area'}>]], dtype=object)"
      ]
     },
     "execution_count": 35,
     "metadata": {},
     "output_type": "execute_result"
    },
    {
     "data": {
      "image/png": "[encoded data removed]",
      "text/plain": [
       "<Figure size 432x288 with 1 Axes>"
      ]
     },
     "metadata": {
      "needs_background": "light"
     },
     "output_type": "display_data"
    }
   ],
   "source": [
    "data.hist('total_area',bins = 50)"
   ]
  },
  {
   "cell_type": "markdown",
   "metadata": {},
   "source": [
    "количество комнат"
   ]
  },
  {
   "cell_type": "code",
   "execution_count": 36,
   "metadata": {},
   "outputs": [
    {
     "data": {
      "text/plain": [
       "array([ 3,  1,  2,  4,  5,  6,  0,  7, 11,  8, 14, 10,  9, 19, 16])"
      ]
     },
     "execution_count": 36,
     "metadata": {},
     "output_type": "execute_result"
    }
   ],
   "source": [
    "data[\"rooms\"].unique()"
   ]
  },
  {
   "cell_type": "markdown",
   "metadata": {},
   "source": [
    "Здесь, похоже всё в порядке, оставим как есть"
   ]
  },
  {
   "cell_type": "markdown",
   "metadata": {},
   "source": [
    "высота потолков"
   ]
  },
  {
   "cell_type": "markdown",
   "metadata": {},
   "source": [
    "Если предположить, что минимальная высота потолка в квартире 2,3м а максимальная 5,5 (например в сталинке или в дореволюционном фонде, который в Петербурге присутствует, то можно выделить этот диапазон как норму. Все значения меньше будем считать выбросами, все значения от 23 до 55 будем считать написанными без запятой (потом поделим ее на 10), все значения от 230  до 550 (если такие будут) будем считать записанными в см (потом поделим ее на 100). Прочие данные будем считать выбросами."
   ]
  },
  {
   "cell_type": "code",
   "execution_count": 37,
   "metadata": {},
   "outputs": [
    {
     "name": "stdout",
     "output_type": "stream",
     "text": [
      "Квартир, высотой до 2,3м: 16\n",
      "Квартир, высотой от 2,3м до 5,5м: 14403\n",
      "Квартир, высотой от 5,5м до 23м: 10\n",
      "Квартир, высотой от 23м до 55м: 20\n",
      "Квартир, высотой от 55м до 230м: 1\n",
      "Квартир, выше 230м: 0\n"
     ]
    }
   ],
   "source": [
    "print(\"Квартир, высотой до 2,3м:\",data.query('ceiling_height<2.3')['ceiling_height'].count())\n",
    "print(\"Квартир, высотой от 2,3м до 5,5м:\",data.query('ceiling_height >= 2.3 and ceiling_height <=5.5')['ceiling_height'].count())\n",
    "print(\"Квартир, высотой от 5,5м до 23м:\",data.query('ceiling_height > 5.5 and ceiling_height < 23')['ceiling_height'].count())\n",
    "print(\"Квартир, высотой от 23м до 55м:\",data.query('ceiling_height >= 23 and ceiling_height <=55')['ceiling_height'].count())\n",
    "print(\"Квартир, высотой от 55м до 230м:\",data.query('ceiling_height > 55 and ceiling_height < 230')['ceiling_height'].count())\n",
    "print(\"Квартир, выше 230м:\",data.query('ceiling_height > 230')['ceiling_height'].count())\n"
   ]
  },
  {
   "cell_type": "markdown",
   "metadata": {},
   "source": [
    "Получается, имеем два рабочих диапазона: нормальный и тот, который будем делить на десять. Остальное уберем."
   ]
  },
  {
   "cell_type": "code",
   "execution_count": 38,
   "metadata": {},
   "outputs": [],
   "source": [
    "data.drop(index = data.query('(ceiling_height<2.3)or(ceiling_height>55)or(ceiling_height>5.5 and ceiling_height<23)').index, inplace = True)\n",
    "data.update(data[(data['ceiling_height']>=23) & (data['ceiling_height']<=55)]['ceiling_height']/10)\n"
   ]
  },
  {
   "cell_type": "code",
   "execution_count": 39,
   "metadata": {},
   "outputs": [
    {
     "data": {
      "text/plain": [
       "array([[<AxesSubplot:title={'center':'ceiling_height'}>]], dtype=object)"
      ]
     },
     "execution_count": 39,
     "metadata": {},
     "output_type": "execute_result"
    },
    {
     "data": {
      "image/png": "[encoded data removed]",
      "text/plain": [
       "<Figure size 432x288 with 1 Axes>"
      ]
     },
     "metadata": {
      "needs_background": "light"
     },
     "output_type": "display_data"
    }
   ],
   "source": [
    "data.hist('ceiling_height', bins = 50)"
   ]
  },
  {
   "cell_type": "markdown",
   "metadata": {},
   "source": [
    "Как видно на гистограмме, на 2,5м приходится пик, что похоже на правду, поскольку это типичная высота старого фонда, состоящего из хрущёвок и брежневок, кроме того, основная часть нового фонда эконом-класса имеет высоту потолка до 2,6м. Кроме того, высота потолка редко бывает 2,8 - 2,9м, что тоже отражается на гистограмме. 3м - еще один стандарт, здесь опять всплеск."
   ]
  },
  {
   "cell_type": "markdown",
   "metadata": {},
   "source": [
    "floors_total"
   ]
  },
  {
   "cell_type": "markdown",
   "metadata": {},
   "source": [
    "Посмотрим диапазон этажностей представленных домов"
   ]
  },
  {
   "cell_type": "code",
   "execution_count": 40,
   "metadata": {},
   "outputs": [
    {
     "name": "stdout",
     "output_type": "stream",
     "text": [
      "<IntegerArray>\n",
      "[  16,   11,    5,   14,   12,   26,   24,   27,    9,    6,   17,   25,    3,\n",
      "   23,   19,   18,    4,   22,    8,    2,   10,    7,   13,   15, <NA>,   20,\n",
      "   28,   36,   21,   35,   34,   60,    1,   29,   33,   52]\n",
      "Length: 36, dtype: Int8\n",
      "Минимальная этажность: 1\n",
      "Максимальная этажность: 60\n"
     ]
    }
   ],
   "source": [
    "floors_unique = data['floors_total'].unique()\n",
    "print(floors_unique)\n",
    "print(\"Минимальная этажность:\", floors_unique.min())\n",
    "print(\"Максимальная этажность:\",floors_unique.max())\n"
   ]
  },
  {
   "cell_type": "markdown",
   "metadata": {},
   "source": [
    "Этажность хорошая, этажей, ниже первого нет, 60й этаж в Петербурге возможен."
   ]
  },
  {
   "cell_type": "code",
   "execution_count": 41,
   "metadata": {},
   "outputs": [
    {
     "data": {
      "text/plain": [
       "array([[<AxesSubplot:title={'center':'floors_total'}>]], dtype=object)"
      ]
     },
     "execution_count": 41,
     "metadata": {},
     "output_type": "execute_result"
    },
    {
     "data": {
      "image/png": "[encoded data removed]",
      "text/plain": [
       "<Figure size 432x288 with 1 Axes>"
      ]
     },
     "metadata": {
      "needs_background": "light"
     },
     "output_type": "display_data"
    }
   ],
   "source": [
    "data.hist('floors_total', bins = 30)"
   ]
  },
  {
   "cell_type": "markdown",
   "metadata": {},
   "source": [
    "жилая площадь"
   ]
  },
  {
   "cell_type": "code",
   "execution_count": 42,
   "metadata": {},
   "outputs": [
    {
     "data": {
      "text/plain": [
       "<AxesSubplot:>"
      ]
     },
     "execution_count": 42,
     "metadata": {},
     "output_type": "execute_result"
    },
    {
     "data": {
      "image/png": "[encoded data removed]",
      "text/plain": [
       "<Figure size 432x288 with 1 Axes>"
      ]
     },
     "metadata": {
      "needs_background": "light"
     },
     "output_type": "display_data"
    }
   ],
   "source": [
    "data['living_area'].hist(bins = 30)"
   ]
  },
  {
   "cell_type": "code",
   "execution_count": 43,
   "metadata": {},
   "outputs": [
    {
     "name": "stdout",
     "output_type": "stream",
     "text": [
      "Квартир, с жилплощадью более 190 кв.м: 19\n",
      "Квартир, с жилплощадью меньше 10 кв.м: 24\n"
     ]
    }
   ],
   "source": [
    "print(\"Квартир, с жилплощадью более 190 кв.м:\", data.query('living_area > 190')['living_area'].count())\n",
    "print(\"Квартир, с жилплощадью меньше 10 кв.м:\", data.query('living_area < 10')['living_area'].count())\n"
   ]
  },
  {
   "cell_type": "markdown",
   "metadata": {},
   "source": [
    "Похоже, мы можем избавиться от квартир, жилой площадью меньше 10 и больше 190кв.м"
   ]
  },
  {
   "cell_type": "code",
   "execution_count": 44,
   "metadata": {},
   "outputs": [],
   "source": [
    "data.drop(index=data.query('living_area<10 or living_area>190').index, inplace = True)"
   ]
  },
  {
   "cell_type": "markdown",
   "metadata": {},
   "source": [
    "Этаж, на котором расположена квартира"
   ]
  },
  {
   "cell_type": "markdown",
   "metadata": {},
   "source": [
    "Здесь стоит проверить, что заявленный этаж не больше этажности дома"
   ]
  },
  {
   "cell_type": "code",
   "execution_count": 45,
   "metadata": {},
   "outputs": [
    {
     "name": "stdout",
     "output_type": "stream",
     "text": [
      "Количество объявлений, в которых заявленный этаж выше этажности дома: 0\n"
     ]
    }
   ],
   "source": [
    "print(\"Количество объявлений, в которых заявленный этаж выше этажности дома:\", data.query('floor>floors_total')['floor'].count())"
   ]
  },
  {
   "cell_type": "code",
   "execution_count": 46,
   "metadata": {},
   "outputs": [
    {
     "data": {
      "text/plain": [
       "<AxesSubplot:>"
      ]
     },
     "execution_count": 46,
     "metadata": {},
     "output_type": "execute_result"
    },
    {
     "data": {
      "image/png": "[encoded data removed]",
      "text/plain": [
       "<Figure size 432x288 with 1 Axes>"
      ]
     },
     "metadata": {
      "needs_background": "light"
     },
     "output_type": "display_data"
    }
   ],
   "source": [
    "data['floor'].hist(bins = 30)"
   ]
  },
  {
   "cell_type": "markdown",
   "metadata": {},
   "source": [
    "Как видим, максимум приходится на первый этаж. Ну, во-первых он есть в доме любой этажности, во-вторых такие квартиры дольше продаются, больше накапливается объявлений. В остальном неплохо."
   ]
  },
  {
   "cell_type": "markdown",
   "metadata": {},
   "source": [
    "площадь кухни"
   ]
  },
  {
   "cell_type": "code",
   "execution_count": 47,
   "metadata": {},
   "outputs": [
    {
     "name": "stdout",
     "output_type": "stream",
     "text": [
      "Минимальная  и максимальная площадь кухни 1.3 ,  107.0\n"
     ]
    }
   ],
   "source": [
    "kitchen_uni = data['kitchen_area']\n",
    "print(\"Минимальная  и максимальная площадь кухни\", kitchen_uni.min(), ', ', kitchen_uni.max())\n"
   ]
  },
  {
   "cell_type": "code",
   "execution_count": 48,
   "metadata": {},
   "outputs": [
    {
     "data": {
      "text/plain": [
       "<AxesSubplot:>"
      ]
     },
     "execution_count": 48,
     "metadata": {},
     "output_type": "execute_result"
    },
    {
     "data": {
      "image/png": "[encoded data removed]",
      "text/plain": [
       "<Figure size 432x288 with 1 Axes>"
      ]
     },
     "metadata": {
      "needs_background": "light"
     },
     "output_type": "display_data"
    }
   ],
   "source": [
    "data['kitchen_area'].hist(bins = 30)"
   ]
  },
  {
   "cell_type": "code",
   "execution_count": 49,
   "metadata": {},
   "outputs": [
    {
     "data": {
      "text/plain": [
       "<AxesSubplot:>"
      ]
     },
     "execution_count": 49,
     "metadata": {},
     "output_type": "execute_result"
    },
    {
     "data": {
      "image/png": "[encoded data removed]",
      "text/plain": [
       "<Figure size 432x288 with 1 Axes>"
      ]
     },
     "metadata": {
      "needs_background": "light"
     },
     "output_type": "display_data"
    }
   ],
   "source": [
    "data['kitchen_area'].hist(bins = 40, range = (0, 40))"
   ]
  },
  {
   "cell_type": "markdown",
   "metadata": {},
   "source": [
    "Очень мало кухонь, площадью менее 5 и более 40кв.м. Можно от них избавиться"
   ]
  },
  {
   "cell_type": "code",
   "execution_count": 50,
   "metadata": {},
   "outputs": [],
   "source": [
    "data.drop(index = data.query('kitchen_area<4 or kitchen_area >30').index,inplace=True)"
   ]
  },
  {
   "cell_type": "markdown",
   "metadata": {},
   "source": [
    "количество балконов"
   ]
  },
  {
   "cell_type": "code",
   "execution_count": 51,
   "metadata": {},
   "outputs": [
    {
     "data": {
      "text/plain": [
       "<AxesSubplot:>"
      ]
     },
     "execution_count": 51,
     "metadata": {},
     "output_type": "execute_result"
    },
    {
     "data": {
      "image/png": "[encoded data removed]",
      "text/plain": [
       "<Figure size 432x288 with 1 Axes>"
      ]
     },
     "metadata": {
      "needs_background": "light"
     },
     "output_type": "display_data"
    }
   ],
   "source": [
    "data['balcony'].hist()"
   ]
  },
  {
   "cell_type": "markdown",
   "metadata": {},
   "source": [
    "Здесь всё в порядке, оставим."
   ]
  },
  {
   "cell_type": "markdown",
   "metadata": {},
   "source": [
    "ближайший аэропорт"
   ]
  },
  {
   "cell_type": "code",
   "execution_count": 52,
   "metadata": {},
   "outputs": [
    {
     "data": {
      "text/plain": [
       "<AxesSubplot:>"
      ]
     },
     "execution_count": 52,
     "metadata": {},
     "output_type": "execute_result"
    },
    {
     "data": {
      "image/png": "[encoded data removed]",
      "text/plain": [
       "<Figure size 432x288 with 1 Axes>"
      ]
     },
     "metadata": {
      "needs_background": "light"
     },
     "output_type": "display_data"
    }
   ],
   "source": [
    "data['airports_nearest'].hist(bins = 100)"
   ]
  },
  {
   "cell_type": "code",
   "execution_count": 53,
   "metadata": {},
   "outputs": [
    {
     "data": {
      "text/plain": [
       "1"
      ]
     },
     "execution_count": 53,
     "metadata": {},
     "output_type": "execute_result"
    }
   ],
   "source": [
    "data.query('airports_nearest < 1000')['airports_nearest'].count()"
   ]
  },
  {
   "cell_type": "markdown",
   "metadata": {},
   "source": [
    "Видим квартиру, которая случайно \"забрела\" ближе 1000 м к аэропорту. Уберем её."
   ]
  },
  {
   "cell_type": "code",
   "execution_count": 54,
   "metadata": {},
   "outputs": [],
   "source": [
    "data.drop(index = data.query('airports_nearest<1000').index, inplace = True)"
   ]
  },
  {
   "cell_type": "markdown",
   "metadata": {},
   "source": [
    "близость к центру"
   ]
  },
  {
   "cell_type": "code",
   "execution_count": 55,
   "metadata": {},
   "outputs": [
    {
     "data": {
      "text/plain": [
       "<AxesSubplot:>"
      ]
     },
     "execution_count": 55,
     "metadata": {},
     "output_type": "execute_result"
    },
    {
     "data": {
      "image/png": "[encoded data removed]",
      "text/plain": [
       "<Figure size 432x288 with 1 Axes>"
      ]
     },
     "metadata": {
      "needs_background": "light"
     },
     "output_type": "display_data"
    }
   ],
   "source": [
    "data['city_centers_nearest'].hist(bins = 50)"
   ]
  },
  {
   "cell_type": "code",
   "execution_count": 56,
   "metadata": {},
   "outputs": [
    {
     "name": "stdout",
     "output_type": "stream",
     "text": [
      "Квартир, дальше 55км от центра: 12\n"
     ]
    }
   ],
   "source": [
    "print(\"Квартир, дальше 55км от центра:\", data.query('city_centers_nearest > 55000')['city_centers_nearest'].count())"
   ]
  },
  {
   "cell_type": "markdown",
   "metadata": {},
   "source": [
    "Как видим, квартир, расположенных далее 55км от центра 12, можно удалить"
   ]
  },
  {
   "cell_type": "code",
   "execution_count": 57,
   "metadata": {},
   "outputs": [],
   "source": [
    "data.drop(index= data.query('city_centers_nearest>55000').index, inplace = True)"
   ]
  },
  {
   "cell_type": "markdown",
   "metadata": {},
   "source": [
    "Парков, ближе 3км"
   ]
  },
  {
   "cell_type": "code",
   "execution_count": 58,
   "metadata": {},
   "outputs": [
    {
     "data": {
      "text/plain": [
       "<AxesSubplot:>"
      ]
     },
     "execution_count": 58,
     "metadata": {},
     "output_type": "execute_result"
    },
    {
     "data": {
      "image/png": "[encoded data removed]",
      "text/plain": [
       "<Figure size 432x288 with 1 Axes>"
      ]
     },
     "metadata": {
      "needs_background": "light"
     },
     "output_type": "display_data"
    }
   ],
   "source": [
    "data['parks_around3000'].hist()"
   ]
  },
  {
   "cell_type": "markdown",
   "metadata": {},
   "source": [
    "Здесь все в порядке, оставим"
   ]
  },
  {
   "cell_type": "markdown",
   "metadata": {},
   "source": [
    "парки поблизости"
   ]
  },
  {
   "cell_type": "code",
   "execution_count": 59,
   "metadata": {},
   "outputs": [
    {
     "data": {
      "text/plain": [
       "<AxesSubplot:>"
      ]
     },
     "execution_count": 59,
     "metadata": {},
     "output_type": "execute_result"
    },
    {
     "data": {
      "image/png": "[encoded data removed]",
      "text/plain": [
       "<Figure size 432x288 with 1 Axes>"
      ]
     },
     "metadata": {
      "needs_background": "light"
     },
     "output_type": "display_data"
    }
   ],
   "source": [
    "data['parks_nearest'].hist()"
   ]
  },
  {
   "cell_type": "markdown",
   "metadata": {},
   "source": [
    "Здесь тоже всё хорошо"
   ]
  },
  {
   "cell_type": "markdown",
   "metadata": {},
   "source": [
    "прудов, ближе 3км"
   ]
  },
  {
   "cell_type": "code",
   "execution_count": 60,
   "metadata": {},
   "outputs": [
    {
     "data": {
      "text/plain": [
       "<AxesSubplot:>"
      ]
     },
     "execution_count": 60,
     "metadata": {},
     "output_type": "execute_result"
    },
    {
     "data": {
      "image/png": "[encoded data removed]",
      "text/plain": [
       "<Figure size 432x288 with 1 Axes>"
      ]
     },
     "metadata": {
      "needs_background": "light"
     },
     "output_type": "display_data"
    }
   ],
   "source": [
    "data['ponds_around3000'].hist()"
   ]
  },
  {
   "cell_type": "markdown",
   "metadata": {},
   "source": [
    "Всё нормально, остаётся"
   ]
  },
  {
   "cell_type": "markdown",
   "metadata": {},
   "source": [
    "ближайшие пруды"
   ]
  },
  {
   "cell_type": "code",
   "execution_count": 61,
   "metadata": {},
   "outputs": [
    {
     "data": {
      "text/plain": [
       "<AxesSubplot:>"
      ]
     },
     "execution_count": 61,
     "metadata": {},
     "output_type": "execute_result"
    },
    {
     "data": {
      "image/png": "[encoded data removed]",
      "text/plain": [
       "<Figure size 432x288 with 1 Axes>"
      ]
     },
     "metadata": {
      "needs_background": "light"
     },
     "output_type": "display_data"
    }
   ],
   "source": [
    "data['ponds_nearest'].hist()"
   ]
  },
  {
   "cell_type": "markdown",
   "metadata": {},
   "source": [
    "дата размещения объявлений"
   ]
  },
  {
   "cell_type": "code",
   "execution_count": 62,
   "metadata": {},
   "outputs": [
    {
     "name": "stdout",
     "output_type": "stream",
     "text": [
      "Неопубликованных обявлений: 0\n",
      "Объявлений, которые висят более 2х лет:  722\n",
      "Объявлений, которые висят более 3х лет:  157\n"
     ]
    }
   ],
   "source": [
    "print('Неопубликованных обявлений:', data.query('days_exposition == 0')['days_exposition'].count())\n",
    "print(\"Объявлений, которые висят более 2х лет: \", data.query('days_exposition>365*2')['days_exposition'].count())\n",
    "print(\"Объявлений, которые висят более 3х лет: \", data.query('days_exposition>365*3')['days_exposition'].count())\n"
   ]
  },
  {
   "cell_type": "markdown",
   "metadata": {},
   "source": [
    "Пожалуй, от объявлений, которые висят более трёх лет стоит избавиться. Неопубликованных нет, это хорошо."
   ]
  },
  {
   "cell_type": "code",
   "execution_count": 63,
   "metadata": {},
   "outputs": [],
   "source": [
    "data.drop(index = data.query('days_exposition > 365*3').index, inplace = True)"
   ]
  },
  {
   "cell_type": "code",
   "execution_count": 64,
   "metadata": {},
   "outputs": [
    {
     "data": {
      "text/plain": [
       "array([[<AxesSubplot:title={'center':'days_exposition'}>]], dtype=object)"
      ]
     },
     "execution_count": 64,
     "metadata": {},
     "output_type": "execute_result"
    },
    {
     "data": {
      "image/png": "[encoded data removed]",
      "text/plain": [
       "<Figure size 432x288 with 1 Axes>"
      ]
     },
     "metadata": {
      "needs_background": "light"
     },
     "output_type": "display_data"
    }
   ],
   "source": [
    "data.hist('days_exposition', bins = 150)"
   ]
  },
  {
   "cell_type": "markdown",
   "metadata": {},
   "source": [
    "После того, как подчистили все данные, надо обновить индексацию:"
   ]
  },
  {
   "cell_type": "code",
   "execution_count": 65,
   "metadata": {},
   "outputs": [],
   "source": [
    "data.reset_index(drop = True, inplace = True)"
   ]
  },
  {
   "cell_type": "markdown",
   "metadata": {},
   "source": [
    "Определила и заполнила, где необходимо пропущенные значения, изменила типы данных на более быстрые, логичные и удобные, устранила дубликаты в названиях населённых пунктов и аномалии в столбцах"
   ]
  },
  {
   "cell_type": "markdown",
   "metadata": {},
   "source": [
    "### Посчитайте и добавьте в таблицу новые столбцы"
   ]
  },
  {
   "cell_type": "markdown",
   "metadata": {},
   "source": [
    "Добавим в таблицу столбцы со значением  \n",
    "цены за квадратный метр:"
   ]
  },
  {
   "cell_type": "code",
   "execution_count": 66,
   "metadata": {},
   "outputs": [],
   "source": [
    "data['price_one_metr'] = round(data['last_price']/data['total_area'])"
   ]
  },
  {
   "cell_type": "markdown",
   "metadata": {},
   "source": [
    "день публикации объявления:"
   ]
  },
  {
   "cell_type": "code",
   "execution_count": 67,
   "metadata": {},
   "outputs": [],
   "source": [
    "data[\"day_of_the_week\"] = data['first_day_exposition'].dt.weekday"
   ]
  },
  {
   "cell_type": "markdown",
   "metadata": {},
   "source": [
    "месяц публикации объявления"
   ]
  },
  {
   "cell_type": "code",
   "execution_count": 68,
   "metadata": {},
   "outputs": [],
   "source": [
    "data['month_of_exposition'] = data['first_day_exposition'].dt.month"
   ]
  },
  {
   "cell_type": "markdown",
   "metadata": {},
   "source": [
    "год публикации объявления"
   ]
  },
  {
   "cell_type": "code",
   "execution_count": 69,
   "metadata": {},
   "outputs": [],
   "source": [
    "data['year_of_exposition'] = data['first_day_exposition'].dt.year"
   ]
  },
  {
   "cell_type": "markdown",
   "metadata": {},
   "source": [
    "тип этажа квартиры (значения — «первый», «последний», «другой»)"
   ]
  },
  {
   "cell_type": "code",
   "execution_count": 70,
   "metadata": {},
   "outputs": [],
   "source": [
    "data[\"type_of_floor\"] = data.apply(lambda x: \"первый\" if (x.floor == 1) \n",
    "    else (\"последний\" if (x.floor == x.floors_total) & isinstance(x.floors_total,int) \n",
    "    else \"другой\"), axis=1)"
   ]
  },
  {
   "cell_type": "markdown",
   "metadata": {},
   "source": [
    "расстояние в км от центра города"
   ]
  },
  {
   "cell_type": "code",
   "execution_count": 71,
   "metadata": {},
   "outputs": [
    {
     "data": {
      "text/html": [
       "<div>\n",
       "<style scoped>\n",
       "    .dataframe tbody tr th:only-of-type {\n",
       "        vertical-align: middle;\n",
       "    }\n",
       "\n",
       "    .dataframe tbody tr th {\n",
       "        vertical-align: top;\n",
       "    }\n",
       "\n",
       "    .dataframe thead th {\n",
       "        text-align: right;\n",
       "    }\n",
       "</style>\n",
       "<table border=\"1\" class=\"dataframe\">\n",
       "  <thead>\n",
       "    <tr style=\"text-align: right;\">\n",
       "      <th></th>\n",
       "      <th>total_images</th>\n",
       "      <th>last_price</th>\n",
       "      <th>total_area</th>\n",
       "      <th>first_day_exposition</th>\n",
       "      <th>rooms</th>\n",
       "      <th>ceiling_height</th>\n",
       "      <th>floors_total</th>\n",
       "      <th>living_area</th>\n",
       "      <th>floor</th>\n",
       "      <th>is_apartment</th>\n",
       "      <th>studio</th>\n",
       "      <th>open_plan</th>\n",
       "      <th>kitchen_area</th>\n",
       "      <th>balcony</th>\n",
       "      <th>locality_name</th>\n",
       "      <th>airports_nearest</th>\n",
       "      <th>city_centers_nearest</th>\n",
       "      <th>parks_around3000</th>\n",
       "      <th>parks_nearest</th>\n",
       "      <th>ponds_around3000</th>\n",
       "      <th>ponds_nearest</th>\n",
       "      <th>days_exposition</th>\n",
       "      <th>price_one_metr</th>\n",
       "      <th>day_of_the_week</th>\n",
       "      <th>month_of_exposition</th>\n",
       "      <th>year_of_exposition</th>\n",
       "      <th>type_of_floor</th>\n",
       "      <th>center_distance_km</th>\n",
       "    </tr>\n",
       "  </thead>\n",
       "  <tbody>\n",
       "    <tr>\n",
       "      <th>0</th>\n",
       "      <td>20</td>\n",
       "      <td>13000000</td>\n",
       "      <td>108.0</td>\n",
       "      <td>2019-03-07</td>\n",
       "      <td>3</td>\n",
       "      <td>2.7</td>\n",
       "      <td>16</td>\n",
       "      <td>51.0</td>\n",
       "      <td>8</td>\n",
       "      <td>False</td>\n",
       "      <td>False</td>\n",
       "      <td>False</td>\n",
       "      <td>25.0</td>\n",
       "      <td>0</td>\n",
       "      <td>санкт-петербург</td>\n",
       "      <td>18863.0</td>\n",
       "      <td>16028.0</td>\n",
       "      <td>1.0</td>\n",
       "      <td>482.0</td>\n",
       "      <td>2.0</td>\n",
       "      <td>755.0</td>\n",
       "      <td>&lt;NA&gt;</td>\n",
       "      <td>120370.0</td>\n",
       "      <td>3</td>\n",
       "      <td>3</td>\n",
       "      <td>2019</td>\n",
       "      <td>другой</td>\n",
       "      <td>16</td>\n",
       "    </tr>\n",
       "    <tr>\n",
       "      <th>1</th>\n",
       "      <td>7</td>\n",
       "      <td>3350000</td>\n",
       "      <td>40.4</td>\n",
       "      <td>2018-12-04</td>\n",
       "      <td>1</td>\n",
       "      <td>NaN</td>\n",
       "      <td>11</td>\n",
       "      <td>18.6</td>\n",
       "      <td>1</td>\n",
       "      <td>False</td>\n",
       "      <td>False</td>\n",
       "      <td>False</td>\n",
       "      <td>11.0</td>\n",
       "      <td>2</td>\n",
       "      <td>поселок шушары</td>\n",
       "      <td>12817.0</td>\n",
       "      <td>18603.0</td>\n",
       "      <td>0.0</td>\n",
       "      <td>NaN</td>\n",
       "      <td>0.0</td>\n",
       "      <td>NaN</td>\n",
       "      <td>81</td>\n",
       "      <td>82921.0</td>\n",
       "      <td>1</td>\n",
       "      <td>12</td>\n",
       "      <td>2018</td>\n",
       "      <td>первый</td>\n",
       "      <td>19</td>\n",
       "    </tr>\n",
       "  </tbody>\n",
       "</table>\n",
       "</div>"
      ],
      "text/plain": [
       "   total_images  last_price  total_area first_day_exposition  rooms  \\\n",
       "0            20    13000000       108.0           2019-03-07      3   \n",
       "1             7     3350000        40.4           2018-12-04      1   \n",
       "\n",
       "   ceiling_height  floors_total  living_area  floor  is_apartment  studio  \\\n",
       "0             2.7            16         51.0      8         False   False   \n",
       "1             NaN            11         18.6      1         False   False   \n",
       "\n",
       "   open_plan  kitchen_area  balcony    locality_name  airports_nearest  \\\n",
       "0      False          25.0        0  санкт-петербург           18863.0   \n",
       "1      False          11.0        2   поселок шушары           12817.0   \n",
       "\n",
       "   city_centers_nearest  parks_around3000  parks_nearest  ponds_around3000  \\\n",
       "0               16028.0               1.0          482.0               2.0   \n",
       "1               18603.0               0.0            NaN               0.0   \n",
       "\n",
       "   ponds_nearest  days_exposition  price_one_metr  day_of_the_week  \\\n",
       "0          755.0             <NA>        120370.0                3   \n",
       "1            NaN               81         82921.0                1   \n",
       "\n",
       "   month_of_exposition  year_of_exposition type_of_floor  center_distance_km  \n",
       "0                    3                2019        другой                  16  \n",
       "1                   12                2018        первый                  19  "
      ]
     },
     "execution_count": 71,
     "metadata": {},
     "output_type": "execute_result"
    }
   ],
   "source": [
    "data['center_distance_km'] = round(data['city_centers_nearest']/1000).astype('Int32')\n",
    "data.head(2)"
   ]
  },
  {
   "cell_type": "markdown",
   "metadata": {},
   "source": [
    "Добавила в таблицу: цена одного квадратного метра, день публикации объявления (0 - понедельник, 1 - вторник и т.д.), месяц публикации объявления, год публикации объявления, тип этажа квартиры (значения — «первый», «последний», «другой»), расстояние в км до центра города."
   ]
  },
  {
   "cell_type": "markdown",
   "metadata": {},
   "source": [
    "### Проведем исследовательский анализ данных"
   ]
  },
  {
   "cell_type": "code",
   "execution_count": 72,
   "metadata": {},
   "outputs": [
    {
     "data": {
      "text/html": [
       "<div>\n",
       "<style scoped>\n",
       "    .dataframe tbody tr th:only-of-type {\n",
       "        vertical-align: middle;\n",
       "    }\n",
       "\n",
       "    .dataframe tbody tr th {\n",
       "        vertical-align: top;\n",
       "    }\n",
       "\n",
       "    .dataframe thead th {\n",
       "        text-align: right;\n",
       "    }\n",
       "</style>\n",
       "<table border=\"1\" class=\"dataframe\">\n",
       "  <thead>\n",
       "    <tr style=\"text-align: right;\">\n",
       "      <th></th>\n",
       "      <th>total_images</th>\n",
       "      <th>last_price</th>\n",
       "      <th>total_area</th>\n",
       "      <th>rooms</th>\n",
       "      <th>ceiling_height</th>\n",
       "      <th>floors_total</th>\n",
       "      <th>living_area</th>\n",
       "      <th>floor</th>\n",
       "      <th>kitchen_area</th>\n",
       "      <th>balcony</th>\n",
       "      <th>airports_nearest</th>\n",
       "      <th>city_centers_nearest</th>\n",
       "      <th>parks_around3000</th>\n",
       "      <th>parks_nearest</th>\n",
       "      <th>ponds_around3000</th>\n",
       "      <th>ponds_nearest</th>\n",
       "      <th>days_exposition</th>\n",
       "      <th>price_one_metr</th>\n",
       "      <th>day_of_the_week</th>\n",
       "      <th>month_of_exposition</th>\n",
       "      <th>year_of_exposition</th>\n",
       "      <th>center_distance_km</th>\n",
       "    </tr>\n",
       "  </thead>\n",
       "  <tbody>\n",
       "    <tr>\n",
       "      <th>count</th>\n",
       "      <td>23056.000000</td>\n",
       "      <td>2.305600e+04</td>\n",
       "      <td>23056.000000</td>\n",
       "      <td>23056.000000</td>\n",
       "      <td>14055.000000</td>\n",
       "      <td>22974.000000</td>\n",
       "      <td>21208.000000</td>\n",
       "      <td>23056.000000</td>\n",
       "      <td>20834.000000</td>\n",
       "      <td>23056.000000</td>\n",
       "      <td>17588.000000</td>\n",
       "      <td>17609.000000</td>\n",
       "      <td>17610.000000</td>\n",
       "      <td>7758.000000</td>\n",
       "      <td>17610.000000</td>\n",
       "      <td>8745.000000</td>\n",
       "      <td>19974.000000</td>\n",
       "      <td>23056.000000</td>\n",
       "      <td>23056.000000</td>\n",
       "      <td>23056.000000</td>\n",
       "      <td>23056.000000</td>\n",
       "      <td>17609.000000</td>\n",
       "    </tr>\n",
       "    <tr>\n",
       "      <th>mean</th>\n",
       "      <td>9.830283</td>\n",
       "      <td>5.969748e+06</td>\n",
       "      <td>58.464261</td>\n",
       "      <td>2.045585</td>\n",
       "      <td>2.718754</td>\n",
       "      <td>10.705798</td>\n",
       "      <td>33.587637</td>\n",
       "      <td>5.895732</td>\n",
       "      <td>10.071485</td>\n",
       "      <td>0.593425</td>\n",
       "      <td>28781.065499</td>\n",
       "      <td>14287.943438</td>\n",
       "      <td>0.602328</td>\n",
       "      <td>490.956045</td>\n",
       "      <td>0.758206</td>\n",
       "      <td>522.017038</td>\n",
       "      <td>171.103885</td>\n",
       "      <td>97546.222545</td>\n",
       "      <td>2.573170</td>\n",
       "      <td>6.403973</td>\n",
       "      <td>2017.386450</td>\n",
       "      <td>14.281674</td>\n",
       "    </tr>\n",
       "    <tr>\n",
       "      <th>std</th>\n",
       "      <td>5.656536</td>\n",
       "      <td>5.600984e+06</td>\n",
       "      <td>28.992006</td>\n",
       "      <td>1.033406</td>\n",
       "      <td>0.264969</td>\n",
       "      <td>6.600978</td>\n",
       "      <td>18.893441</td>\n",
       "      <td>4.886184</td>\n",
       "      <td>4.159963</td>\n",
       "      <td>0.957858</td>\n",
       "      <td>12644.585281</td>\n",
       "      <td>8501.217723</td>\n",
       "      <td>0.794813</td>\n",
       "      <td>337.094541</td>\n",
       "      <td>0.930318</td>\n",
       "      <td>277.192696</td>\n",
       "      <td>196.866194</td>\n",
       "      <td>41201.894823</td>\n",
       "      <td>1.789322</td>\n",
       "      <td>3.488938</td>\n",
       "      <td>1.018219</td>\n",
       "      <td>8.508164</td>\n",
       "    </tr>\n",
       "    <tr>\n",
       "      <th>min</th>\n",
       "      <td>0.000000</td>\n",
       "      <td>5.000000e+05</td>\n",
       "      <td>20.000000</td>\n",
       "      <td>0.000000</td>\n",
       "      <td>2.300000</td>\n",
       "      <td>1.000000</td>\n",
       "      <td>10.000000</td>\n",
       "      <td>1.000000</td>\n",
       "      <td>4.000000</td>\n",
       "      <td>0.000000</td>\n",
       "      <td>6450.000000</td>\n",
       "      <td>181.000000</td>\n",
       "      <td>0.000000</td>\n",
       "      <td>1.000000</td>\n",
       "      <td>0.000000</td>\n",
       "      <td>13.000000</td>\n",
       "      <td>1.000000</td>\n",
       "      <td>9615.000000</td>\n",
       "      <td>0.000000</td>\n",
       "      <td>1.000000</td>\n",
       "      <td>2014.000000</td>\n",
       "      <td>0.000000</td>\n",
       "    </tr>\n",
       "    <tr>\n",
       "      <th>25%</th>\n",
       "      <td>6.000000</td>\n",
       "      <td>3.400000e+06</td>\n",
       "      <td>40.000000</td>\n",
       "      <td>1.000000</td>\n",
       "      <td>2.500000</td>\n",
       "      <td>5.000000</td>\n",
       "      <td>18.600000</td>\n",
       "      <td>2.000000</td>\n",
       "      <td>7.000000</td>\n",
       "      <td>0.000000</td>\n",
       "      <td>18488.000000</td>\n",
       "      <td>9496.000000</td>\n",
       "      <td>0.000000</td>\n",
       "      <td>289.000000</td>\n",
       "      <td>0.000000</td>\n",
       "      <td>302.000000</td>\n",
       "      <td>44.000000</td>\n",
       "      <td>76239.000000</td>\n",
       "      <td>1.000000</td>\n",
       "      <td>3.000000</td>\n",
       "      <td>2017.000000</td>\n",
       "      <td>9.000000</td>\n",
       "    </tr>\n",
       "    <tr>\n",
       "      <th>50%</th>\n",
       "      <td>9.000000</td>\n",
       "      <td>4.600000e+06</td>\n",
       "      <td>51.400000</td>\n",
       "      <td>2.000000</td>\n",
       "      <td>2.650000</td>\n",
       "      <td>9.000000</td>\n",
       "      <td>30.000000</td>\n",
       "      <td>4.000000</td>\n",
       "      <td>9.000000</td>\n",
       "      <td>0.000000</td>\n",
       "      <td>26765.000000</td>\n",
       "      <td>13171.000000</td>\n",
       "      <td>0.000000</td>\n",
       "      <td>456.000000</td>\n",
       "      <td>0.000000</td>\n",
       "      <td>507.000000</td>\n",
       "      <td>93.000000</td>\n",
       "      <td>94565.000000</td>\n",
       "      <td>3.000000</td>\n",
       "      <td>6.000000</td>\n",
       "      <td>2017.000000</td>\n",
       "      <td>13.000000</td>\n",
       "    </tr>\n",
       "    <tr>\n",
       "      <th>75%</th>\n",
       "      <td>14.000000</td>\n",
       "      <td>6.600000e+06</td>\n",
       "      <td>68.100000</td>\n",
       "      <td>3.000000</td>\n",
       "      <td>2.800000</td>\n",
       "      <td>16.000000</td>\n",
       "      <td>42.000000</td>\n",
       "      <td>8.000000</td>\n",
       "      <td>11.725000</td>\n",
       "      <td>1.000000</td>\n",
       "      <td>37347.000000</td>\n",
       "      <td>16360.000000</td>\n",
       "      <td>1.000000</td>\n",
       "      <td>613.000000</td>\n",
       "      <td>1.000000</td>\n",
       "      <td>733.000000</td>\n",
       "      <td>224.000000</td>\n",
       "      <td>113233.500000</td>\n",
       "      <td>4.000000</td>\n",
       "      <td>10.000000</td>\n",
       "      <td>2018.000000</td>\n",
       "      <td>16.000000</td>\n",
       "    </tr>\n",
       "    <tr>\n",
       "      <th>max</th>\n",
       "      <td>50.000000</td>\n",
       "      <td>9.900000e+07</td>\n",
       "      <td>400.000000</td>\n",
       "      <td>14.000000</td>\n",
       "      <td>5.500000</td>\n",
       "      <td>60.000000</td>\n",
       "      <td>190.000000</td>\n",
       "      <td>33.000000</td>\n",
       "      <td>30.000000</td>\n",
       "      <td>5.000000</td>\n",
       "      <td>73827.000000</td>\n",
       "      <td>54926.000000</td>\n",
       "      <td>3.000000</td>\n",
       "      <td>3190.000000</td>\n",
       "      <td>3.000000</td>\n",
       "      <td>1344.000000</td>\n",
       "      <td>1095.000000</td>\n",
       "      <td>848485.000000</td>\n",
       "      <td>6.000000</td>\n",
       "      <td>12.000000</td>\n",
       "      <td>2019.000000</td>\n",
       "      <td>55.000000</td>\n",
       "    </tr>\n",
       "  </tbody>\n",
       "</table>\n",
       "</div>"
      ],
      "text/plain": [
       "       total_images    last_price    total_area         rooms  ceiling_height  \\\n",
       "count  23056.000000  2.305600e+04  23056.000000  23056.000000    14055.000000   \n",
       "mean       9.830283  5.969748e+06     58.464261      2.045585        2.718754   \n",
       "std        5.656536  5.600984e+06     28.992006      1.033406        0.264969   \n",
       "min        0.000000  5.000000e+05     20.000000      0.000000        2.300000   \n",
       "25%        6.000000  3.400000e+06     40.000000      1.000000        2.500000   \n",
       "50%        9.000000  4.600000e+06     51.400000      2.000000        2.650000   \n",
       "75%       14.000000  6.600000e+06     68.100000      3.000000        2.800000   \n",
       "max       50.000000  9.900000e+07    400.000000     14.000000        5.500000   \n",
       "\n",
       "       floors_total   living_area         floor  kitchen_area       balcony  \\\n",
       "count  22974.000000  21208.000000  23056.000000  20834.000000  23056.000000   \n",
       "mean      10.705798     33.587637      5.895732     10.071485      0.593425   \n",
       "std        6.600978     18.893441      4.886184      4.159963      0.957858   \n",
       "min        1.000000     10.000000      1.000000      4.000000      0.000000   \n",
       "25%        5.000000     18.600000      2.000000      7.000000      0.000000   \n",
       "50%        9.000000     30.000000      4.000000      9.000000      0.000000   \n",
       "75%       16.000000     42.000000      8.000000     11.725000      1.000000   \n",
       "max       60.000000    190.000000     33.000000     30.000000      5.000000   \n",
       "\n",
       "       airports_nearest  city_centers_nearest  parks_around3000  \\\n",
       "count      17588.000000          17609.000000      17610.000000   \n",
       "mean       28781.065499          14287.943438          0.602328   \n",
       "std        12644.585281           8501.217723          0.794813   \n",
       "min         6450.000000            181.000000          0.000000   \n",
       "25%        18488.000000           9496.000000          0.000000   \n",
       "50%        26765.000000          13171.000000          0.000000   \n",
       "75%        37347.000000          16360.000000          1.000000   \n",
       "max        73827.000000          54926.000000          3.000000   \n",
       "\n",
       "       parks_nearest  ponds_around3000  ponds_nearest  days_exposition  \\\n",
       "count    7758.000000      17610.000000    8745.000000     19974.000000   \n",
       "mean      490.956045          0.758206     522.017038       171.103885   \n",
       "std       337.094541          0.930318     277.192696       196.866194   \n",
       "min         1.000000          0.000000      13.000000         1.000000   \n",
       "25%       289.000000          0.000000     302.000000        44.000000   \n",
       "50%       456.000000          0.000000     507.000000        93.000000   \n",
       "75%       613.000000          1.000000     733.000000       224.000000   \n",
       "max      3190.000000          3.000000    1344.000000      1095.000000   \n",
       "\n",
       "       price_one_metr  day_of_the_week  month_of_exposition  \\\n",
       "count    23056.000000     23056.000000         23056.000000   \n",
       "mean     97546.222545         2.573170             6.403973   \n",
       "std      41201.894823         1.789322             3.488938   \n",
       "min       9615.000000         0.000000             1.000000   \n",
       "25%      76239.000000         1.000000             3.000000   \n",
       "50%      94565.000000         3.000000             6.000000   \n",
       "75%     113233.500000         4.000000            10.000000   \n",
       "max     848485.000000         6.000000            12.000000   \n",
       "\n",
       "       year_of_exposition  center_distance_km  \n",
       "count        23056.000000        17609.000000  \n",
       "mean          2017.386450           14.281674  \n",
       "std              1.018219            8.508164  \n",
       "min           2014.000000            0.000000  \n",
       "25%           2017.000000            9.000000  \n",
       "50%           2017.000000           13.000000  \n",
       "75%           2018.000000           16.000000  \n",
       "max           2019.000000           55.000000  "
      ]
     },
     "execution_count": 72,
     "metadata": {},
     "output_type": "execute_result"
    }
   ],
   "source": [
    "data.describe()"
   ]
  },
  {
   "cell_type": "markdown",
   "metadata": {},
   "source": [
    " изучим и опишем следующие параметры:\n",
    "    - общая площадь"
   ]
  },
  {
   "cell_type": "code",
   "execution_count": 73,
   "metadata": {},
   "outputs": [
    {
     "data": {
      "text/plain": [
       "<AxesSubplot:>"
      ]
     },
     "execution_count": 73,
     "metadata": {},
     "output_type": "execute_result"
    },
    {
     "data": {
      "image/png": "[encoded data removed]",
      "text/plain": [
       "<Figure size 432x288 with 1 Axes>"
      ]
     },
     "metadata": {
      "needs_background": "light"
     },
     "output_type": "display_data"
    }
   ],
   "source": [
    "data['total_area'].hist(bins = 100)"
   ]
  },
  {
   "cell_type": "code",
   "execution_count": 74,
   "metadata": {},
   "outputs": [
    {
     "name": "stdout",
     "output_type": "stream",
     "text": [
      "Недвижимость, площадью более 160кв.м:  0.013098542678695351\n",
      "Недвижимость, площадью менее 28кв.м:  0.015093684941013185\n"
     ]
    }
   ],
   "source": [
    "print(\"Недвижимость, площадью более 160кв.м: \", data.query('total_area>160')['total_area'].count()/len(data['total_area']))\n",
    "print(\"Недвижимость, площадью менее 28кв.м: \", data.query('total_area<28')['total_area'].count()/len(data['total_area']))"
   ]
  },
  {
   "cell_type": "code",
   "execution_count": 75,
   "metadata": {},
   "outputs": [
    {
     "data": {
      "text/plain": [
       "<AxesSubplot:>"
      ]
     },
     "execution_count": 75,
     "metadata": {},
     "output_type": "execute_result"
    },
    {
     "data": {
      "image/png": "[encoded data removed]",
      "text/plain": [
       "<Figure size 432x288 with 1 Axes>"
      ]
     },
     "metadata": {
      "needs_background": "light"
     },
     "output_type": "display_data"
    }
   ],
   "source": [
    "data['total_area'].hist(bins = 40, range = (20, 160))"
   ]
  },
  {
   "cell_type": "code",
   "execution_count": 76,
   "metadata": {},
   "outputs": [
    {
     "data": {
      "text/plain": [
       "<AxesSubplot:>"
      ]
     },
     "execution_count": 76,
     "metadata": {},
     "output_type": "execute_result"
    },
    {
     "data": {
      "image/png": "[encoded data removed]",
      "text/plain": [
       "<Figure size 432x288 with 1 Axes>"
      ]
     },
     "metadata": {
      "needs_background": "light"
     },
     "output_type": "display_data"
    }
   ],
   "source": [
    "data['total_area'].hist(bins = 40, range = (20, 160))"
   ]
  },
  {
   "cell_type": "code",
   "execution_count": 77,
   "metadata": {},
   "outputs": [
    {
     "data": {
      "text/plain": [
       "count    23056.000000\n",
       "mean        58.464261\n",
       "std         28.992006\n",
       "min         20.000000\n",
       "25%         40.000000\n",
       "50%         51.400000\n",
       "75%         68.100000\n",
       "max        400.000000\n",
       "Name: total_area, dtype: float64"
      ]
     },
     "execution_count": 77,
     "metadata": {},
     "output_type": "execute_result"
    }
   ],
   "source": [
    "data['total_area'].describe()"
   ]
  },
  {
   "cell_type": "markdown",
   "metadata": {},
   "source": [
    "Наблюдается пик у квартир площадью 30-36 кв м. Видимо, это самая популярная площадь однушек. Еще больше пик у квартир 40-42кв.м, самый высокий у квартир 40-46. Это могут быть как просторные однушки, так и хрущевские двушки. Основной диапазон продаж находится в границах 40-68 кв.м. Недвижимости, площадью более 160кв.м около 1,8%, площадью менее 28кв.м около 1,5%."
   ]
  },
  {
   "cell_type": "markdown",
   "metadata": {},
   "source": [
    "- жилая площадь"
   ]
  },
  {
   "cell_type": "code",
   "execution_count": 78,
   "metadata": {},
   "outputs": [
    {
     "data": {
      "text/plain": [
       "count    21208.000000\n",
       "mean        33.587637\n",
       "std         18.893441\n",
       "min         10.000000\n",
       "25%         18.600000\n",
       "50%         30.000000\n",
       "75%         42.000000\n",
       "max        190.000000\n",
       "Name: living_area, dtype: float64"
      ]
     },
     "execution_count": 78,
     "metadata": {},
     "output_type": "execute_result"
    }
   ],
   "source": [
    "data['living_area'].describe()"
   ]
  },
  {
   "cell_type": "code",
   "execution_count": 79,
   "metadata": {},
   "outputs": [
    {
     "data": {
      "text/plain": [
       "<AxesSubplot:>"
      ]
     },
     "execution_count": 79,
     "metadata": {},
     "output_type": "execute_result"
    },
    {
     "data": {
      "image/png": "[encoded data removed]",
      "text/plain": [
       "<Figure size 432x288 with 1 Axes>"
      ]
     },
     "metadata": {
      "needs_background": "light"
     },
     "output_type": "display_data"
    }
   ],
   "source": [
    "data['living_area'].hist(bins = 50)"
   ]
  },
  {
   "cell_type": "code",
   "execution_count": 80,
   "metadata": {},
   "outputs": [
    {
     "data": {
      "text/plain": [
       "<AxesSubplot:>"
      ]
     },
     "execution_count": 80,
     "metadata": {},
     "output_type": "execute_result"
    },
    {
     "data": {
      "image/png": "[encoded data removed]",
      "text/plain": [
       "<Figure size 432x288 with 1 Axes>"
      ]
     },
     "metadata": {
      "needs_background": "light"
     },
     "output_type": "display_data"
    }
   ],
   "source": [
    "data['living_area'].hist(bins = 40, range = (10, 50))"
   ]
  },
  {
   "cell_type": "markdown",
   "metadata": {},
   "source": [
    "Здесь, так же как и по общей площади, наблюдается два основных пика - 15-21кв.м, видимо для однушек, и 22-34, скорее всего у двухкомнатных. В районе 22-26кв.м резкий спад. Скорее всего это связано с тем, что для однокомнатных квартир эта площадь уже большая, а для двухкомнатных недостаточная. Также видим резкий спад после 50кв.м. Это обусловлено меньшим спросом на квартиры с большей общей площадью."
   ]
  },
  {
   "cell_type": "markdown",
   "metadata": {},
   "source": [
    " - площадь кухни"
   ]
  },
  {
   "cell_type": "code",
   "execution_count": 81,
   "metadata": {},
   "outputs": [
    {
     "data": {
      "text/plain": [
       "count    20834.000000\n",
       "mean        10.071485\n",
       "std          4.159963\n",
       "min          4.000000\n",
       "25%          7.000000\n",
       "50%          9.000000\n",
       "75%         11.725000\n",
       "max         30.000000\n",
       "Name: kitchen_area, dtype: float64"
      ]
     },
     "execution_count": 81,
     "metadata": {},
     "output_type": "execute_result"
    }
   ],
   "source": [
    "data['kitchen_area'].describe()"
   ]
  },
  {
   "cell_type": "code",
   "execution_count": 82,
   "metadata": {},
   "outputs": [
    {
     "data": {
      "text/plain": [
       "<AxesSubplot:>"
      ]
     },
     "execution_count": 82,
     "metadata": {},
     "output_type": "execute_result"
    },
    {
     "data": {
      "image/png": "[encoded data removed]",
      "text/plain": [
       "<Figure size 432x288 with 1 Axes>"
      ]
     },
     "metadata": {
      "needs_background": "light"
     },
     "output_type": "display_data"
    }
   ],
   "source": [
    "data['kitchen_area'].hist(bins = 26)"
   ]
  },
  {
   "cell_type": "markdown",
   "metadata": {},
   "source": [
    "Распределение по кухням выглядит логично. 5-7 метровые кухни - наследие советского периода, таких квартир в спальных районах города много. В современных квартирах и новостройках кухни обычно больше, чаще всего 8-10кв.м, что и видно на гистограмме. Основная часть кухонь площадью от 7 до 11,7 кв.м. Совсем уж редкость кухни более 25кв.м. "
   ]
  },
  {
   "cell_type": "markdown",
   "metadata": {},
   "source": [
    "- цена объекта"
   ]
  },
  {
   "cell_type": "code",
   "execution_count": 83,
   "metadata": {},
   "outputs": [
    {
     "data": {
      "text/plain": [
       "count    2.305600e+04\n",
       "mean     5.969748e+06\n",
       "std      5.600984e+06\n",
       "min      5.000000e+05\n",
       "25%      3.400000e+06\n",
       "50%      4.600000e+06\n",
       "75%      6.600000e+06\n",
       "max      9.900000e+07\n",
       "Name: last_price, dtype: float64"
      ]
     },
     "execution_count": 83,
     "metadata": {},
     "output_type": "execute_result"
    }
   ],
   "source": [
    "data['last_price'].describe()"
   ]
  },
  {
   "cell_type": "code",
   "execution_count": 84,
   "metadata": {},
   "outputs": [
    {
     "data": {
      "text/plain": [
       "<AxesSubplot:>"
      ]
     },
     "execution_count": 84,
     "metadata": {},
     "output_type": "execute_result"
    },
    {
     "data": {
      "image/png": "[encoded data removed]",
      "text/plain": [
       "<Figure size 432x288 with 1 Axes>"
      ]
     },
     "metadata": {
      "needs_background": "light"
     },
     "output_type": "display_data"
    }
   ],
   "source": [
    "data['last_price'].hist(bins=100)"
   ]
  },
  {
   "cell_type": "code",
   "execution_count": 85,
   "metadata": {},
   "outputs": [
    {
     "data": {
      "text/plain": [
       "<AxesSubplot:>"
      ]
     },
     "execution_count": 85,
     "metadata": {},
     "output_type": "execute_result"
    },
    {
     "data": {
      "image/png": "[encoded data removed]",
      "text/plain": [
       "<Figure size 432x288 with 1 Axes>"
      ]
     },
     "metadata": {
      "needs_background": "light"
     },
     "output_type": "display_data"
    }
   ],
   "source": [
    "data['last_price'].hist(bins=50, range=(500000, 15000000))"
   ]
  },
  {
   "cell_type": "markdown",
   "metadata": {},
   "source": [
    "Гистограмма цены выглядит логично, есть небольшой провал в районе 6 млн. Очень приличное смещение вправо, это тоже предсказуемо, поскольку возможны квартиры большой площади, у парка, пруда, в центре города с дорогим ремонтом. Все это скажется на цене. Но таких квартир, соответственно, немного."
   ]
  },
  {
   "cell_type": "markdown",
   "metadata": {},
   "source": [
    "- количество комнат"
   ]
  },
  {
   "cell_type": "code",
   "execution_count": 86,
   "metadata": {},
   "outputs": [
    {
     "data": {
      "text/plain": [
       "<AxesSubplot:>"
      ]
     },
     "execution_count": 86,
     "metadata": {},
     "output_type": "execute_result"
    },
    {
     "data": {
      "image/png": "[encoded data removed]",
      "text/plain": [
       "<Figure size 432x288 with 1 Axes>"
      ]
     },
     "metadata": {
      "needs_background": "light"
     },
     "output_type": "display_data"
    }
   ],
   "source": [
    "data['rooms'].hist(bins = 30, range = (1,15))"
   ]
  },
  {
   "cell_type": "code",
   "execution_count": 87,
   "metadata": {},
   "outputs": [
    {
     "name": "stdout",
     "output_type": "stream",
     "text": [
      "Однокомнатных квартир: 34.40752949340735 процентов\n",
      "Двухкомнатных квартир: 33.761276891047885 процентов\n",
      "Трёхкомнатных квартир: 24.414469118667594 процентов\n"
     ]
    }
   ],
   "source": [
    "print(\"Однокомнатных квартир:\", data.query('rooms==1')['rooms'].count()*100/len(data['rooms']), \"процентов\")\n",
    "print(\"Двухкомнатных квартир:\", data.query('rooms==2')['rooms'].count()*100/len(data['rooms']), \"процентов\")\n",
    "print(\"Трёхкомнатных квартир:\", data.query('rooms==3')['rooms'].count()*100/len(data['rooms']), \"процентов\")"
   ]
  },
  {
   "cell_type": "markdown",
   "metadata": {},
   "source": [
    "Больше всего на рынке представлено одно- и двухкомнатных квартир, 34,4% и 33,8% соответственно. Немного меньше трёшек, около 24,1%. Значительно меньше четырехкомнатных, и совсем мало квартир с количеством комнат больше четырёх."
   ]
  },
  {
   "cell_type": "markdown",
   "metadata": {},
   "source": [
    "- высота потолков"
   ]
  },
  {
   "cell_type": "code",
   "execution_count": 88,
   "metadata": {},
   "outputs": [
    {
     "data": {
      "text/plain": [
       "<AxesSubplot:>"
      ]
     },
     "execution_count": 88,
     "metadata": {},
     "output_type": "execute_result"
    },
    {
     "data": {
      "image/png": "[encoded data removed]",
      "text/plain": [
       "<Figure size 432x288 with 1 Axes>"
      ]
     },
     "metadata": {
      "needs_background": "light"
     },
     "output_type": "display_data"
    }
   ],
   "source": [
    "data['ceiling_height'].hist(bins = 30)"
   ]
  },
  {
   "cell_type": "markdown",
   "metadata": {},
   "source": [
    "Здесь тоже пики располагаются вполне логично. Больше всего квартир с потолками 2,5м, это минимальный стандарт самых доступных по цене квартир. 2.6, 2.7, 2.8  и 3.0 - тоже стандарты."
   ]
  },
  {
   "cell_type": "markdown",
   "metadata": {},
   "source": [
    "  - этаж квартиры"
   ]
  },
  {
   "cell_type": "code",
   "execution_count": 89,
   "metadata": {},
   "outputs": [
    {
     "data": {
      "text/plain": [
       "<AxesSubplot:>"
      ]
     },
     "execution_count": 89,
     "metadata": {},
     "output_type": "execute_result"
    },
    {
     "data": {
      "image/png": "[encoded data removed]",
      "text/plain": [
       "<Figure size 432x288 with 1 Axes>"
      ]
     },
     "metadata": {
      "needs_background": "light"
     },
     "output_type": "display_data"
    }
   ],
   "source": [
    "data['floor'].hist(bins = 30)"
   ]
  },
  {
   "cell_type": "code",
   "execution_count": 90,
   "metadata": {},
   "outputs": [
    {
     "data": {
      "text/plain": [
       "51.279493407356"
      ]
     },
     "execution_count": 90,
     "metadata": {},
     "output_type": "execute_result"
    }
   ],
   "source": [
    "data.query('floor < 5')['floor'].count()*100/len(data['floor'])"
   ]
  },
  {
   "cell_type": "markdown",
   "metadata": {},
   "source": [
    "Больше всего предложение на первом этаже. Возможно, это связано с тем, что квартиры на первом этаже продаются медленнее.Кроме того, первый этаж есть в домах любой этажности. Больше 51% квартир в продаже расположены с первого по четвёртый этаж. "
   ]
  },
  {
   "cell_type": "markdown",
   "metadata": {},
   "source": [
    "- тип этажа квартиры («первый», «последний», «другой»)"
   ]
  },
  {
   "cell_type": "code",
   "execution_count": 91,
   "metadata": {},
   "outputs": [
    {
     "data": {
      "text/plain": [
       "<AxesSubplot:>"
      ]
     },
     "execution_count": 91,
     "metadata": {},
     "output_type": "execute_result"
    },
    {
     "data": {
      "image/png": "[encoded data removed]",
      "text/plain": [
       "<Figure size 432x288 with 1 Axes>"
      ]
     },
     "metadata": {
      "needs_background": "light"
     },
     "output_type": "display_data"
    }
   ],
   "source": [
    "data['type_of_floor'].hist(bins = 5)"
   ]
  },
  {
   "cell_type": "markdown",
   "metadata": {},
   "source": [
    "Ожидаемо, на первом месте средние этажи. Количество первых и последних этажей отличается незначительно."
   ]
  },
  {
   "cell_type": "markdown",
   "metadata": {},
   "source": [
    "  - общее количество этажей в доме"
   ]
  },
  {
   "cell_type": "code",
   "execution_count": 92,
   "metadata": {},
   "outputs": [
    {
     "data": {
      "text/plain": [
       "<AxesSubplot:>"
      ]
     },
     "execution_count": 92,
     "metadata": {},
     "output_type": "execute_result"
    },
    {
     "data": {
      "image/png": "[encoded data removed]",
      "text/plain": [
       "<Figure size 432x288 with 1 Axes>"
      ]
     },
     "metadata": {
      "needs_background": "light"
     },
     "output_type": "display_data"
    }
   ],
   "source": [
    "data['floors_total'].hist(bins = 60)"
   ]
  },
  {
   "cell_type": "code",
   "execution_count": 93,
   "metadata": {},
   "outputs": [
    {
     "data": {
      "text/plain": [
       "<AxesSubplot:>"
      ]
     },
     "execution_count": 93,
     "metadata": {},
     "output_type": "execute_result"
    },
    {
     "data": {
      "image/png": "[encoded data removed]",
      "text/plain": [
       "<Figure size 432x288 with 1 Axes>"
      ]
     },
     "metadata": {
      "needs_background": "light"
     },
     "output_type": "display_data"
    }
   ],
   "source": [
    "data['floors_total'].hist(bins = 30, range = (0, 30))"
   ]
  },
  {
   "cell_type": "code",
   "execution_count": 94,
   "metadata": {},
   "outputs": [
    {
     "name": "stdout",
     "output_type": "stream",
     "text": [
      "Количество пятиэтажек: 24.488202637057597\n",
      "Количество девятиэтажек: 16.11727966689799\n",
      "Количество двенадцатиэтажек: 5.820610687022901\n",
      "Количество шестнадцатиэтажек: 5.837959750173491\n"
     ]
    }
   ],
   "source": [
    "print(\"Количество пятиэтажек:\", data.query('floors_total == 5')['floors_total'].count()*100/len(data['floors_total']))\n",
    "print(\"Количество девятиэтажек:\", data.query('floors_total == 9')['floors_total'].count()*100/len(data['floors_total']))\n",
    "print(\"Количество двенадцатиэтажек:\", data.query('floors_total == 12')['floors_total'].count()*100/len(data['floors_total']))\n",
    "print(\"Количество шестнадцатиэтажек:\", data.query('floors_total == 16')['floors_total'].count()*100/len(data['floors_total']))"
   ]
  },
  {
   "cell_type": "markdown",
   "metadata": {},
   "source": [
    "Максимальное количество домов, в которых расположены продаваемые квартиры - пятиэтажные (24.5%), немного меньше девятиэтажек (16.1%), за ними идут двенадцати- и шестнадцатиэтажные дома (по 5.8%). Всё это типовые проекты. Еще два пика на десяти- и двадцатипятиэтажных домах. Домов, этажностью более 28 совсем мало."
   ]
  },
  {
   "cell_type": "markdown",
   "metadata": {},
   "source": [
    "- расстояние до центра города в метрах"
   ]
  },
  {
   "cell_type": "code",
   "execution_count": 95,
   "metadata": {},
   "outputs": [
    {
     "data": {
      "text/plain": [
       "<AxesSubplot:>"
      ]
     },
     "execution_count": 95,
     "metadata": {},
     "output_type": "execute_result"
    },
    {
     "data": {
      "image/png": "[encoded data removed]",
      "text/plain": [
       "<Figure size 432x288 with 1 Axes>"
      ]
     },
     "metadata": {
      "needs_background": "light"
     },
     "output_type": "display_data"
    }
   ],
   "source": [
    "data['city_centers_nearest'].hist(bins = 50)"
   ]
  },
  {
   "cell_type": "code",
   "execution_count": 96,
   "metadata": {},
   "outputs": [
    {
     "data": {
      "text/plain": [
       "<AxesSubplot:>"
      ]
     },
     "execution_count": 96,
     "metadata": {},
     "output_type": "execute_result"
    },
    {
     "data": {
      "image/png": "[encoded data removed]",
      "text/plain": [
       "<Figure size 432x288 with 1 Axes>"
      ]
     },
     "metadata": {
      "needs_background": "light"
     },
     "output_type": "display_data"
    }
   ],
   "source": [
    "data['city_centers_nearest'].hist(bins = 40,range = (0, 20000))"
   ]
  },
  {
   "cell_type": "markdown",
   "metadata": {},
   "source": [
    "Здесь два пика: поменьше в районе 5км (вероятнее всего центр города) и побольше 11-15км (скорее всего спальные районы с большой застройкой). Еще небольшие пики около 21км и 30км."
   ]
  },
  {
   "cell_type": "markdown",
   "metadata": {},
   "source": [
    "- расстояние до ближайшего аэропорта"
   ]
  },
  {
   "cell_type": "code",
   "execution_count": 97,
   "metadata": {},
   "outputs": [
    {
     "data": {
      "text/plain": [
       "<AxesSubplot:>"
      ]
     },
     "execution_count": 97,
     "metadata": {},
     "output_type": "execute_result"
    },
    {
     "data": {
      "image/png": "[encoded data removed]",
      "text/plain": [
       "<Figure size 432x288 with 1 Axes>"
      ]
     },
     "metadata": {
      "needs_background": "light"
     },
     "output_type": "display_data"
    }
   ],
   "source": [
    "data['airports_nearest'].hist(bins = 50)"
   ]
  },
  {
   "cell_type": "markdown",
   "metadata": {},
   "source": [
    "Вполне нормальный график"
   ]
  },
  {
   "cell_type": "markdown",
   "metadata": {},
   "source": [
    "- расстояние до ближайшего парка"
   ]
  },
  {
   "cell_type": "code",
   "execution_count": 98,
   "metadata": {},
   "outputs": [
    {
     "data": {
      "text/plain": [
       "<AxesSubplot:>"
      ]
     },
     "execution_count": 98,
     "metadata": {},
     "output_type": "execute_result"
    },
    {
     "data": {
      "image/png": "[encoded data removed]",
      "text/plain": [
       "<Figure size 432x288 with 1 Axes>"
      ]
     },
     "metadata": {
      "needs_background": "light"
     },
     "output_type": "display_data"
    }
   ],
   "source": [
    "data['parks_nearest'].hist(bins = 30)"
   ]
  },
  {
   "cell_type": "markdown",
   "metadata": {},
   "source": [
    "Основная часть квартир находится на расстоянии до 1км от парка, больше всего - на расстоянии 500м."
   ]
  },
  {
   "cell_type": "markdown",
   "metadata": {},
   "source": [
    "- день и месяц публикации объявления"
   ]
  },
  {
   "cell_type": "code",
   "execution_count": 99,
   "metadata": {},
   "outputs": [
    {
     "data": {
      "text/plain": [
       "<AxesSubplot:>"
      ]
     },
     "execution_count": 99,
     "metadata": {},
     "output_type": "execute_result"
    },
    {
     "data": {
      "image/png": "[encoded data removed]",
      "text/plain": [
       "<Figure size 432x288 with 1 Axes>"
      ]
     },
     "metadata": {
      "needs_background": "light"
     },
     "output_type": "display_data"
    }
   ],
   "source": [
    "data['day_of_the_week'].hist(bins = 14, range = (0,6))"
   ]
  },
  {
   "cell_type": "markdown",
   "metadata": {},
   "source": [
    "Больше всего объявлений публиковалось в четверг и во вторник, меньше всего в воскресенье и субботу."
   ]
  },
  {
   "cell_type": "code",
   "execution_count": 100,
   "metadata": {},
   "outputs": [
    {
     "data": {
      "text/plain": [
       "<AxesSubplot:>"
      ]
     },
     "execution_count": 100,
     "metadata": {},
     "output_type": "execute_result"
    },
    {
     "data": {
      "image/png": "[encoded data removed]",
      "text/plain": [
       "<Figure size 432x288 with 1 Axes>"
      ]
     },
     "metadata": {
      "needs_background": "light"
     },
     "output_type": "display_data"
    }
   ],
   "source": [
    "data['month_of_exposition'].hist(bins = 24, range=(1,12))"
   ]
  },
  {
   "cell_type": "markdown",
   "metadata": {},
   "source": [
    "Меньше всего объявлений было опубликовано в декабре, мае и январе, больше всего - с февраля по апрель и в ноябре."
   ]
  },
  {
   "cell_type": "markdown",
   "metadata": {},
   "source": [
    "Посмотрим, как быстро продавались квартиры (столбец days_exposition). Этот параметр показывает, сколько дней «висело» каждое объявление."
   ]
  },
  {
   "cell_type": "code",
   "execution_count": 101,
   "metadata": {},
   "outputs": [
    {
     "data": {
      "text/plain": [
       "<AxesSubplot:>"
      ]
     },
     "execution_count": 101,
     "metadata": {},
     "output_type": "execute_result"
    },
    {
     "data": {
      "image/png": "[encoded data removed]",
      "text/plain": [
       "<Figure size 432x288 with 1 Axes>"
      ]
     },
     "metadata": {
      "needs_background": "light"
     },
     "output_type": "display_data"
    }
   ],
   "source": [
    "data['days_exposition'].hist(bins = 100)"
   ]
  },
  {
   "cell_type": "code",
   "execution_count": 102,
   "metadata": {},
   "outputs": [
    {
     "data": {
      "text/plain": [
       "<AxesSubplot:>"
      ]
     },
     "execution_count": 102,
     "metadata": {},
     "output_type": "execute_result"
    },
    {
     "data": {
      "image/png": "[encoded data removed]",
      "text/plain": [
       "<Figure size 432x288 with 1 Axes>"
      ]
     },
     "metadata": {
      "needs_background": "light"
     },
     "output_type": "display_data"
    }
   ],
   "source": [
    "data['days_exposition'].hist(bins = 150, range = (0, 150))"
   ]
  },
  {
   "cell_type": "code",
   "execution_count": 103,
   "metadata": {},
   "outputs": [
    {
     "data": {
      "text/plain": [
       "<AxesSubplot:>"
      ]
     },
     "execution_count": 103,
     "metadata": {},
     "output_type": "execute_result"
    },
    {
     "data": {
      "image/png": "[encoded data removed]",
      "text/plain": [
       "<Figure size 432x288 with 1 Axes>"
      ]
     },
     "metadata": {
      "needs_background": "light"
     },
     "output_type": "display_data"
    }
   ],
   "source": [
    "data['days_exposition'].hist(bins = 20, range = (43, 63))"
   ]
  },
  {
   "cell_type": "markdown",
   "metadata": {},
   "source": [
    "Наблюдаются два очень необычных всплеска продаж на 45й и 60й день. Еще один небольшой всплеск на 90й день. Возможно это связано с резкими скачками инфляции или какими-нибудь важными событиями в политической жизни. А может, это просто были последние рабочие дни перед затяжными выходными или архив чистили от неактуальных объявлений. Кроме того, числа 45, 60 и 90 кажутся необычно круглыми. Возможно у компании, размещающей объявления это периоды, через которые объявления удаляются, если их актуальность не подтверждена или не продлена оплата, если объявления платные. Посчитаем среднее и медиану."
   ]
  },
  {
   "cell_type": "code",
   "execution_count": 104,
   "metadata": {},
   "outputs": [
    {
     "name": "stdout",
     "output_type": "stream",
     "text": [
      "Среднее: 171.10388505056574\n",
      "Медиана: 93.0\n"
     ]
    }
   ],
   "source": [
    "print(\"Среднее:\", data[\"days_exposition\"].mean())\n",
    "print(\"Медиана:\", data[\"days_exposition\"].median())"
   ]
  },
  {
   "cell_type": "markdown",
   "metadata": {},
   "source": [
    "Медианное значение отличается от среднего почти в два раза. Это типичное влияние выбросов. Скорее всего в архиве есть так называемые \"квартиры-крючки\", которых на самом деле не существует и они размещены для привлечения внимания клиента, которому потом торопятся продать другие варианты. Кроме того, существует проблемная недвижимость, которую покупают неохотно, а продают долго. Могут быть квартиры с завышенной ценой, такие тоже долго не прокупают. Вся эта недвижимость может очень повлиять на среднее значение, медиана более устойчива к выбросам.\n",
    "Я бы оставила среднее время продажи на медианном уровне. Какие из этих продаж можно считать быстрыми, а какие - необычно долгими? На первой гистограмме есть резкий обрыв уровня продаж после девяносто дней и еще один в районе 220 дней. Посмотрим, сколько продаж приходилось на эти периоды."
   ]
  },
  {
   "cell_type": "code",
   "execution_count": 105,
   "metadata": {},
   "outputs": [
    {
     "name": "stdout",
     "output_type": "stream",
     "text": [
      "доля объявлений, снятых через 90 дней: 49.00370481626114\n",
      "доля объявлений, снятых через 220 дней: 74.69710623810954\n"
     ]
    }
   ],
   "source": [
    "print('доля объявлений, снятых через 90 дней:', data.query('days_exposition<=90')['days_exposition'].count()*100/data['days_exposition'].count())\n",
    "print('доля объявлений, снятых через 220 дней:', data.query('days_exposition<=220')['days_exposition'].count()*100/data['days_exposition'].count())"
   ]
  },
  {
   "cell_type": "markdown",
   "metadata": {},
   "source": [
    "Как видим, за 90 дней успевают продать почти половину, еще почти 26% от 90 до 220 дней. Я бы оставила эти числа, чтобы отделить быстрые и медленные продажи."
   ]
  },
  {
   "cell_type": "markdown",
   "metadata": {},
   "source": [
    " Выясним, какие факторы больше всего влияют на общую (полную) стоимость объекта. Для этого построим графики, которые покажут зависимость цены от общей площади, жилой площади, площади кухни, количества комнат, типа этажа, на котором расположена квартира и даты размещения. Для подготовки данных перед визуализацией используем сводные таблицы.\""
   ]
  },
  {
   "cell_type": "markdown",
   "metadata": {},
   "source": [
    "- общая площадь"
   ]
  },
  {
   "cell_type": "code",
   "execution_count": 106,
   "metadata": {},
   "outputs": [
    {
     "name": "stdout",
     "output_type": "stream",
     "text": [
      "Корреляция между общей площадью и ценой на квартиру равна: 74.9%\n"
     ]
    }
   ],
   "source": [
    "print(f\"Корреляция между общей площадью и ценой на квартиру равна: {data['total_area'].corr(data['last_price']):0.1%}\")"
   ]
  },
  {
   "cell_type": "code",
   "execution_count": 107,
   "metadata": {},
   "outputs": [
    {
     "data": {
      "text/plain": [
       "<AxesSubplot:xlabel='last_price', ylabel='total_area'>"
      ]
     },
     "execution_count": 107,
     "metadata": {},
     "output_type": "execute_result"
    },
    {
     "data": {
      "image/png": "[encoded data removed]",
      "text/plain": [
       "<Figure size 432x288 with 1 Axes>"
      ]
     },
     "metadata": {
      "needs_background": "light"
     },
     "output_type": "display_data"
    }
   ],
   "source": [
    "data.plot(x = 'last_price', y = 'total_area', alpha = 0.3, kind = \"scatter\")"
   ]
  },
  {
   "cell_type": "markdown",
   "metadata": {},
   "source": [
    "- жилая площадь"
   ]
  },
  {
   "cell_type": "code",
   "execution_count": 108,
   "metadata": {},
   "outputs": [
    {
     "name": "stdout",
     "output_type": "stream",
     "text": [
      "Корреляция между жилой площадью и ценой на квартиру равна: 66.9%\n"
     ]
    }
   ],
   "source": [
    "print(f\"Корреляция между жилой площадью и ценой на квартиру равна: {data['living_area'].corr(data['last_price']):0.1%}\")"
   ]
  },
  {
   "cell_type": "code",
   "execution_count": 109,
   "metadata": {},
   "outputs": [
    {
     "data": {
      "text/plain": [
       "<AxesSubplot:xlabel='last_price', ylabel='living_area'>"
      ]
     },
     "execution_count": 109,
     "metadata": {},
     "output_type": "execute_result"
    },
    {
     "data": {
      "image/png": "[encoded data removed]",
      "text/plain": [
       "<Figure size 432x288 with 1 Axes>"
      ]
     },
     "metadata": {
      "needs_background": "light"
     },
     "output_type": "display_data"
    }
   ],
   "source": [
    "\n",
    "data.plot(x = 'last_price', y = 'living_area',alpha = 0.3, kind = 'scatter')"
   ]
  },
  {
   "cell_type": "markdown",
   "metadata": {},
   "source": [
    "- площадь кухни"
   ]
  },
  {
   "cell_type": "code",
   "execution_count": 110,
   "metadata": {},
   "outputs": [
    {
     "name": "stdout",
     "output_type": "stream",
     "text": [
      "Корреляция между площадью кухни и ценой на квартиру: 52.0%\n"
     ]
    }
   ],
   "source": [
    "print(f\"Корреляция между площадью кухни и ценой на квартиру: {data['kitchen_area'].corr(data['last_price']):0.1%}\")"
   ]
  },
  {
   "cell_type": "code",
   "execution_count": 111,
   "metadata": {},
   "outputs": [
    {
     "data": {
      "text/plain": [
       "<AxesSubplot:xlabel='last_price', ylabel='kitchen_area'>"
      ]
     },
     "execution_count": 111,
     "metadata": {},
     "output_type": "execute_result"
    },
    {
     "data": {
      "image/png": "[encoded data removed]",
      "text/plain": [
       "<Figure size 432x288 with 1 Axes>"
      ]
     },
     "metadata": {
      "needs_background": "light"
     },
     "output_type": "display_data"
    }
   ],
   "source": [
    "data.plot(x = 'last_price', y = \"kitchen_area\", alpha = 0.3, kind = 'scatter')"
   ]
  },
  {
   "cell_type": "markdown",
   "metadata": {},
   "source": [
    " - количество комнат"
   ]
  },
  {
   "cell_type": "code",
   "execution_count": 112,
   "metadata": {},
   "outputs": [
    {
     "name": "stdout",
     "output_type": "stream",
     "text": [
      "Корреляция между количеством комнат и ценой на квартиру равна: 46.2%\n"
     ]
    }
   ],
   "source": [
    "print(f\"Корреляция между количеством комнат и ценой на квартиру равна: {data['rooms'].corr(data['last_price']):0.1%}\")"
   ]
  },
  {
   "cell_type": "code",
   "execution_count": 113,
   "metadata": {},
   "outputs": [
    {
     "data": {
      "text/plain": [
       "<AxesSubplot:xlabel='rooms'>"
      ]
     },
     "execution_count": 113,
     "metadata": {},
     "output_type": "execute_result"
    },
    {
     "data": {
      "image/png": "[encoded data removed]",
      "text/plain": [
       "<Figure size 432x288 with 1 Axes>"
      ]
     },
     "metadata": {
      "needs_background": "light"
     },
     "output_type": "display_data"
    }
   ],
   "source": [
    "data.pivot_table(index = 'rooms', values = 'last_price').plot(y = 'last_price', kind = 'bar')"
   ]
  },
  {
   "cell_type": "markdown",
   "metadata": {},
   "source": [
    "- тип этажа"
   ]
  },
  {
   "cell_type": "code",
   "execution_count": 114,
   "metadata": {},
   "outputs": [],
   "source": [
    "def digit_floor(type_of_floor):\n",
    "    if type_of_floor == \"первый\":\n",
    "        return 1\n",
    "    if type_of_floor == \"последний\":\n",
    "        return 3\n",
    "    return 2\n",
    "\n",
    "data['digit_type_of_floor'] = data['type_of_floor'].apply(digit_floor)"
   ]
  },
  {
   "cell_type": "code",
   "execution_count": 115,
   "metadata": {},
   "outputs": [
    {
     "name": "stdout",
     "output_type": "stream",
     "text": [
      "Корреляция между типом этажа и ценой на квартиру равна: 5.8%\n"
     ]
    }
   ],
   "source": [
    "\n",
    "print(f\"Корреляция между типом этажа и ценой на квартиру равна: {data['digit_type_of_floor'].corr(data['last_price']):0.1%}\")"
   ]
  },
  {
   "cell_type": "code",
   "execution_count": 116,
   "metadata": {},
   "outputs": [
    {
     "data": {
      "text/plain": [
       "<AxesSubplot:xlabel='digit_type_of_floor'>"
      ]
     },
     "execution_count": 116,
     "metadata": {},
     "output_type": "execute_result"
    },
    {
     "data": {
      "image/png": "[encoded data removed]",
      "text/plain": [
       "<Figure size 432x288 with 1 Axes>"
      ]
     },
     "metadata": {
      "needs_background": "light"
     },
     "output_type": "display_data"
    }
   ],
   "source": [
    "data.pivot_table(index = \"digit_type_of_floor\", values = 'last_price').plot(y = 'last_price', kind = 'bar')"
   ]
  },
  {
   "cell_type": "markdown",
   "metadata": {},
   "source": [
    "- дата размещения"
   ]
  },
  {
   "cell_type": "code",
   "execution_count": 117,
   "metadata": {},
   "outputs": [
    {
     "name": "stdout",
     "output_type": "stream",
     "text": [
      "Корреляция между днем недели и ценой на квартиру равна: -0.5%\n"
     ]
    }
   ],
   "source": [
    "print(f\"Корреляция между днем недели и ценой на квартиру равна: {data['day_of_the_week'].corr(data['last_price']):0.1%}\")"
   ]
  },
  {
   "cell_type": "code",
   "execution_count": 118,
   "metadata": {},
   "outputs": [
    {
     "data": {
      "text/plain": [
       "<AxesSubplot:xlabel='day_of_the_week'>"
      ]
     },
     "execution_count": 118,
     "metadata": {},
     "output_type": "execute_result"
    },
    {
     "data": {
      "image/png": "[encoded data removed]",
      "text/plain": [
       "<Figure size 432x288 with 1 Axes>"
      ]
     },
     "metadata": {
      "needs_background": "light"
     },
     "output_type": "display_data"
    }
   ],
   "source": [
    "data.pivot_table(index = 'day_of_the_week', values = \"last_price\").plot(y = 'last_price', kind = 'bar')"
   ]
  },
  {
   "cell_type": "code",
   "execution_count": 119,
   "metadata": {},
   "outputs": [
    {
     "name": "stdout",
     "output_type": "stream",
     "text": [
      "Корреляция между месяцом и ценой квартиры: 1.1%\n"
     ]
    }
   ],
   "source": [
    "print(f\"Корреляция между месяцом и ценой квартиры: {data['month_of_exposition'].corr(data['last_price']):0.1%}\")"
   ]
  },
  {
   "cell_type": "code",
   "execution_count": 120,
   "metadata": {},
   "outputs": [
    {
     "data": {
      "text/plain": [
       "<AxesSubplot:xlabel='month_of_exposition'>"
      ]
     },
     "execution_count": 120,
     "metadata": {},
     "output_type": "execute_result"
    },
    {
     "data": {
      "image/png": "[encoded data removed]",
      "text/plain": [
       "<Figure size 432x288 with 1 Axes>"
      ]
     },
     "metadata": {
      "needs_background": "light"
     },
     "output_type": "display_data"
    }
   ],
   "source": [
    "data.pivot_table(index = 'month_of_exposition', values = 'last_price').plot(y = 'last_price', kind = 'bar')"
   ]
  },
  {
   "cell_type": "code",
   "execution_count": 121,
   "metadata": {},
   "outputs": [
    {
     "name": "stdout",
     "output_type": "stream",
     "text": [
      "Корреляция между ценой на квартиру и годом публикации: -4.4%\n"
     ]
    }
   ],
   "source": [
    "print(f\"Корреляция между ценой на квартиру и годом публикации: {data['year_of_exposition'].corr(data['last_price']):0.1%}\")"
   ]
  },
  {
   "cell_type": "code",
   "execution_count": 122,
   "metadata": {},
   "outputs": [
    {
     "data": {
      "text/plain": [
       "<AxesSubplot:xlabel='year_of_exposition'>"
      ]
     },
     "execution_count": 122,
     "metadata": {},
     "output_type": "execute_result"
    },
    {
     "data": {
      "image/png": "[encoded data removed]",
      "text/plain": [
       "<Figure size 432x288 with 1 Axes>"
      ]
     },
     "metadata": {
      "needs_background": "light"
     },
     "output_type": "display_data"
    }
   ],
   "source": [
    "data.pivot_table(index = 'year_of_exposition', values = 'last_price').plot(y = 'last_price', kind = 'bar')"
   ]
  },
  {
   "cell_type": "markdown",
   "metadata": {},
   "source": [
    "По результатам можно сказать, что цена объекта недвижимости больше всего зависит от общей и жилой площади, в меньшей степени от площади кухни и количества комнат. Мало зависит от этажа, на котором расположена квартира, с небольшой поправкой на первый этаж, где цена несколько ниже и почти не зависит от даты размещения объявления."
   ]
  },
  {
   "cell_type": "markdown",
   "metadata": {},
   "source": [
    "Посчитаем среднюю цену одного квадратного метра в 10 населённых пунктах с наибольшим числом объявлений."
   ]
  },
  {
   "cell_type": "code",
   "execution_count": 123,
   "metadata": {},
   "outputs": [
    {
     "data": {
      "text/html": [
       "<div>\n",
       "<style scoped>\n",
       "    .dataframe tbody tr th:only-of-type {\n",
       "        vertical-align: middle;\n",
       "    }\n",
       "\n",
       "    .dataframe tbody tr th {\n",
       "        vertical-align: top;\n",
       "    }\n",
       "\n",
       "    .dataframe thead th {\n",
       "        text-align: right;\n",
       "    }\n",
       "</style>\n",
       "<table border=\"1\" class=\"dataframe\">\n",
       "  <thead>\n",
       "    <tr style=\"text-align: right;\">\n",
       "      <th></th>\n",
       "      <th>count_price_per_metr</th>\n",
       "      <th>sum_price_per_metr</th>\n",
       "      <th>price_per_metr</th>\n",
       "    </tr>\n",
       "    <tr>\n",
       "      <th>locality_name</th>\n",
       "      <th></th>\n",
       "      <th></th>\n",
       "      <th></th>\n",
       "    </tr>\n",
       "  </thead>\n",
       "  <tbody>\n",
       "    <tr>\n",
       "      <th>санкт-петербург</th>\n",
       "      <td>15202</td>\n",
       "      <td>1.707202e+09</td>\n",
       "      <td>112301.117879</td>\n",
       "    </tr>\n",
       "    <tr>\n",
       "      <th>поселок мурино</th>\n",
       "      <td>550</td>\n",
       "      <td>4.710040e+07</td>\n",
       "      <td>85637.100000</td>\n",
       "    </tr>\n",
       "    <tr>\n",
       "      <th>поселок шушары</th>\n",
       "      <td>435</td>\n",
       "      <td>3.417528e+07</td>\n",
       "      <td>78563.871264</td>\n",
       "    </tr>\n",
       "    <tr>\n",
       "      <th>всеволожск</th>\n",
       "      <td>394</td>\n",
       "      <td>2.706763e+07</td>\n",
       "      <td>68699.558376</td>\n",
       "    </tr>\n",
       "    <tr>\n",
       "      <th>пушкин</th>\n",
       "      <td>355</td>\n",
       "      <td>3.645797e+07</td>\n",
       "      <td>102698.518310</td>\n",
       "    </tr>\n",
       "    <tr>\n",
       "      <th>колпино</th>\n",
       "      <td>336</td>\n",
       "      <td>2.530442e+07</td>\n",
       "      <td>75310.758929</td>\n",
       "    </tr>\n",
       "    <tr>\n",
       "      <th>поселок парголово</th>\n",
       "      <td>326</td>\n",
       "      <td>2.937361e+07</td>\n",
       "      <td>90103.110429</td>\n",
       "    </tr>\n",
       "    <tr>\n",
       "      <th>гатчина</th>\n",
       "      <td>306</td>\n",
       "      <td>2.101498e+07</td>\n",
       "      <td>68676.421569</td>\n",
       "    </tr>\n",
       "    <tr>\n",
       "      <th>деревня кудрово</th>\n",
       "      <td>297</td>\n",
       "      <td>2.747941e+07</td>\n",
       "      <td>92523.252525</td>\n",
       "    </tr>\n",
       "    <tr>\n",
       "      <th>выборг</th>\n",
       "      <td>233</td>\n",
       "      <td>1.349918e+07</td>\n",
       "      <td>57936.407725</td>\n",
       "    </tr>\n",
       "  </tbody>\n",
       "</table>\n",
       "</div>"
      ],
      "text/plain": [
       "                   count_price_per_metr  sum_price_per_metr  price_per_metr\n",
       "locality_name                                                              \n",
       "санкт-петербург                   15202        1.707202e+09   112301.117879\n",
       "поселок мурино                      550        4.710040e+07    85637.100000\n",
       "поселок шушары                      435        3.417528e+07    78563.871264\n",
       "всеволожск                          394        2.706763e+07    68699.558376\n",
       "пушкин                              355        3.645797e+07   102698.518310\n",
       "колпино                             336        2.530442e+07    75310.758929\n",
       "поселок парголово                   326        2.937361e+07    90103.110429\n",
       "гатчина                             306        2.101498e+07    68676.421569\n",
       "деревня кудрово                     297        2.747941e+07    92523.252525\n",
       "выборг                              233        1.349918e+07    57936.407725"
      ]
     },
     "execution_count": 123,
     "metadata": {},
     "output_type": "execute_result"
    }
   ],
   "source": [
    "count_mean = data.pivot_table(index = 'locality_name',values = \"price_one_metr\", aggfunc = ['count','sum'])\n",
    "count_mean.columns = ['count_price_per_metr', 'sum_price_per_metr'] \n",
    "count_mean['price_per_metr'] = count_mean['sum_price_per_metr']/count_mean['count_price_per_metr']\n",
    "count_mean = count_mean.sort_values(by = \"count_price_per_metr\", ascending = False)\n",
    "count_mean_10 = count_mean.iloc[:10]\n",
    "count_mean_10"
   ]
  },
  {
   "cell_type": "code",
   "execution_count": 124,
   "metadata": {},
   "outputs": [
    {
     "data": {
      "text/plain": [
       "<AxesSubplot:xlabel='locality_name'>"
      ]
     },
     "execution_count": 124,
     "metadata": {},
     "output_type": "execute_result"
    },
    {
     "data": {
      "image/png": "[encoded data removed]",
      "text/plain": [
       "<Figure size 432x288 with 1 Axes>"
      ]
     },
     "metadata": {
      "needs_background": "light"
     },
     "output_type": "display_data"
    }
   ],
   "source": [
    "count_mean_10.pivot_table(index = 'locality_name', values = 'price_per_metr').sort_values(by = 'price_per_metr', ascending = False).plot(y = 'price_per_metr', kind = 'bar')"
   ]
  },
  {
   "cell_type": "markdown",
   "metadata": {},
   "source": [
    "Выделим населённые пункты с самой высокой и низкой стоимостью квадратного метра."
   ]
  },
  {
   "cell_type": "code",
   "execution_count": 125,
   "metadata": {},
   "outputs": [
    {
     "data": {
      "text/html": [
       "<div>\n",
       "<style scoped>\n",
       "    .dataframe tbody tr th:only-of-type {\n",
       "        vertical-align: middle;\n",
       "    }\n",
       "\n",
       "    .dataframe tbody tr th {\n",
       "        vertical-align: top;\n",
       "    }\n",
       "\n",
       "    .dataframe thead th {\n",
       "        text-align: right;\n",
       "    }\n",
       "</style>\n",
       "<table border=\"1\" class=\"dataframe\">\n",
       "  <thead>\n",
       "    <tr style=\"text-align: right;\">\n",
       "      <th></th>\n",
       "      <th>price_one_metr</th>\n",
       "    </tr>\n",
       "    <tr>\n",
       "      <th>locality_name</th>\n",
       "      <th></th>\n",
       "    </tr>\n",
       "  </thead>\n",
       "  <tbody>\n",
       "    <tr>\n",
       "      <th>поселок совхозный</th>\n",
       "      <td>12556.000000</td>\n",
       "    </tr>\n",
       "    <tr>\n",
       "      <th>деревня малая романовка</th>\n",
       "      <td>12725.000000</td>\n",
       "    </tr>\n",
       "    <tr>\n",
       "      <th>поселок тесово-4</th>\n",
       "      <td>12931.000000</td>\n",
       "    </tr>\n",
       "    <tr>\n",
       "      <th>деревня выскатка</th>\n",
       "      <td>13208.000000</td>\n",
       "    </tr>\n",
       "    <tr>\n",
       "      <th>деревня сижно</th>\n",
       "      <td>13710.000000</td>\n",
       "    </tr>\n",
       "    <tr>\n",
       "      <th>...</th>\n",
       "      <td>...</td>\n",
       "    </tr>\n",
       "    <tr>\n",
       "      <th>пушкин</th>\n",
       "      <td>102698.518310</td>\n",
       "    </tr>\n",
       "    <tr>\n",
       "      <th>поселок репино</th>\n",
       "      <td>104238.500000</td>\n",
       "    </tr>\n",
       "    <tr>\n",
       "      <th>санкт-петербург</th>\n",
       "      <td>112301.117879</td>\n",
       "    </tr>\n",
       "    <tr>\n",
       "      <th>поселок лисий нос</th>\n",
       "      <td>113728.500000</td>\n",
       "    </tr>\n",
       "    <tr>\n",
       "      <th>зеленогорск</th>\n",
       "      <td>122510.052632</td>\n",
       "    </tr>\n",
       "  </tbody>\n",
       "</table>\n",
       "<p>319 rows × 1 columns</p>\n",
       "</div>"
      ],
      "text/plain": [
       "                         price_one_metr\n",
       "locality_name                          \n",
       "поселок совхозный          12556.000000\n",
       "деревня малая романовка    12725.000000\n",
       "поселок тесово-4           12931.000000\n",
       "деревня выскатка           13208.000000\n",
       "деревня сижно              13710.000000\n",
       "...                                 ...\n",
       "пушкин                    102698.518310\n",
       "поселок репино            104238.500000\n",
       "санкт-петербург           112301.117879\n",
       "поселок лисий нос         113728.500000\n",
       "зеленогорск               122510.052632\n",
       "\n",
       "[319 rows x 1 columns]"
      ]
     },
     "execution_count": 125,
     "metadata": {},
     "output_type": "execute_result"
    }
   ],
   "source": [
    "price_10 = data.pivot_table(index = 'locality_name', values = \"price_one_metr\", aggfunc = 'mean')\n",
    "price_10.sort_values(by = 'price_one_metr',inplace = True)\n",
    "price_10"
   ]
  },
  {
   "cell_type": "markdown",
   "metadata": {},
   "source": [
    "Создадим таблицы населённых пунктов с самой дорогой и самой дешёвой недвижимостью"
   ]
  },
  {
   "cell_type": "code",
   "execution_count": 126,
   "metadata": {},
   "outputs": [
    {
     "name": "stdout",
     "output_type": "stream",
     "text": [
      "                         price_one_metr\n",
      "locality_name                          \n",
      "поселок совхозный               12556.0\n",
      "деревня малая романовка         12725.0\n",
      "поселок тесово-4                12931.0\n",
      "деревня выскатка                13208.0\n",
      "деревня сижно                   13710.0\n",
      "поселок житково                 14956.0\n",
      "поселок станции свирь           15000.0\n",
      "поселок станции лужайка         15000.0\n",
      "деревня ям-тесово               15094.0\n",
      "поселок почап                   16038.0\n",
      "\n",
      "\n",
      "\n",
      "\n",
      "                   price_one_metr\n",
      "locality_name                    \n",
      "зеленогорск         122510.052632\n",
      "поселок лисий нос   113728.500000\n",
      "санкт-петербург     112301.117879\n",
      "поселок репино      104238.500000\n",
      "пушкин              102698.518310\n",
      "сестрорецк          102012.567416\n",
      "кудрово             100353.311765\n",
      "деревня мистолово    98550.000000\n",
      "поселок левашово     96998.000000\n",
      "мурино               92722.705882\n"
     ]
    }
   ],
   "source": [
    "price_10_down = price_10.iloc[:10]\n",
    "price_10_up = price_10.iloc[-10:]\n",
    "print(price_10_down)\n",
    "print('\\n'*3)\n",
    "print(price_10_up.sort_values(by = \"price_one_metr\", ascending = False))"
   ]
  },
  {
   "cell_type": "markdown",
   "metadata": {},
   "source": [
    "По количеству предложений, самыми популярными населёнными пунктами являются: санкт-петербург, поселок мурино, поселок шушары, всеволожск, пушкин, колпино, поселок парголово, гатчина, деревня кудрово и выборг. Цена на квадратный метр общей площади в этих населённых пунктах колеблется от 57936р Выборге до 112301р в Петербурге. Самыми дорогими населёнными пунктами по средней цене за квадратный метр оказались: зеленогорск 122510р поселок лисий нос 113728р санкт-петербург 112301р поселок репино 104238р пушкин 102698р сестрорецк 102012р кудрово 100353р деревня мистолово 98550р поселок левашово 96998р мурино 92722р Самыми дешёвыми населёнными пунктами по средней цене за квадратный метр оказались: поселок совхозный 12556.р деревня малая романовка 12725.р поселок тесово-4 12931.р деревня выскатка 13208.р деревня сижно 13710.р поселок житково 14956.р поселок станции свирь 15000.р поселок станции лужайка 15000.р деревня ям-тесово 15094.р поселок почап 16038.р\n",
    "\n",
    "Теперь выделим квартиры в Санкт-Петербурге с помощью столбца locality_name и вычислим среднюю цену каждого километра."
   ]
  },
  {
   "cell_type": "code",
   "execution_count": 127,
   "metadata": {},
   "outputs": [
    {
     "data": {
      "text/plain": [
       "<AxesSubplot:xlabel='center_distance_km'>"
      ]
     },
     "execution_count": 127,
     "metadata": {},
     "output_type": "execute_result"
    },
    {
     "data": {
      "image/png": "[encoded data removed]",
      "text/plain": [
       "<Figure size 432x288 with 1 Axes>"
      ]
     },
     "metadata": {
      "needs_background": "light"
     },
     "output_type": "display_data"
    }
   ],
   "source": [
    "data[data['locality_name'] == 'санкт-петербург'].pivot_table(index = 'center_distance_km', values = 'last_price').plot(kind = 'bar')"
   ]
  },
  {
   "cell_type": "code",
   "execution_count": 128,
   "metadata": {},
   "outputs": [
    {
     "data": {
      "text/plain": [
       "-0.3738467219784772"
      ]
     },
     "execution_count": 128,
     "metadata": {},
     "output_type": "execute_result"
    }
   ],
   "source": [
    "data[data['locality_name'] == 'санкт-петербург']['center_distance_km'].astype(\"float\").corr(data['last_price'])"
   ]
  },
  {
   "cell_type": "code",
   "execution_count": 129,
   "metadata": {},
   "outputs": [
    {
     "data": {
      "text/html": [
       "<div>\n",
       "<style scoped>\n",
       "    .dataframe tbody tr th:only-of-type {\n",
       "        vertical-align: middle;\n",
       "    }\n",
       "\n",
       "    .dataframe tbody tr th {\n",
       "        vertical-align: top;\n",
       "    }\n",
       "\n",
       "    .dataframe thead th {\n",
       "        text-align: right;\n",
       "    }\n",
       "</style>\n",
       "<table border=\"1\" class=\"dataframe\">\n",
       "  <thead>\n",
       "    <tr style=\"text-align: right;\">\n",
       "      <th></th>\n",
       "      <th>total_images</th>\n",
       "      <th>last_price</th>\n",
       "      <th>total_area</th>\n",
       "      <th>first_day_exposition</th>\n",
       "      <th>rooms</th>\n",
       "      <th>ceiling_height</th>\n",
       "      <th>floors_total</th>\n",
       "      <th>living_area</th>\n",
       "      <th>floor</th>\n",
       "      <th>is_apartment</th>\n",
       "      <th>studio</th>\n",
       "      <th>open_plan</th>\n",
       "      <th>kitchen_area</th>\n",
       "      <th>balcony</th>\n",
       "      <th>locality_name</th>\n",
       "      <th>airports_nearest</th>\n",
       "      <th>city_centers_nearest</th>\n",
       "      <th>parks_around3000</th>\n",
       "      <th>parks_nearest</th>\n",
       "      <th>ponds_around3000</th>\n",
       "      <th>ponds_nearest</th>\n",
       "      <th>days_exposition</th>\n",
       "      <th>price_one_metr</th>\n",
       "      <th>day_of_the_week</th>\n",
       "      <th>month_of_exposition</th>\n",
       "      <th>year_of_exposition</th>\n",
       "      <th>type_of_floor</th>\n",
       "      <th>center_distance_km</th>\n",
       "      <th>digit_type_of_floor</th>\n",
       "    </tr>\n",
       "  </thead>\n",
       "  <tbody>\n",
       "    <tr>\n",
       "      <th>2346</th>\n",
       "      <td>20</td>\n",
       "      <td>29500000</td>\n",
       "      <td>115.00</td>\n",
       "      <td>2017-07-21</td>\n",
       "      <td>3</td>\n",
       "      <td>3.00</td>\n",
       "      <td>2</td>\n",
       "      <td>69.75</td>\n",
       "      <td>2</td>\n",
       "      <td>False</td>\n",
       "      <td>False</td>\n",
       "      <td>False</td>\n",
       "      <td>19.2</td>\n",
       "      <td>4</td>\n",
       "      <td>пушкин</td>\n",
       "      <td>14456.0</td>\n",
       "      <td>26609.0</td>\n",
       "      <td>3.0</td>\n",
       "      <td>229.0</td>\n",
       "      <td>3.0</td>\n",
       "      <td>172.0</td>\n",
       "      <td>328</td>\n",
       "      <td>256522.0</td>\n",
       "      <td>4</td>\n",
       "      <td>7</td>\n",
       "      <td>2017</td>\n",
       "      <td>последний</td>\n",
       "      <td>27</td>\n",
       "      <td>3</td>\n",
       "    </tr>\n",
       "    <tr>\n",
       "      <th>17887</th>\n",
       "      <td>15</td>\n",
       "      <td>24800000</td>\n",
       "      <td>190.00</td>\n",
       "      <td>2014-12-10</td>\n",
       "      <td>4</td>\n",
       "      <td>2.62</td>\n",
       "      <td>4</td>\n",
       "      <td>104.10</td>\n",
       "      <td>3</td>\n",
       "      <td>False</td>\n",
       "      <td>False</td>\n",
       "      <td>False</td>\n",
       "      <td>30.0</td>\n",
       "      <td>0</td>\n",
       "      <td>пушкин</td>\n",
       "      <td>15072.0</td>\n",
       "      <td>27226.0</td>\n",
       "      <td>1.0</td>\n",
       "      <td>114.0</td>\n",
       "      <td>0.0</td>\n",
       "      <td>NaN</td>\n",
       "      <td>&lt;NA&gt;</td>\n",
       "      <td>130526.0</td>\n",
       "      <td>2</td>\n",
       "      <td>12</td>\n",
       "      <td>2014</td>\n",
       "      <td>другой</td>\n",
       "      <td>27</td>\n",
       "      <td>2</td>\n",
       "    </tr>\n",
       "    <tr>\n",
       "      <th>137</th>\n",
       "      <td>8</td>\n",
       "      <td>16912000</td>\n",
       "      <td>105.70</td>\n",
       "      <td>2016-12-09</td>\n",
       "      <td>2</td>\n",
       "      <td>2.70</td>\n",
       "      <td>3</td>\n",
       "      <td>48.40</td>\n",
       "      <td>1</td>\n",
       "      <td>False</td>\n",
       "      <td>False</td>\n",
       "      <td>False</td>\n",
       "      <td>15.4</td>\n",
       "      <td>0</td>\n",
       "      <td>пушкин</td>\n",
       "      <td>14352.0</td>\n",
       "      <td>26506.0</td>\n",
       "      <td>3.0</td>\n",
       "      <td>366.0</td>\n",
       "      <td>3.0</td>\n",
       "      <td>179.0</td>\n",
       "      <td>390</td>\n",
       "      <td>160000.0</td>\n",
       "      <td>4</td>\n",
       "      <td>12</td>\n",
       "      <td>2016</td>\n",
       "      <td>первый</td>\n",
       "      <td>27</td>\n",
       "      <td>1</td>\n",
       "    </tr>\n",
       "    <tr>\n",
       "      <th>7773</th>\n",
       "      <td>17</td>\n",
       "      <td>16600000</td>\n",
       "      <td>106.00</td>\n",
       "      <td>2017-12-02</td>\n",
       "      <td>4</td>\n",
       "      <td>3.20</td>\n",
       "      <td>3</td>\n",
       "      <td>50.00</td>\n",
       "      <td>3</td>\n",
       "      <td>False</td>\n",
       "      <td>False</td>\n",
       "      <td>False</td>\n",
       "      <td>30.0</td>\n",
       "      <td>0</td>\n",
       "      <td>пушкин</td>\n",
       "      <td>14822.0</td>\n",
       "      <td>26976.0</td>\n",
       "      <td>1.0</td>\n",
       "      <td>254.0</td>\n",
       "      <td>0.0</td>\n",
       "      <td>NaN</td>\n",
       "      <td>&lt;NA&gt;</td>\n",
       "      <td>156604.0</td>\n",
       "      <td>5</td>\n",
       "      <td>12</td>\n",
       "      <td>2017</td>\n",
       "      <td>последний</td>\n",
       "      <td>27</td>\n",
       "      <td>3</td>\n",
       "    </tr>\n",
       "    <tr>\n",
       "      <th>15163</th>\n",
       "      <td>20</td>\n",
       "      <td>16000000</td>\n",
       "      <td>101.90</td>\n",
       "      <td>2018-01-08</td>\n",
       "      <td>2</td>\n",
       "      <td>2.87</td>\n",
       "      <td>4</td>\n",
       "      <td>48.10</td>\n",
       "      <td>1</td>\n",
       "      <td>False</td>\n",
       "      <td>False</td>\n",
       "      <td>False</td>\n",
       "      <td>26.9</td>\n",
       "      <td>0</td>\n",
       "      <td>пушкин</td>\n",
       "      <td>15201.0</td>\n",
       "      <td>27355.0</td>\n",
       "      <td>2.0</td>\n",
       "      <td>273.0</td>\n",
       "      <td>3.0</td>\n",
       "      <td>368.0</td>\n",
       "      <td>&lt;NA&gt;</td>\n",
       "      <td>157017.0</td>\n",
       "      <td>0</td>\n",
       "      <td>1</td>\n",
       "      <td>2018</td>\n",
       "      <td>первый</td>\n",
       "      <td>27</td>\n",
       "      <td>1</td>\n",
       "    </tr>\n",
       "    <tr>\n",
       "      <th>12132</th>\n",
       "      <td>11</td>\n",
       "      <td>15000000</td>\n",
       "      <td>89.60</td>\n",
       "      <td>2017-01-31</td>\n",
       "      <td>3</td>\n",
       "      <td>NaN</td>\n",
       "      <td>3</td>\n",
       "      <td>57.00</td>\n",
       "      <td>3</td>\n",
       "      <td>False</td>\n",
       "      <td>False</td>\n",
       "      <td>False</td>\n",
       "      <td>13.5</td>\n",
       "      <td>0</td>\n",
       "      <td>пушкин</td>\n",
       "      <td>15065.0</td>\n",
       "      <td>27218.0</td>\n",
       "      <td>3.0</td>\n",
       "      <td>317.0</td>\n",
       "      <td>3.0</td>\n",
       "      <td>509.0</td>\n",
       "      <td>357</td>\n",
       "      <td>167411.0</td>\n",
       "      <td>1</td>\n",
       "      <td>1</td>\n",
       "      <td>2017</td>\n",
       "      <td>последний</td>\n",
       "      <td>27</td>\n",
       "      <td>3</td>\n",
       "    </tr>\n",
       "    <tr>\n",
       "      <th>721</th>\n",
       "      <td>13</td>\n",
       "      <td>14350000</td>\n",
       "      <td>74.00</td>\n",
       "      <td>2017-11-28</td>\n",
       "      <td>2</td>\n",
       "      <td>3.13</td>\n",
       "      <td>5</td>\n",
       "      <td>30.00</td>\n",
       "      <td>3</td>\n",
       "      <td>False</td>\n",
       "      <td>False</td>\n",
       "      <td>False</td>\n",
       "      <td>25.0</td>\n",
       "      <td>0</td>\n",
       "      <td>санкт-петербург</td>\n",
       "      <td>23888.0</td>\n",
       "      <td>27313.0</td>\n",
       "      <td>1.0</td>\n",
       "      <td>1496.0</td>\n",
       "      <td>0.0</td>\n",
       "      <td>NaN</td>\n",
       "      <td>128</td>\n",
       "      <td>193919.0</td>\n",
       "      <td>1</td>\n",
       "      <td>11</td>\n",
       "      <td>2017</td>\n",
       "      <td>другой</td>\n",
       "      <td>27</td>\n",
       "      <td>2</td>\n",
       "    </tr>\n",
       "    <tr>\n",
       "      <th>4273</th>\n",
       "      <td>4</td>\n",
       "      <td>12300000</td>\n",
       "      <td>78.65</td>\n",
       "      <td>2017-09-09</td>\n",
       "      <td>3</td>\n",
       "      <td>NaN</td>\n",
       "      <td>5</td>\n",
       "      <td>48.00</td>\n",
       "      <td>1</td>\n",
       "      <td>False</td>\n",
       "      <td>False</td>\n",
       "      <td>False</td>\n",
       "      <td>11.0</td>\n",
       "      <td>0</td>\n",
       "      <td>пушкин</td>\n",
       "      <td>14567.0</td>\n",
       "      <td>26720.0</td>\n",
       "      <td>2.0</td>\n",
       "      <td>403.0</td>\n",
       "      <td>0.0</td>\n",
       "      <td>NaN</td>\n",
       "      <td>4</td>\n",
       "      <td>156389.0</td>\n",
       "      <td>5</td>\n",
       "      <td>9</td>\n",
       "      <td>2017</td>\n",
       "      <td>первый</td>\n",
       "      <td>27</td>\n",
       "      <td>1</td>\n",
       "    </tr>\n",
       "    <tr>\n",
       "      <th>2868</th>\n",
       "      <td>23</td>\n",
       "      <td>11350000</td>\n",
       "      <td>75.00</td>\n",
       "      <td>2017-08-15</td>\n",
       "      <td>3</td>\n",
       "      <td>3.50</td>\n",
       "      <td>2</td>\n",
       "      <td>52.70</td>\n",
       "      <td>2</td>\n",
       "      <td>False</td>\n",
       "      <td>False</td>\n",
       "      <td>False</td>\n",
       "      <td>8.7</td>\n",
       "      <td>4</td>\n",
       "      <td>пушкин</td>\n",
       "      <td>15337.0</td>\n",
       "      <td>27490.0</td>\n",
       "      <td>3.0</td>\n",
       "      <td>216.0</td>\n",
       "      <td>3.0</td>\n",
       "      <td>153.0</td>\n",
       "      <td>207</td>\n",
       "      <td>151333.0</td>\n",
       "      <td>1</td>\n",
       "      <td>8</td>\n",
       "      <td>2017</td>\n",
       "      <td>последний</td>\n",
       "      <td>27</td>\n",
       "      <td>3</td>\n",
       "    </tr>\n",
       "    <tr>\n",
       "      <th>21436</th>\n",
       "      <td>15</td>\n",
       "      <td>10900000</td>\n",
       "      <td>145.00</td>\n",
       "      <td>2017-04-17</td>\n",
       "      <td>2</td>\n",
       "      <td>3.50</td>\n",
       "      <td>2</td>\n",
       "      <td>39.00</td>\n",
       "      <td>2</td>\n",
       "      <td>False</td>\n",
       "      <td>False</td>\n",
       "      <td>False</td>\n",
       "      <td>10.0</td>\n",
       "      <td>0</td>\n",
       "      <td>пушкин</td>\n",
       "      <td>15337.0</td>\n",
       "      <td>27490.0</td>\n",
       "      <td>3.0</td>\n",
       "      <td>216.0</td>\n",
       "      <td>3.0</td>\n",
       "      <td>153.0</td>\n",
       "      <td>188</td>\n",
       "      <td>75172.0</td>\n",
       "      <td>0</td>\n",
       "      <td>4</td>\n",
       "      <td>2017</td>\n",
       "      <td>последний</td>\n",
       "      <td>27</td>\n",
       "      <td>3</td>\n",
       "    </tr>\n",
       "  </tbody>\n",
       "</table>\n",
       "</div>"
      ],
      "text/plain": [
       "       total_images  last_price  total_area first_day_exposition  rooms  \\\n",
       "2346             20    29500000      115.00           2017-07-21      3   \n",
       "17887            15    24800000      190.00           2014-12-10      4   \n",
       "137               8    16912000      105.70           2016-12-09      2   \n",
       "7773             17    16600000      106.00           2017-12-02      4   \n",
       "15163            20    16000000      101.90           2018-01-08      2   \n",
       "12132            11    15000000       89.60           2017-01-31      3   \n",
       "721              13    14350000       74.00           2017-11-28      2   \n",
       "4273              4    12300000       78.65           2017-09-09      3   \n",
       "2868             23    11350000       75.00           2017-08-15      3   \n",
       "21436            15    10900000      145.00           2017-04-17      2   \n",
       "\n",
       "       ceiling_height  floors_total  living_area  floor  is_apartment  studio  \\\n",
       "2346             3.00             2        69.75      2         False   False   \n",
       "17887            2.62             4       104.10      3         False   False   \n",
       "137              2.70             3        48.40      1         False   False   \n",
       "7773             3.20             3        50.00      3         False   False   \n",
       "15163            2.87             4        48.10      1         False   False   \n",
       "12132             NaN             3        57.00      3         False   False   \n",
       "721              3.13             5        30.00      3         False   False   \n",
       "4273              NaN             5        48.00      1         False   False   \n",
       "2868             3.50             2        52.70      2         False   False   \n",
       "21436            3.50             2        39.00      2         False   False   \n",
       "\n",
       "       open_plan  kitchen_area  balcony    locality_name  airports_nearest  \\\n",
       "2346       False          19.2        4           пушкин           14456.0   \n",
       "17887      False          30.0        0           пушкин           15072.0   \n",
       "137        False          15.4        0           пушкин           14352.0   \n",
       "7773       False          30.0        0           пушкин           14822.0   \n",
       "15163      False          26.9        0           пушкин           15201.0   \n",
       "12132      False          13.5        0           пушкин           15065.0   \n",
       "721        False          25.0        0  санкт-петербург           23888.0   \n",
       "4273       False          11.0        0           пушкин           14567.0   \n",
       "2868       False           8.7        4           пушкин           15337.0   \n",
       "21436      False          10.0        0           пушкин           15337.0   \n",
       "\n",
       "       city_centers_nearest  parks_around3000  parks_nearest  \\\n",
       "2346                26609.0               3.0          229.0   \n",
       "17887               27226.0               1.0          114.0   \n",
       "137                 26506.0               3.0          366.0   \n",
       "7773                26976.0               1.0          254.0   \n",
       "15163               27355.0               2.0          273.0   \n",
       "12132               27218.0               3.0          317.0   \n",
       "721                 27313.0               1.0         1496.0   \n",
       "4273                26720.0               2.0          403.0   \n",
       "2868                27490.0               3.0          216.0   \n",
       "21436               27490.0               3.0          216.0   \n",
       "\n",
       "       ponds_around3000  ponds_nearest  days_exposition  price_one_metr  \\\n",
       "2346                3.0          172.0              328        256522.0   \n",
       "17887               0.0            NaN             <NA>        130526.0   \n",
       "137                 3.0          179.0              390        160000.0   \n",
       "7773                0.0            NaN             <NA>        156604.0   \n",
       "15163               3.0          368.0             <NA>        157017.0   \n",
       "12132               3.0          509.0              357        167411.0   \n",
       "721                 0.0            NaN              128        193919.0   \n",
       "4273                0.0            NaN                4        156389.0   \n",
       "2868                3.0          153.0              207        151333.0   \n",
       "21436               3.0          153.0              188         75172.0   \n",
       "\n",
       "       day_of_the_week  month_of_exposition  year_of_exposition type_of_floor  \\\n",
       "2346                 4                    7                2017     последний   \n",
       "17887                2                   12                2014        другой   \n",
       "137                  4                   12                2016        первый   \n",
       "7773                 5                   12                2017     последний   \n",
       "15163                0                    1                2018        первый   \n",
       "12132                1                    1                2017     последний   \n",
       "721                  1                   11                2017        другой   \n",
       "4273                 5                    9                2017        первый   \n",
       "2868                 1                    8                2017     последний   \n",
       "21436                0                    4                2017     последний   \n",
       "\n",
       "       center_distance_km  digit_type_of_floor  \n",
       "2346                   27                    3  \n",
       "17887                  27                    2  \n",
       "137                    27                    1  \n",
       "7773                   27                    3  \n",
       "15163                  27                    1  \n",
       "12132                  27                    3  \n",
       "721                    27                    2  \n",
       "4273                   27                    1  \n",
       "2868                   27                    3  \n",
       "21436                  27                    3  "
      ]
     },
     "execution_count": 129,
     "metadata": {},
     "output_type": "execute_result"
    }
   ],
   "source": [
    "data[data['center_distance_km'] == 27].sort_values(by = 'last_price', ascending = False).head(10)"
   ]
  },
  {
   "cell_type": "markdown",
   "metadata": {},
   "source": [
    "Видим, что самая дорогая недвижимость, ожидаемо, в самом центре, до километра, далее более дешёвая недвижимость на расстоянии до 4х километров, потом резкое падение цены на 4км, с постепенным ростом до 8км. Выделяется всплеск на 27км, похоже это влияние дорогой недвижимости пушкинa."
   ]
  },
  {
   "cell_type": "markdown",
   "metadata": {},
   "source": [
    "Самыми популярными являются квартиры:\n",
    "\n",
    "общей площадью от 40 до 68кв.м\n",
    "жилой площадью 15-21кв.м и 22-34кв.м\n",
    "с кухнями, площадью 5-11кв.м.\n",
    "ценой от 2,5 до 6 млн.р\n",
    "с высотой потолков от 2,5 до 2,8м\n",
    "расположенных на средних этажах\n",
    "в пяти-, девяти-, двенадцати- и шестнадцатиэтажных домах\n",
    "расположенных на расстоянии 8-17км от центра города\n",
    "расположенных от 10 до 28км от аэропорта\n",
    "расположенных от 100 до 700м до ближайшего парка\n",
    "Объявления о продаже реже публикуют в выходные, а чаще - в будни.\n",
    "Меньше публикуют в декабре, мае и январе, чаще - с февраля по апрель и в ноябре.\n",
    "Продажи до 90 дней можно считать быстрыми, а более 220 дней - медленными.\n",
    "Факторы, которые больше всего влияют на общую (полную) стоимость объекта:\n",
    "цена объекта недвижимости больше всего зависит (в порядке убывания) от общей и жилой площади, площади кухни и количества комнат. Мало зависит от этажа, на котором расположена квартира, с небольшой поправкой на первый этаж, где цена несколько ниже и почти не зависит от даты размещения объявления.\n",
    "По количеству предложений, самыми популярными населёнными пунктами являются: санкт-петербург, поселок мурино, поселок шушары, всеволожск, пушкин, колпино, поселок парголово, гатчина, деревня кудрово и выборг. Цена на квадратный метр общей площади в этих населённых пунктах колеблется от 57936р Выборге до 112301р в Петербурге. Самыми дорогими населёнными пунктами по средней цене за квадратный метр оказались: зеленогорск 122510р, поселок лисий нос 113728р, санкт-петербург 112301р, поселок репино 104238р, пушкин 102698р, сестрорецк 102012р, кудрово 100353р, деревня мистолово 98550р, поселок левашово 96998р, мурино 92722р. Самыми дешёвыми населёнными пунктами по средней цене за квадратный метр оказались: поселок совхозный 12556.р деревня малая романовка 12725.р поселок тесово-4 12931.р деревня выскатка 13208.р деревня сижно 13710.р поселок житково 14956.р поселок станции свирь 15000.р поселок станции лужайка 15000.р деревня ям-тесово 15094.р поселок почап 16038.р.\n",
    "Видим, что самая дорогая недвижимость, ожидаемо, в самом центре, до километра, далее более дешёвая недвижимость на расстоянии до 4х километров, потом резкое падение цены на 4км, с постепенным ростом до 8км. Выделяется всплеск на 27км, похоже, это влияние дорогой недвижимости Пушкинa."
   ]
  },
  {
   "cell_type": "markdown",
   "metadata": {},
   "source": [
    "### Общий вывод"
   ]
  },
  {
   "cell_type": "markdown",
   "metadata": {},
   "source": [
    "Предоставленный архив содержит информацию, которую можно анализировать, если предварительно преобразовать часть типов данных и удалить выбросы.\n",
    "В результате проведенного исследовательского анализа данных можно сказать, что больше всего на рынке представлено одно- и двух- комнатных квартир, чаще всего продают квартиры с потолками 2,5-2,8м. Самыми популярными являются пяти- и девятиэтажки. Быстрыми можно считать продажи до 90 дней, а медленные - более 220 дней. Кроме того, есть всплески продаж на 45, 60 и 90 дни, что, скорее всего, связано с особенностями размещения/удаления объявлений.\n",
    "Цена на недвижимость прямо зависит от общей и жилой площади, в меньшей степени от площади кухни и количества комнат. Немного дешевле квартиры на первом этаже, в остальном цена от этажа зависит мало. Явной зависимости от даты размещения объявления не прослеживается.\n",
    "По количеству предложений, самыми популярными населёнными пунктами являются: санкт-петербург, поселок мурино, поселок шушары, всеволожск, пушкин, колпино, поселок парголово, гатчина, деревня кудрово и выборг. Цена на квадратный метр общей площади в этих населённых пунктах колеблется от 57936р Выборге до 112301р в Петербурге.\n",
    "Самыми дорогими населёнными пунктами по средней цене за квадратный метр оказались Зеленогорск, посёлок Лисий Нос, Санкт-Петербург, посёлок Репино и Пушкин.\n",
    "Что касается Петербурга, то самая дорогая недвижимость в центре(до 4 км от центра), несколько меньше в радиусе до 8 км от центра, также наблюдается всплеск цены на расстоянии 27 км, что соответствует Пушкину."
   ]
  }
 ],
 "metadata": {
  "ExecuteTimeLog": [
   {
    "duration": 398,
    "start_time": "2023-02-16T07:58:46.139Z"
   },
   {
    "duration": 317,
    "start_time": "2023-02-16T07:59:17.308Z"
   },
   {
    "duration": 93,
    "start_time": "2023-02-16T07:59:34.193Z"
   },
   {
    "duration": 99,
    "start_time": "2023-02-16T08:07:29.583Z"
   },
   {
    "duration": 89,
    "start_time": "2023-02-16T08:07:43.027Z"
   },
   {
    "duration": 92,
    "start_time": "2023-02-16T08:08:13.149Z"
   },
   {
    "duration": 94,
    "start_time": "2023-02-16T08:14:14.739Z"
   },
   {
    "duration": 87,
    "start_time": "2023-02-16T08:14:23.019Z"
   },
   {
    "duration": 95,
    "start_time": "2023-02-16T08:15:54.409Z"
   },
   {
    "duration": 97,
    "start_time": "2023-02-16T08:16:08.539Z"
   },
   {
    "duration": 100,
    "start_time": "2023-02-16T08:16:17.806Z"
   },
   {
    "duration": 96,
    "start_time": "2023-02-16T08:16:37.058Z"
   },
   {
    "duration": 112,
    "start_time": "2023-02-16T08:17:45.210Z"
   },
   {
    "duration": 96,
    "start_time": "2023-02-16T08:18:06.325Z"
   },
   {
    "duration": 87,
    "start_time": "2023-02-16T08:21:06.665Z"
   },
   {
    "duration": 138,
    "start_time": "2023-02-16T08:21:13.210Z"
   },
   {
    "duration": 129,
    "start_time": "2023-02-16T08:26:17.871Z"
   },
   {
    "duration": 439,
    "start_time": "2023-02-16T10:11:18.171Z"
   },
   {
    "duration": 232,
    "start_time": "2023-02-16T10:11:26.654Z"
   },
   {
    "duration": 17,
    "start_time": "2023-02-16T10:14:05.132Z"
   },
   {
    "duration": 124,
    "start_time": "2023-02-16T10:25:39.982Z"
   },
   {
    "duration": 114,
    "start_time": "2023-02-16T10:28:37.330Z"
   },
   {
    "duration": 108,
    "start_time": "2023-02-16T10:29:38.876Z"
   },
   {
    "duration": 54,
    "start_time": "2023-02-16T11:05:08.969Z"
   },
   {
    "duration": 29,
    "start_time": "2023-02-16T11:07:08.714Z"
   },
   {
    "duration": 2826,
    "start_time": "2023-02-16T12:52:56.415Z"
   },
   {
    "duration": 2303,
    "start_time": "2023-02-16T12:53:18.013Z"
   },
   {
    "duration": 2355,
    "start_time": "2023-02-16T12:54:28.366Z"
   },
   {
    "duration": 2257,
    "start_time": "2023-02-16T12:54:38.133Z"
   },
   {
    "duration": 2310,
    "start_time": "2023-02-16T12:54:44.885Z"
   },
   {
    "duration": 1421,
    "start_time": "2023-02-16T12:56:07.536Z"
   },
   {
    "duration": 2479,
    "start_time": "2023-02-16T12:56:34.402Z"
   },
   {
    "duration": 2525,
    "start_time": "2023-02-16T13:01:53.746Z"
   },
   {
    "duration": 8,
    "start_time": "2023-02-17T06:59:40.090Z"
   },
   {
    "duration": 4,
    "start_time": "2023-02-17T07:06:09.379Z"
   },
   {
    "duration": 434,
    "start_time": "2023-02-17T07:08:12.273Z"
   },
   {
    "duration": 472,
    "start_time": "2023-02-17T07:08:12.709Z"
   },
   {
    "duration": 16,
    "start_time": "2023-02-17T07:08:13.183Z"
   },
   {
    "duration": 2683,
    "start_time": "2023-02-17T07:08:13.201Z"
   },
   {
    "duration": 34,
    "start_time": "2023-02-17T07:08:15.886Z"
   },
   {
    "duration": 46,
    "start_time": "2023-02-17T07:08:15.921Z"
   },
   {
    "duration": 12,
    "start_time": "2023-02-17T07:08:15.969Z"
   },
   {
    "duration": 4,
    "start_time": "2023-02-17T07:10:53.989Z"
   },
   {
    "duration": 6,
    "start_time": "2023-02-17T07:10:57.972Z"
   },
   {
    "duration": 6,
    "start_time": "2023-02-17T07:11:09.375Z"
   },
   {
    "duration": 15,
    "start_time": "2023-02-17T07:11:59.879Z"
   },
   {
    "duration": 7,
    "start_time": "2023-02-17T07:13:36.193Z"
   },
   {
    "duration": 14,
    "start_time": "2023-02-17T07:13:48.878Z"
   },
   {
    "duration": 5,
    "start_time": "2023-02-17T07:18:19.456Z"
   },
   {
    "duration": 10,
    "start_time": "2023-02-17T07:19:32.627Z"
   },
   {
    "duration": 2,
    "start_time": "2023-02-17T07:20:29.927Z"
   },
   {
    "duration": 13,
    "start_time": "2023-02-17T07:20:33.606Z"
   },
   {
    "duration": 5,
    "start_time": "2023-02-17T07:20:42.091Z"
   },
   {
    "duration": 26,
    "start_time": "2023-02-17T07:20:53.205Z"
   },
   {
    "duration": 14,
    "start_time": "2023-02-17T07:28:09.836Z"
   },
   {
    "duration": 25,
    "start_time": "2023-02-17T07:28:14.532Z"
   },
   {
    "duration": 12,
    "start_time": "2023-02-17T07:28:30.660Z"
   },
   {
    "duration": 15,
    "start_time": "2023-02-17T07:28:36.876Z"
   },
   {
    "duration": 25,
    "start_time": "2023-02-17T07:28:40.718Z"
   },
   {
    "duration": 18,
    "start_time": "2023-02-17T07:28:57.140Z"
   },
   {
    "duration": 40,
    "start_time": "2023-02-17T07:29:22.601Z"
   },
   {
    "duration": 18,
    "start_time": "2023-02-17T07:29:28.047Z"
   },
   {
    "duration": 6,
    "start_time": "2023-02-17T07:31:05.772Z"
   },
   {
    "duration": 7,
    "start_time": "2023-02-17T07:31:51.084Z"
   },
   {
    "duration": 14,
    "start_time": "2023-02-17T07:32:00.570Z"
   },
   {
    "duration": 128,
    "start_time": "2023-02-17T07:37:14.429Z"
   },
   {
    "duration": 11,
    "start_time": "2023-02-17T07:37:43.747Z"
   },
   {
    "duration": 23,
    "start_time": "2023-02-17T07:37:47.502Z"
   },
   {
    "duration": 11,
    "start_time": "2023-02-17T07:39:30.686Z"
   },
   {
    "duration": 19,
    "start_time": "2023-02-17T07:39:34.027Z"
   },
   {
    "duration": 39,
    "start_time": "2023-02-17T07:40:08.539Z"
   },
   {
    "duration": 425,
    "start_time": "2023-02-17T07:40:42.644Z"
   },
   {
    "duration": 161,
    "start_time": "2023-02-17T07:40:43.071Z"
   },
   {
    "duration": 21,
    "start_time": "2023-02-17T07:40:43.234Z"
   },
   {
    "duration": 2666,
    "start_time": "2023-02-17T07:40:43.256Z"
   },
   {
    "duration": 53,
    "start_time": "2023-02-17T07:40:45.925Z"
   },
   {
    "duration": 16,
    "start_time": "2023-02-17T07:40:45.979Z"
   },
   {
    "duration": 37,
    "start_time": "2023-02-17T07:40:45.996Z"
   },
   {
    "duration": 14,
    "start_time": "2023-02-17T07:40:46.037Z"
   },
   {
    "duration": 2,
    "start_time": "2023-02-17T07:40:46.053Z"
   },
   {
    "duration": 10,
    "start_time": "2023-02-17T07:40:46.056Z"
   },
   {
    "duration": 15,
    "start_time": "2023-02-17T07:40:46.068Z"
   },
   {
    "duration": 5,
    "start_time": "2023-02-17T07:41:17.673Z"
   },
   {
    "duration": 6,
    "start_time": "2023-02-17T07:42:22.198Z"
   },
   {
    "duration": 11,
    "start_time": "2023-02-17T07:42:48.485Z"
   },
   {
    "duration": 20,
    "start_time": "2023-02-17T07:43:03.729Z"
   },
   {
    "duration": 14,
    "start_time": "2023-02-17T07:45:11.077Z"
   },
   {
    "duration": 51,
    "start_time": "2023-02-17T09:38:41.475Z"
   },
   {
    "duration": 50,
    "start_time": "2023-02-17T09:39:00.541Z"
   },
   {
    "duration": 396,
    "start_time": "2023-02-17T09:39:19.052Z"
   },
   {
    "duration": 190,
    "start_time": "2023-02-17T09:39:19.451Z"
   },
   {
    "duration": 14,
    "start_time": "2023-02-17T09:39:19.643Z"
   },
   {
    "duration": 2584,
    "start_time": "2023-02-17T09:39:19.659Z"
   },
   {
    "duration": 45,
    "start_time": "2023-02-17T09:39:22.246Z"
   },
   {
    "duration": 4,
    "start_time": "2023-02-17T09:39:22.293Z"
   },
   {
    "duration": 12,
    "start_time": "2023-02-17T09:39:22.299Z"
   },
   {
    "duration": 18,
    "start_time": "2023-02-17T09:39:22.313Z"
   },
   {
    "duration": 20,
    "start_time": "2023-02-17T09:39:22.333Z"
   },
   {
    "duration": 17,
    "start_time": "2023-02-17T09:39:22.355Z"
   },
   {
    "duration": 16,
    "start_time": "2023-02-17T09:39:22.374Z"
   },
   {
    "duration": 11,
    "start_time": "2023-02-17T09:45:07.969Z"
   },
   {
    "duration": 6,
    "start_time": "2023-02-17T09:45:41.332Z"
   },
   {
    "duration": 13,
    "start_time": "2023-02-17T09:45:44.978Z"
   },
   {
    "duration": 10,
    "start_time": "2023-02-17T09:45:48.426Z"
   },
   {
    "duration": 9,
    "start_time": "2023-02-17T09:45:56.173Z"
   },
   {
    "duration": 364,
    "start_time": "2023-02-17T09:46:18.168Z"
   },
   {
    "duration": 136,
    "start_time": "2023-02-17T09:46:18.534Z"
   },
   {
    "duration": 19,
    "start_time": "2023-02-17T09:46:18.672Z"
   },
   {
    "duration": 2434,
    "start_time": "2023-02-17T09:46:18.693Z"
   },
   {
    "duration": 56,
    "start_time": "2023-02-17T09:46:21.130Z"
   },
   {
    "duration": 3,
    "start_time": "2023-02-17T09:46:21.188Z"
   },
   {
    "duration": 20,
    "start_time": "2023-02-17T09:46:21.192Z"
   },
   {
    "duration": 20,
    "start_time": "2023-02-17T09:46:21.214Z"
   },
   {
    "duration": 19,
    "start_time": "2023-02-17T09:46:21.235Z"
   },
   {
    "duration": 12,
    "start_time": "2023-02-17T09:46:21.256Z"
   },
   {
    "duration": 24,
    "start_time": "2023-02-17T09:46:21.270Z"
   },
   {
    "duration": 9,
    "start_time": "2023-02-17T09:46:21.296Z"
   },
   {
    "duration": 14,
    "start_time": "2023-02-17T09:48:06.346Z"
   },
   {
    "duration": 11,
    "start_time": "2023-02-17T09:48:35.445Z"
   },
   {
    "duration": 13,
    "start_time": "2023-02-17T09:48:40.811Z"
   },
   {
    "duration": 10,
    "start_time": "2023-02-17T09:50:29.183Z"
   },
   {
    "duration": 20,
    "start_time": "2023-02-17T09:50:33.820Z"
   },
   {
    "duration": 7,
    "start_time": "2023-02-17T09:50:51.897Z"
   },
   {
    "duration": 11,
    "start_time": "2023-02-17T09:50:55.209Z"
   },
   {
    "duration": 403,
    "start_time": "2023-02-17T09:51:04.353Z"
   },
   {
    "duration": 118,
    "start_time": "2023-02-17T09:51:04.758Z"
   },
   {
    "duration": 15,
    "start_time": "2023-02-17T09:51:04.878Z"
   },
   {
    "duration": 2324,
    "start_time": "2023-02-17T09:51:04.895Z"
   },
   {
    "duration": 50,
    "start_time": "2023-02-17T09:51:07.221Z"
   },
   {
    "duration": 12,
    "start_time": "2023-02-17T09:51:07.273Z"
   },
   {
    "duration": 23,
    "start_time": "2023-02-17T09:51:07.287Z"
   },
   {
    "duration": 12,
    "start_time": "2023-02-17T09:51:07.312Z"
   },
   {
    "duration": 20,
    "start_time": "2023-02-17T09:51:07.326Z"
   },
   {
    "duration": 9,
    "start_time": "2023-02-17T09:51:07.348Z"
   },
   {
    "duration": 17,
    "start_time": "2023-02-17T09:51:07.358Z"
   },
   {
    "duration": 16,
    "start_time": "2023-02-17T09:51:07.376Z"
   },
   {
    "duration": 6,
    "start_time": "2023-02-17T09:52:08.212Z"
   },
   {
    "duration": 13,
    "start_time": "2023-02-17T09:52:12.147Z"
   },
   {
    "duration": 4,
    "start_time": "2023-02-17T11:46:59.625Z"
   },
   {
    "duration": 5,
    "start_time": "2023-02-17T11:51:33.111Z"
   },
   {
    "duration": 22,
    "start_time": "2023-02-17T11:55:25.586Z"
   },
   {
    "duration": 9,
    "start_time": "2023-02-17T11:56:01.646Z"
   },
   {
    "duration": 5,
    "start_time": "2023-02-17T12:00:10.612Z"
   },
   {
    "duration": 3,
    "start_time": "2023-02-17T12:00:13.961Z"
   },
   {
    "duration": 13,
    "start_time": "2023-02-17T12:00:29.624Z"
   },
   {
    "duration": 8,
    "start_time": "2023-02-17T12:00:49.648Z"
   },
   {
    "duration": 401,
    "start_time": "2023-02-17T12:01:12.362Z"
   },
   {
    "duration": 118,
    "start_time": "2023-02-17T12:01:12.764Z"
   },
   {
    "duration": 14,
    "start_time": "2023-02-17T12:01:12.884Z"
   },
   {
    "duration": 2222,
    "start_time": "2023-02-17T12:01:12.901Z"
   },
   {
    "duration": 43,
    "start_time": "2023-02-17T12:01:15.125Z"
   },
   {
    "duration": 23,
    "start_time": "2023-02-17T12:01:15.169Z"
   },
   {
    "duration": 131,
    "start_time": "2023-02-17T12:01:15.194Z"
   },
   {
    "duration": 25,
    "start_time": "2023-02-17T12:01:15.327Z"
   },
   {
    "duration": 79,
    "start_time": "2023-02-17T12:01:15.354Z"
   },
   {
    "duration": 11,
    "start_time": "2023-02-17T12:01:15.436Z"
   },
   {
    "duration": 16,
    "start_time": "2023-02-17T12:01:15.449Z"
   },
   {
    "duration": 25,
    "start_time": "2023-02-17T12:01:15.467Z"
   },
   {
    "duration": 19,
    "start_time": "2023-02-17T12:01:15.494Z"
   },
   {
    "duration": 36,
    "start_time": "2023-02-17T12:01:15.515Z"
   },
   {
    "duration": 13,
    "start_time": "2023-02-17T12:01:15.553Z"
   },
   {
    "duration": 16,
    "start_time": "2023-02-17T12:01:15.567Z"
   },
   {
    "duration": 4,
    "start_time": "2023-02-17T12:01:54.603Z"
   },
   {
    "duration": 71,
    "start_time": "2023-02-17T12:02:18.423Z"
   },
   {
    "duration": 8,
    "start_time": "2023-02-17T12:02:29.377Z"
   },
   {
    "duration": 402,
    "start_time": "2023-02-17T12:02:43.149Z"
   },
   {
    "duration": 136,
    "start_time": "2023-02-17T12:02:43.553Z"
   },
   {
    "duration": 29,
    "start_time": "2023-02-17T12:02:43.691Z"
   },
   {
    "duration": 2269,
    "start_time": "2023-02-17T12:02:43.722Z"
   },
   {
    "duration": 45,
    "start_time": "2023-02-17T12:02:45.994Z"
   },
   {
    "duration": 8,
    "start_time": "2023-02-17T12:02:46.041Z"
   },
   {
    "duration": 12,
    "start_time": "2023-02-17T12:02:46.051Z"
   },
   {
    "duration": 7,
    "start_time": "2023-02-17T12:02:46.065Z"
   },
   {
    "duration": 12,
    "start_time": "2023-02-17T12:02:46.074Z"
   },
   {
    "duration": 11,
    "start_time": "2023-02-17T12:02:46.088Z"
   },
   {
    "duration": 26,
    "start_time": "2023-02-17T12:02:46.101Z"
   },
   {
    "duration": 8,
    "start_time": "2023-02-17T12:02:46.129Z"
   },
   {
    "duration": 3,
    "start_time": "2023-02-17T12:02:46.139Z"
   },
   {
    "duration": 6,
    "start_time": "2023-02-17T12:02:46.145Z"
   },
   {
    "duration": 9,
    "start_time": "2023-02-17T12:02:46.152Z"
   },
   {
    "duration": 11,
    "start_time": "2023-02-17T12:02:46.162Z"
   },
   {
    "duration": 13,
    "start_time": "2023-02-17T12:03:47.633Z"
   },
   {
    "duration": 6,
    "start_time": "2023-02-17T12:29:52.161Z"
   },
   {
    "duration": 6,
    "start_time": "2023-02-17T12:30:39.251Z"
   },
   {
    "duration": 10,
    "start_time": "2023-02-17T12:37:01.574Z"
   },
   {
    "duration": 752,
    "start_time": "2023-02-17T12:37:38.706Z"
   },
   {
    "duration": 8,
    "start_time": "2023-02-17T12:37:55.289Z"
   },
   {
    "duration": 12,
    "start_time": "2023-02-17T12:38:13.609Z"
   },
   {
    "duration": 7,
    "start_time": "2023-02-17T12:38:29.377Z"
   },
   {
    "duration": 38,
    "start_time": "2023-02-17T12:39:59.343Z"
   },
   {
    "duration": 12,
    "start_time": "2023-02-17T12:40:34.988Z"
   },
   {
    "duration": 19,
    "start_time": "2023-02-17T12:44:52.415Z"
   },
   {
    "duration": 6,
    "start_time": "2023-02-17T12:45:29.643Z"
   },
   {
    "duration": 9,
    "start_time": "2023-02-17T12:48:42.463Z"
   },
   {
    "duration": 10,
    "start_time": "2023-02-17T12:49:04.654Z"
   },
   {
    "duration": 32,
    "start_time": "2023-02-17T12:50:38.614Z"
   },
   {
    "duration": 28,
    "start_time": "2023-02-17T13:23:28.492Z"
   },
   {
    "duration": 26,
    "start_time": "2023-02-17T13:23:37.294Z"
   },
   {
    "duration": 20,
    "start_time": "2023-02-17T13:24:28.462Z"
   },
   {
    "duration": 26,
    "start_time": "2023-02-17T13:25:09.103Z"
   },
   {
    "duration": 33,
    "start_time": "2023-02-17T13:25:47.579Z"
   },
   {
    "duration": 34,
    "start_time": "2023-02-17T13:26:34.566Z"
   },
   {
    "duration": 8,
    "start_time": "2023-02-17T13:56:30.840Z"
   },
   {
    "duration": 4,
    "start_time": "2023-02-17T13:58:29.566Z"
   },
   {
    "duration": 4,
    "start_time": "2023-02-17T13:58:34.920Z"
   },
   {
    "duration": 6,
    "start_time": "2023-02-17T13:58:47.984Z"
   },
   {
    "duration": 4,
    "start_time": "2023-02-17T13:59:18.717Z"
   },
   {
    "duration": 4,
    "start_time": "2023-02-17T13:59:24.187Z"
   },
   {
    "duration": 3,
    "start_time": "2023-02-17T13:59:31.813Z"
   },
   {
    "duration": 3,
    "start_time": "2023-02-17T14:00:01.010Z"
   },
   {
    "duration": 10,
    "start_time": "2023-02-17T14:00:33.863Z"
   },
   {
    "duration": 4,
    "start_time": "2023-02-17T14:02:19.875Z"
   },
   {
    "duration": 9,
    "start_time": "2023-02-17T14:02:26.474Z"
   },
   {
    "duration": 14,
    "start_time": "2023-02-17T14:03:49.593Z"
   },
   {
    "duration": 6,
    "start_time": "2023-02-17T14:04:31.500Z"
   },
   {
    "duration": 4,
    "start_time": "2023-02-17T14:04:48.776Z"
   },
   {
    "duration": 4,
    "start_time": "2023-02-17T14:04:57.378Z"
   },
   {
    "duration": 10,
    "start_time": "2023-02-17T14:26:12.432Z"
   },
   {
    "duration": 13,
    "start_time": "2023-02-17T14:27:43.408Z"
   },
   {
    "duration": 55,
    "start_time": "2023-02-17T14:28:34.274Z"
   },
   {
    "duration": 18,
    "start_time": "2023-02-17T14:28:44.516Z"
   },
   {
    "duration": 46,
    "start_time": "2023-02-17T14:29:43.215Z"
   },
   {
    "duration": 19,
    "start_time": "2023-02-17T14:29:47.629Z"
   },
   {
    "duration": 24,
    "start_time": "2023-02-17T14:30:58.685Z"
   },
   {
    "duration": 25,
    "start_time": "2023-02-17T14:31:13.849Z"
   },
   {
    "duration": 25,
    "start_time": "2023-02-17T14:31:26.358Z"
   },
   {
    "duration": 49,
    "start_time": "2023-02-17T14:32:06.434Z"
   },
   {
    "duration": 46,
    "start_time": "2023-02-17T14:32:28.684Z"
   },
   {
    "duration": 27,
    "start_time": "2023-02-17T14:32:34.458Z"
   },
   {
    "duration": 51,
    "start_time": "2023-02-17T15:14:36.610Z"
   },
   {
    "duration": 41,
    "start_time": "2023-02-17T15:15:00.275Z"
   },
   {
    "duration": 49,
    "start_time": "2023-02-17T15:20:13.019Z"
   },
   {
    "duration": 28,
    "start_time": "2023-02-17T15:20:23.084Z"
   },
   {
    "duration": 46,
    "start_time": "2023-02-17T15:21:15.656Z"
   },
   {
    "duration": 369,
    "start_time": "2023-02-17T16:06:08.424Z"
   },
   {
    "duration": 371,
    "start_time": "2023-02-17T16:06:19.060Z"
   },
   {
    "duration": 473,
    "start_time": "2023-02-17T16:06:36.174Z"
   },
   {
    "duration": 357,
    "start_time": "2023-02-17T16:06:57.701Z"
   },
   {
    "duration": 372,
    "start_time": "2023-02-17T16:07:03.823Z"
   },
   {
    "duration": 361,
    "start_time": "2023-02-17T16:07:10.881Z"
   },
   {
    "duration": 398,
    "start_time": "2023-02-17T16:07:14.771Z"
   },
   {
    "duration": 371,
    "start_time": "2023-02-17T16:07:24.783Z"
   },
   {
    "duration": 491,
    "start_time": "2023-02-17T16:07:40.962Z"
   },
   {
    "duration": 347,
    "start_time": "2023-02-17T16:08:56.986Z"
   },
   {
    "duration": 453,
    "start_time": "2023-02-17T19:25:07.849Z"
   },
   {
    "duration": 226,
    "start_time": "2023-02-17T19:25:08.304Z"
   },
   {
    "duration": 24,
    "start_time": "2023-02-17T19:25:08.531Z"
   },
   {
    "duration": 2858,
    "start_time": "2023-02-17T19:25:08.557Z"
   },
   {
    "duration": 71,
    "start_time": "2023-02-17T19:25:11.419Z"
   },
   {
    "duration": 8,
    "start_time": "2023-02-17T19:25:11.492Z"
   },
   {
    "duration": 27,
    "start_time": "2023-02-17T19:25:11.503Z"
   },
   {
    "duration": 11,
    "start_time": "2023-02-17T19:25:11.533Z"
   },
   {
    "duration": 16,
    "start_time": "2023-02-17T19:25:11.547Z"
   },
   {
    "duration": 11,
    "start_time": "2023-02-17T19:25:11.566Z"
   },
   {
    "duration": 17,
    "start_time": "2023-02-17T19:25:11.579Z"
   },
   {
    "duration": 39,
    "start_time": "2023-02-17T19:25:11.598Z"
   },
   {
    "duration": 9,
    "start_time": "2023-02-17T19:25:11.639Z"
   },
   {
    "duration": 9,
    "start_time": "2023-02-17T19:25:11.652Z"
   },
   {
    "duration": 10,
    "start_time": "2023-02-17T19:25:11.663Z"
   },
   {
    "duration": 14,
    "start_time": "2023-02-17T19:25:11.675Z"
   },
   {
    "duration": 9,
    "start_time": "2023-02-17T19:25:11.692Z"
   },
   {
    "duration": 53,
    "start_time": "2023-02-17T19:25:11.728Z"
   },
   {
    "duration": 0,
    "start_time": "2023-02-17T19:25:11.783Z"
   },
   {
    "duration": 0,
    "start_time": "2023-02-17T19:25:11.786Z"
   },
   {
    "duration": 0,
    "start_time": "2023-02-17T19:25:11.787Z"
   },
   {
    "duration": 0,
    "start_time": "2023-02-17T19:25:11.790Z"
   },
   {
    "duration": 0,
    "start_time": "2023-02-17T19:25:11.791Z"
   },
   {
    "duration": 0,
    "start_time": "2023-02-17T19:25:11.794Z"
   },
   {
    "duration": 0,
    "start_time": "2023-02-17T19:25:11.795Z"
   },
   {
    "duration": 0,
    "start_time": "2023-02-17T19:25:11.796Z"
   },
   {
    "duration": 0,
    "start_time": "2023-02-17T19:25:11.797Z"
   },
   {
    "duration": 0,
    "start_time": "2023-02-17T19:25:11.799Z"
   },
   {
    "duration": 0,
    "start_time": "2023-02-17T19:25:11.800Z"
   },
   {
    "duration": 411,
    "start_time": "2023-02-17T19:25:22.354Z"
   },
   {
    "duration": 356,
    "start_time": "2023-02-18T05:30:53.711Z"
   },
   {
    "duration": 178,
    "start_time": "2023-02-18T05:30:54.069Z"
   },
   {
    "duration": 15,
    "start_time": "2023-02-18T05:30:54.248Z"
   },
   {
    "duration": 2376,
    "start_time": "2023-02-18T05:30:54.266Z"
   },
   {
    "duration": 46,
    "start_time": "2023-02-18T05:30:56.644Z"
   },
   {
    "duration": 4,
    "start_time": "2023-02-18T05:30:56.692Z"
   },
   {
    "duration": 11,
    "start_time": "2023-02-18T05:30:56.698Z"
   },
   {
    "duration": 7,
    "start_time": "2023-02-18T05:30:56.710Z"
   },
   {
    "duration": 10,
    "start_time": "2023-02-18T05:30:56.719Z"
   },
   {
    "duration": 9,
    "start_time": "2023-02-18T05:30:56.752Z"
   },
   {
    "duration": 14,
    "start_time": "2023-02-18T05:30:56.763Z"
   },
   {
    "duration": 7,
    "start_time": "2023-02-18T05:30:56.779Z"
   },
   {
    "duration": 5,
    "start_time": "2023-02-18T05:30:56.788Z"
   },
   {
    "duration": 5,
    "start_time": "2023-02-18T05:30:56.795Z"
   },
   {
    "duration": 6,
    "start_time": "2023-02-18T05:30:56.802Z"
   },
   {
    "duration": 10,
    "start_time": "2023-02-18T05:30:56.810Z"
   },
   {
    "duration": 33,
    "start_time": "2023-02-18T05:30:56.822Z"
   },
   {
    "duration": 49,
    "start_time": "2023-02-18T05:30:56.857Z"
   },
   {
    "duration": 0,
    "start_time": "2023-02-18T05:30:56.907Z"
   },
   {
    "duration": 0,
    "start_time": "2023-02-18T05:30:56.909Z"
   },
   {
    "duration": 0,
    "start_time": "2023-02-18T05:30:56.911Z"
   },
   {
    "duration": 0,
    "start_time": "2023-02-18T05:30:56.912Z"
   },
   {
    "duration": 0,
    "start_time": "2023-02-18T05:30:56.913Z"
   },
   {
    "duration": 0,
    "start_time": "2023-02-18T05:30:56.914Z"
   },
   {
    "duration": 0,
    "start_time": "2023-02-18T05:30:56.916Z"
   },
   {
    "duration": 0,
    "start_time": "2023-02-18T05:30:56.917Z"
   },
   {
    "duration": 0,
    "start_time": "2023-02-18T05:30:56.918Z"
   },
   {
    "duration": 0,
    "start_time": "2023-02-18T05:30:56.919Z"
   },
   {
    "duration": 0,
    "start_time": "2023-02-18T05:30:56.920Z"
   },
   {
    "duration": 35,
    "start_time": "2023-02-18T05:31:34.793Z"
   },
   {
    "duration": 164,
    "start_time": "2023-02-18T05:33:58.733Z"
   },
   {
    "duration": 189,
    "start_time": "2023-02-18T05:35:00.008Z"
   },
   {
    "duration": 840,
    "start_time": "2023-02-18T05:35:19.716Z"
   },
   {
    "duration": 193,
    "start_time": "2023-02-18T05:35:23.380Z"
   },
   {
    "duration": 149,
    "start_time": "2023-02-18T05:51:17.269Z"
   },
   {
    "duration": 81,
    "start_time": "2023-02-18T05:57:03.411Z"
   },
   {
    "duration": 156,
    "start_time": "2023-02-18T05:57:20.823Z"
   },
   {
    "duration": 10,
    "start_time": "2023-02-18T05:57:27.691Z"
   },
   {
    "duration": 218,
    "start_time": "2023-02-18T05:57:35.327Z"
   },
   {
    "duration": 163,
    "start_time": "2023-02-18T05:57:43.032Z"
   },
   {
    "duration": 156,
    "start_time": "2023-02-18T05:59:32.199Z"
   },
   {
    "duration": 151,
    "start_time": "2023-02-18T05:59:38.793Z"
   },
   {
    "duration": 965,
    "start_time": "2023-02-18T06:05:20.383Z"
   },
   {
    "duration": 211,
    "start_time": "2023-02-18T06:05:24.828Z"
   },
   {
    "duration": 45,
    "start_time": "2023-02-18T06:08:49.278Z"
   },
   {
    "duration": 215,
    "start_time": "2023-02-18T06:08:58.672Z"
   },
   {
    "duration": 217,
    "start_time": "2023-02-18T06:09:14.627Z"
   },
   {
    "duration": 255,
    "start_time": "2023-02-18T06:09:24.901Z"
   },
   {
    "duration": 227,
    "start_time": "2023-02-18T06:09:56.471Z"
   },
   {
    "duration": 120,
    "start_time": "2023-02-27T06:51:06.471Z"
   },
   {
    "duration": 398,
    "start_time": "2023-02-27T07:13:39.571Z"
   },
   {
    "duration": 128,
    "start_time": "2023-02-27T07:13:39.971Z"
   },
   {
    "duration": 27,
    "start_time": "2023-02-27T07:13:40.101Z"
   },
   {
    "duration": 2274,
    "start_time": "2023-02-27T07:13:40.130Z"
   },
   {
    "duration": 54,
    "start_time": "2023-02-27T07:13:42.406Z"
   },
   {
    "duration": 4,
    "start_time": "2023-02-27T07:13:42.462Z"
   },
   {
    "duration": 13,
    "start_time": "2023-02-27T07:13:42.467Z"
   },
   {
    "duration": 7,
    "start_time": "2023-02-27T07:13:42.481Z"
   },
   {
    "duration": 38,
    "start_time": "2023-02-27T07:13:42.490Z"
   },
   {
    "duration": 9,
    "start_time": "2023-02-27T07:13:42.531Z"
   },
   {
    "duration": 20,
    "start_time": "2023-02-27T07:13:42.542Z"
   },
   {
    "duration": 8,
    "start_time": "2023-02-27T07:13:42.563Z"
   },
   {
    "duration": 4,
    "start_time": "2023-02-27T07:13:42.573Z"
   },
   {
    "duration": 6,
    "start_time": "2023-02-27T07:13:42.578Z"
   },
   {
    "duration": 41,
    "start_time": "2023-02-27T07:13:42.586Z"
   },
   {
    "duration": 19,
    "start_time": "2023-02-27T07:13:42.629Z"
   },
   {
    "duration": 6,
    "start_time": "2023-02-27T07:13:42.649Z"
   },
   {
    "duration": 49,
    "start_time": "2023-02-27T07:13:42.656Z"
   },
   {
    "duration": 0,
    "start_time": "2023-02-27T07:13:42.707Z"
   },
   {
    "duration": 0,
    "start_time": "2023-02-27T07:13:42.708Z"
   },
   {
    "duration": 1,
    "start_time": "2023-02-27T07:13:42.709Z"
   },
   {
    "duration": 0,
    "start_time": "2023-02-27T07:13:42.711Z"
   },
   {
    "duration": 0,
    "start_time": "2023-02-27T07:13:42.712Z"
   },
   {
    "duration": 0,
    "start_time": "2023-02-27T07:13:42.714Z"
   },
   {
    "duration": 0,
    "start_time": "2023-02-27T07:13:42.714Z"
   },
   {
    "duration": 0,
    "start_time": "2023-02-27T07:13:42.716Z"
   },
   {
    "duration": 0,
    "start_time": "2023-02-27T07:13:42.717Z"
   },
   {
    "duration": 0,
    "start_time": "2023-02-27T07:13:42.717Z"
   },
   {
    "duration": 0,
    "start_time": "2023-02-27T07:13:42.718Z"
   },
   {
    "duration": 0,
    "start_time": "2023-02-27T07:13:42.719Z"
   },
   {
    "duration": 0,
    "start_time": "2023-02-27T07:13:42.727Z"
   },
   {
    "duration": 0,
    "start_time": "2023-02-27T07:13:42.728Z"
   },
   {
    "duration": 0,
    "start_time": "2023-02-27T07:13:42.729Z"
   },
   {
    "duration": 19,
    "start_time": "2023-02-27T07:14:44.262Z"
   },
   {
    "duration": 12,
    "start_time": "2023-02-27T07:17:34.800Z"
   },
   {
    "duration": 8,
    "start_time": "2023-02-27T07:18:40.808Z"
   },
   {
    "duration": 23,
    "start_time": "2023-02-27T07:18:48.944Z"
   },
   {
    "duration": 7,
    "start_time": "2023-02-27T07:18:53.357Z"
   },
   {
    "duration": 9,
    "start_time": "2023-02-27T07:18:58.449Z"
   },
   {
    "duration": 16,
    "start_time": "2023-02-27T07:19:06.663Z"
   },
   {
    "duration": 8,
    "start_time": "2023-02-27T07:19:08.883Z"
   },
   {
    "duration": 21,
    "start_time": "2023-02-27T07:19:14.063Z"
   },
   {
    "duration": 30,
    "start_time": "2023-02-27T07:20:04.710Z"
   },
   {
    "duration": 420,
    "start_time": "2023-02-27T07:32:39.807Z"
   },
   {
    "duration": 174,
    "start_time": "2023-02-27T07:32:40.231Z"
   },
   {
    "duration": 29,
    "start_time": "2023-02-27T07:32:40.409Z"
   },
   {
    "duration": 2455,
    "start_time": "2023-02-27T07:32:40.441Z"
   },
   {
    "duration": 35,
    "start_time": "2023-02-27T07:32:42.898Z"
   },
   {
    "duration": 46,
    "start_time": "2023-02-27T07:32:42.938Z"
   },
   {
    "duration": 37,
    "start_time": "2023-02-27T07:32:42.986Z"
   },
   {
    "duration": 35,
    "start_time": "2023-02-27T07:32:43.025Z"
   },
   {
    "duration": 24,
    "start_time": "2023-02-27T07:32:43.061Z"
   },
   {
    "duration": 26,
    "start_time": "2023-02-27T07:32:43.087Z"
   },
   {
    "duration": 45,
    "start_time": "2023-02-27T07:32:43.114Z"
   },
   {
    "duration": 15,
    "start_time": "2023-02-27T07:32:43.161Z"
   },
   {
    "duration": 21,
    "start_time": "2023-02-27T07:32:43.180Z"
   },
   {
    "duration": 47,
    "start_time": "2023-02-27T07:32:43.203Z"
   },
   {
    "duration": 10,
    "start_time": "2023-02-27T07:32:43.252Z"
   },
   {
    "duration": 25,
    "start_time": "2023-02-27T07:32:43.264Z"
   },
   {
    "duration": 6,
    "start_time": "2023-02-27T07:32:43.292Z"
   },
   {
    "duration": 24,
    "start_time": "2023-02-27T07:32:43.300Z"
   },
   {
    "duration": 50,
    "start_time": "2023-02-27T07:32:43.328Z"
   },
   {
    "duration": 15,
    "start_time": "2023-02-27T07:32:43.380Z"
   },
   {
    "duration": 27,
    "start_time": "2023-02-27T07:32:43.396Z"
   },
   {
    "duration": 56,
    "start_time": "2023-02-27T07:32:43.425Z"
   },
   {
    "duration": 27,
    "start_time": "2023-02-27T07:32:43.483Z"
   },
   {
    "duration": 42,
    "start_time": "2023-02-27T07:32:43.512Z"
   },
   {
    "duration": 43,
    "start_time": "2023-02-27T07:32:43.555Z"
   },
   {
    "duration": 118,
    "start_time": "2023-02-27T07:32:43.600Z"
   },
   {
    "duration": 215,
    "start_time": "2023-02-27T07:32:43.719Z"
   },
   {
    "duration": 218,
    "start_time": "2023-02-27T07:32:43.942Z"
   },
   {
    "duration": 385,
    "start_time": "2023-02-27T07:32:44.162Z"
   },
   {
    "duration": 33,
    "start_time": "2023-02-27T07:32:44.549Z"
   },
   {
    "duration": 269,
    "start_time": "2023-02-27T07:32:44.584Z"
   },
   {
    "duration": 42,
    "start_time": "2023-02-27T12:15:43.758Z"
   },
   {
    "duration": 393,
    "start_time": "2023-02-27T12:16:11.390Z"
   },
   {
    "duration": 119,
    "start_time": "2023-02-27T12:16:11.785Z"
   },
   {
    "duration": 27,
    "start_time": "2023-02-27T12:16:11.907Z"
   },
   {
    "duration": 2263,
    "start_time": "2023-02-27T12:16:11.935Z"
   },
   {
    "duration": 34,
    "start_time": "2023-02-27T12:16:14.200Z"
   },
   {
    "duration": 3,
    "start_time": "2023-02-27T12:16:14.237Z"
   },
   {
    "duration": 11,
    "start_time": "2023-02-27T12:16:14.242Z"
   },
   {
    "duration": 10,
    "start_time": "2023-02-27T12:16:14.255Z"
   },
   {
    "duration": 13,
    "start_time": "2023-02-27T12:16:14.267Z"
   },
   {
    "duration": 47,
    "start_time": "2023-02-27T12:16:14.282Z"
   },
   {
    "duration": 14,
    "start_time": "2023-02-27T12:16:14.331Z"
   },
   {
    "duration": 8,
    "start_time": "2023-02-27T12:16:14.346Z"
   },
   {
    "duration": 3,
    "start_time": "2023-02-27T12:16:14.356Z"
   },
   {
    "duration": 8,
    "start_time": "2023-02-27T12:16:14.362Z"
   },
   {
    "duration": 5,
    "start_time": "2023-02-27T12:16:14.372Z"
   },
   {
    "duration": 54,
    "start_time": "2023-02-27T12:16:14.378Z"
   },
   {
    "duration": 6,
    "start_time": "2023-02-27T12:16:14.433Z"
   },
   {
    "duration": 8,
    "start_time": "2023-02-27T12:16:14.441Z"
   },
   {
    "duration": 31,
    "start_time": "2023-02-27T12:16:14.450Z"
   },
   {
    "duration": 6,
    "start_time": "2023-02-27T12:16:14.483Z"
   },
   {
    "duration": 9,
    "start_time": "2023-02-27T12:16:14.526Z"
   },
   {
    "duration": 18,
    "start_time": "2023-02-27T12:16:14.536Z"
   },
   {
    "duration": 10,
    "start_time": "2023-02-27T12:16:14.555Z"
   },
   {
    "duration": 60,
    "start_time": "2023-02-27T12:16:14.568Z"
   },
   {
    "duration": 27,
    "start_time": "2023-02-27T12:16:14.630Z"
   },
   {
    "duration": 138,
    "start_time": "2023-02-27T12:16:14.659Z"
   },
   {
    "duration": 238,
    "start_time": "2023-02-27T12:16:14.798Z"
   },
   {
    "duration": 87,
    "start_time": "2023-02-27T12:16:15.038Z"
   },
   {
    "duration": 0,
    "start_time": "2023-02-27T12:16:15.126Z"
   },
   {
    "duration": 0,
    "start_time": "2023-02-27T12:16:15.128Z"
   },
   {
    "duration": 0,
    "start_time": "2023-02-27T12:16:15.128Z"
   },
   {
    "duration": 193,
    "start_time": "2023-02-27T12:16:25.767Z"
   },
   {
    "duration": 199,
    "start_time": "2023-02-27T12:17:07.603Z"
   },
   {
    "duration": 10,
    "start_time": "2023-02-27T12:18:56.938Z"
   },
   {
    "duration": 56,
    "start_time": "2023-02-27T12:20:27.263Z"
   },
   {
    "duration": 15,
    "start_time": "2023-02-27T12:21:02.378Z"
   },
   {
    "duration": 21,
    "start_time": "2023-02-27T12:22:50.314Z"
   },
   {
    "duration": 175,
    "start_time": "2023-02-27T12:23:11.299Z"
   },
   {
    "duration": 15,
    "start_time": "2023-02-27T12:26:29.285Z"
   },
   {
    "duration": 13,
    "start_time": "2023-02-27T12:28:01.461Z"
   },
   {
    "duration": 18,
    "start_time": "2023-02-27T12:28:44.092Z"
   },
   {
    "duration": 50,
    "start_time": "2023-02-27T12:31:47.889Z"
   },
   {
    "duration": 10,
    "start_time": "2023-02-27T12:32:12.377Z"
   },
   {
    "duration": 201,
    "start_time": "2023-02-27T12:32:33.180Z"
   },
   {
    "duration": 298,
    "start_time": "2023-02-27T12:33:35.476Z"
   },
   {
    "duration": 5,
    "start_time": "2023-02-27T12:33:57.909Z"
   },
   {
    "duration": 28,
    "start_time": "2023-02-27T12:36:25.581Z"
   },
   {
    "duration": 22,
    "start_time": "2023-02-27T12:38:05.863Z"
   },
   {
    "duration": 186,
    "start_time": "2023-02-27T12:38:27.457Z"
   },
   {
    "duration": 7,
    "start_time": "2023-02-27T12:41:33.198Z"
   },
   {
    "duration": 161,
    "start_time": "2023-02-27T12:43:15.259Z"
   },
   {
    "duration": 151,
    "start_time": "2023-02-27T12:44:15.759Z"
   },
   {
    "duration": 10,
    "start_time": "2023-02-27T12:44:48.700Z"
   },
   {
    "duration": 13,
    "start_time": "2023-02-27T12:46:11.396Z"
   },
   {
    "duration": 9,
    "start_time": "2023-02-27T12:48:00.932Z"
   },
   {
    "duration": 165,
    "start_time": "2023-02-27T12:50:29.480Z"
   },
   {
    "duration": 5,
    "start_time": "2023-02-27T12:53:10.850Z"
   },
   {
    "duration": 176,
    "start_time": "2023-02-27T12:54:08.678Z"
   },
   {
    "duration": 185,
    "start_time": "2023-02-27T12:54:13.834Z"
   },
   {
    "duration": 11,
    "start_time": "2023-02-27T12:55:40.269Z"
   },
   {
    "duration": 166,
    "start_time": "2023-02-27T12:56:23.386Z"
   },
   {
    "duration": 219,
    "start_time": "2023-02-27T12:58:34.092Z"
   },
   {
    "duration": 9,
    "start_time": "2023-02-27T12:58:49.554Z"
   },
   {
    "duration": 17,
    "start_time": "2023-02-27T13:00:02.545Z"
   },
   {
    "duration": 294,
    "start_time": "2023-02-27T13:01:14.193Z"
   },
   {
    "duration": 11,
    "start_time": "2023-02-27T13:01:46.653Z"
   },
   {
    "duration": 11,
    "start_time": "2023-02-27T13:02:42.381Z"
   },
   {
    "duration": 146,
    "start_time": "2023-02-27T13:03:19.426Z"
   },
   {
    "duration": 148,
    "start_time": "2023-02-27T13:04:18.960Z"
   },
   {
    "duration": 142,
    "start_time": "2023-02-27T13:05:16.426Z"
   },
   {
    "duration": 140,
    "start_time": "2023-02-27T13:06:20.950Z"
   },
   {
    "duration": 14,
    "start_time": "2023-02-27T13:08:20.265Z"
   },
   {
    "duration": 11,
    "start_time": "2023-02-27T14:04:19.380Z"
   },
   {
    "duration": 326,
    "start_time": "2023-02-27T14:04:30.720Z"
   },
   {
    "duration": 3,
    "start_time": "2023-02-27T14:05:02.511Z"
   },
   {
    "duration": 3,
    "start_time": "2023-02-27T14:06:23.132Z"
   },
   {
    "duration": 5,
    "start_time": "2023-02-27T14:07:03.551Z"
   },
   {
    "duration": 7,
    "start_time": "2023-02-27T14:07:33.795Z"
   },
   {
    "duration": 7,
    "start_time": "2023-02-27T14:08:33.182Z"
   },
   {
    "duration": 6,
    "start_time": "2023-02-27T14:08:55.649Z"
   },
   {
    "duration": 568,
    "start_time": "2023-02-27T14:09:49.623Z"
   },
   {
    "duration": 376,
    "start_time": "2023-02-27T14:12:49.424Z"
   },
   {
    "duration": 19,
    "start_time": "2023-02-27T14:12:58.755Z"
   },
   {
    "duration": 169,
    "start_time": "2023-02-27T14:16:55.162Z"
   },
   {
    "duration": 171,
    "start_time": "2023-02-27T14:17:07.814Z"
   },
   {
    "duration": 9,
    "start_time": "2023-02-27T14:17:21.048Z"
   },
   {
    "duration": 10,
    "start_time": "2023-02-27T14:18:34.170Z"
   },
   {
    "duration": 216,
    "start_time": "2023-02-27T14:18:37.166Z"
   },
   {
    "duration": 200,
    "start_time": "2023-02-27T14:18:39.950Z"
   },
   {
    "duration": 62,
    "start_time": "2023-02-27T14:19:09.887Z"
   },
   {
    "duration": 52,
    "start_time": "2023-02-27T14:19:50.507Z"
   },
   {
    "duration": 10,
    "start_time": "2023-02-27T14:20:01.404Z"
   },
   {
    "duration": 143,
    "start_time": "2023-02-27T14:20:04.478Z"
   },
   {
    "duration": 10,
    "start_time": "2023-02-27T14:20:51.154Z"
   },
   {
    "duration": 289,
    "start_time": "2023-02-27T14:21:06.754Z"
   },
   {
    "duration": 218,
    "start_time": "2023-02-27T14:21:22.591Z"
   },
   {
    "duration": 192,
    "start_time": "2023-02-27T14:26:09.621Z"
   },
   {
    "duration": 54,
    "start_time": "2023-02-27T14:26:11.349Z"
   },
   {
    "duration": 51,
    "start_time": "2023-02-27T14:27:48.217Z"
   },
   {
    "duration": 165,
    "start_time": "2023-02-27T14:28:33.782Z"
   },
   {
    "duration": 18,
    "start_time": "2023-02-27T14:28:36.102Z"
   },
   {
    "duration": 159,
    "start_time": "2023-02-27T14:29:21.070Z"
   },
   {
    "duration": 11,
    "start_time": "2023-02-27T14:29:32.704Z"
   },
   {
    "duration": 140,
    "start_time": "2023-02-27T14:30:13.476Z"
   },
   {
    "duration": 211,
    "start_time": "2023-02-27T14:31:28.156Z"
   },
   {
    "duration": 323,
    "start_time": "2023-02-27T14:31:31.909Z"
   },
   {
    "duration": 22,
    "start_time": "2023-02-27T14:31:52.690Z"
   },
   {
    "duration": 200,
    "start_time": "2023-02-27T14:32:57.551Z"
   },
   {
    "duration": 186,
    "start_time": "2023-02-27T14:33:01.830Z"
   },
   {
    "duration": 196,
    "start_time": "2023-02-27T14:33:29.459Z"
   },
   {
    "duration": 164,
    "start_time": "2023-02-27T14:35:05.652Z"
   },
   {
    "duration": 48,
    "start_time": "2023-02-27T14:36:15.806Z"
   },
   {
    "duration": 149,
    "start_time": "2023-02-27T14:36:39.682Z"
   },
   {
    "duration": 154,
    "start_time": "2023-02-27T14:37:07.121Z"
   },
   {
    "duration": 252,
    "start_time": "2023-02-27T14:38:32.983Z"
   },
   {
    "duration": 339,
    "start_time": "2023-02-27T14:38:37.501Z"
   },
   {
    "duration": 171,
    "start_time": "2023-02-27T14:38:43.155Z"
   },
   {
    "duration": 6,
    "start_time": "2023-02-27T14:39:15.152Z"
   },
   {
    "duration": 17,
    "start_time": "2023-02-27T14:39:53.103Z"
   },
   {
    "duration": 68,
    "start_time": "2023-02-27T14:41:50.090Z"
   },
   {
    "duration": 5,
    "start_time": "2023-02-27T14:42:28.819Z"
   },
   {
    "duration": 202,
    "start_time": "2023-02-27T14:42:41.903Z"
   },
   {
    "duration": 6,
    "start_time": "2023-02-27T14:43:17.733Z"
   },
   {
    "duration": 193,
    "start_time": "2023-02-27T14:43:33.412Z"
   },
   {
    "duration": 4,
    "start_time": "2023-02-27T14:44:08.596Z"
   },
   {
    "duration": 56,
    "start_time": "2023-02-27T14:44:33.532Z"
   },
   {
    "duration": 196,
    "start_time": "2023-02-27T14:44:42.437Z"
   },
   {
    "duration": 204,
    "start_time": "2023-02-27T14:45:08.593Z"
   },
   {
    "duration": 5,
    "start_time": "2023-02-27T14:45:48.357Z"
   },
   {
    "duration": 201,
    "start_time": "2023-02-27T14:45:59.756Z"
   },
   {
    "duration": 12,
    "start_time": "2023-02-27T14:46:26.970Z"
   },
   {
    "duration": 7,
    "start_time": "2023-02-27T14:46:39.533Z"
   },
   {
    "duration": 134,
    "start_time": "2023-02-27T14:46:49.172Z"
   },
   {
    "duration": 6,
    "start_time": "2023-02-27T14:47:22.146Z"
   },
   {
    "duration": 162,
    "start_time": "2023-02-27T14:47:31.638Z"
   },
   {
    "duration": 5,
    "start_time": "2023-02-27T14:48:15.085Z"
   },
   {
    "duration": 345,
    "start_time": "2023-02-27T14:48:23.954Z"
   },
   {
    "duration": 4,
    "start_time": "2023-02-27T14:48:33.952Z"
   },
   {
    "duration": 146,
    "start_time": "2023-02-27T14:48:42.837Z"
   },
   {
    "duration": 30,
    "start_time": "2023-02-27T14:49:37.494Z"
   },
   {
    "duration": 206,
    "start_time": "2023-02-27T14:49:48.063Z"
   },
   {
    "duration": 17,
    "start_time": "2023-02-27T14:50:15.301Z"
   },
   {
    "duration": 8,
    "start_time": "2023-02-27T14:51:25.088Z"
   },
   {
    "duration": 21,
    "start_time": "2023-02-27T14:52:04.368Z"
   },
   {
    "duration": 20,
    "start_time": "2023-02-27T14:54:16.999Z"
   },
   {
    "duration": 301,
    "start_time": "2023-02-27T14:56:53.537Z"
   },
   {
    "duration": 160,
    "start_time": "2023-02-27T14:57:15.562Z"
   },
   {
    "duration": 34,
    "start_time": "2023-02-27T14:57:37.350Z"
   },
   {
    "duration": 48,
    "start_time": "2023-02-27T14:58:08.365Z"
   },
   {
    "duration": 442,
    "start_time": "2023-02-27T15:21:48.435Z"
   },
   {
    "duration": 127,
    "start_time": "2023-02-27T15:21:48.879Z"
   },
   {
    "duration": 29,
    "start_time": "2023-02-27T15:21:49.007Z"
   },
   {
    "duration": 2366,
    "start_time": "2023-02-27T15:21:49.038Z"
   },
   {
    "duration": 23,
    "start_time": "2023-02-27T15:21:51.406Z"
   },
   {
    "duration": 29,
    "start_time": "2023-02-27T15:21:51.431Z"
   },
   {
    "duration": 19,
    "start_time": "2023-02-27T15:21:51.461Z"
   },
   {
    "duration": 7,
    "start_time": "2023-02-27T15:21:51.482Z"
   },
   {
    "duration": 10,
    "start_time": "2023-02-27T15:21:51.491Z"
   },
   {
    "duration": 12,
    "start_time": "2023-02-27T15:21:51.503Z"
   },
   {
    "duration": 26,
    "start_time": "2023-02-27T15:21:51.517Z"
   },
   {
    "duration": 9,
    "start_time": "2023-02-27T15:21:51.545Z"
   },
   {
    "duration": 5,
    "start_time": "2023-02-27T15:21:51.556Z"
   },
   {
    "duration": 6,
    "start_time": "2023-02-27T15:21:51.563Z"
   },
   {
    "duration": 6,
    "start_time": "2023-02-27T15:21:51.571Z"
   },
   {
    "duration": 17,
    "start_time": "2023-02-27T15:21:51.579Z"
   },
   {
    "duration": 5,
    "start_time": "2023-02-27T15:21:51.598Z"
   },
   {
    "duration": 30,
    "start_time": "2023-02-27T15:21:51.605Z"
   },
   {
    "duration": 35,
    "start_time": "2023-02-27T15:21:51.637Z"
   },
   {
    "duration": 10,
    "start_time": "2023-02-27T15:21:51.674Z"
   },
   {
    "duration": 10,
    "start_time": "2023-02-27T15:21:51.686Z"
   },
   {
    "duration": 39,
    "start_time": "2023-02-27T15:21:51.697Z"
   },
   {
    "duration": 12,
    "start_time": "2023-02-27T15:21:51.738Z"
   },
   {
    "duration": 26,
    "start_time": "2023-02-27T15:21:51.751Z"
   },
   {
    "duration": 33,
    "start_time": "2023-02-27T15:21:51.779Z"
   },
   {
    "duration": 124,
    "start_time": "2023-02-27T15:21:51.827Z"
   },
   {
    "duration": 215,
    "start_time": "2023-02-27T15:21:51.953Z"
   },
   {
    "duration": 10,
    "start_time": "2023-02-27T15:21:52.172Z"
   },
   {
    "duration": 21,
    "start_time": "2023-02-27T15:21:52.183Z"
   },
   {
    "duration": 44,
    "start_time": "2023-02-27T15:21:52.206Z"
   },
   {
    "duration": 223,
    "start_time": "2023-02-27T15:21:52.252Z"
   },
   {
    "duration": 14,
    "start_time": "2023-02-27T15:21:52.476Z"
   },
   {
    "duration": 36,
    "start_time": "2023-02-27T15:21:52.491Z"
   },
   {
    "duration": 10,
    "start_time": "2023-02-27T15:21:52.529Z"
   },
   {
    "duration": 238,
    "start_time": "2023-02-27T15:21:52.540Z"
   },
   {
    "duration": 5,
    "start_time": "2023-02-27T15:21:52.780Z"
   },
   {
    "duration": 117,
    "start_time": "2023-02-27T15:21:52.787Z"
   },
   {
    "duration": 34,
    "start_time": "2023-02-27T15:21:52.905Z"
   },
   {
    "duration": 199,
    "start_time": "2023-02-27T15:21:52.941Z"
   },
   {
    "duration": 8,
    "start_time": "2023-02-27T15:21:53.142Z"
   },
   {
    "duration": 201,
    "start_time": "2023-02-27T15:21:53.152Z"
   },
   {
    "duration": 174,
    "start_time": "2023-02-27T15:21:53.355Z"
   },
   {
    "duration": 11,
    "start_time": "2023-02-27T15:21:53.530Z"
   },
   {
    "duration": 12,
    "start_time": "2023-02-27T15:21:53.542Z"
   },
   {
    "duration": 7,
    "start_time": "2023-02-27T15:21:53.555Z"
   },
   {
    "duration": 199,
    "start_time": "2023-02-27T15:21:53.564Z"
   },
   {
    "duration": 4,
    "start_time": "2023-02-27T15:21:53.765Z"
   },
   {
    "duration": 189,
    "start_time": "2023-02-27T15:21:53.771Z"
   },
   {
    "duration": 199,
    "start_time": "2023-02-27T15:21:53.961Z"
   },
   {
    "duration": 11,
    "start_time": "2023-02-27T15:21:54.162Z"
   },
   {
    "duration": 167,
    "start_time": "2023-02-27T15:21:54.175Z"
   },
   {
    "duration": 258,
    "start_time": "2023-02-27T15:21:54.343Z"
   },
   {
    "duration": 9,
    "start_time": "2023-02-27T15:21:54.603Z"
   },
   {
    "duration": 27,
    "start_time": "2023-02-27T15:21:54.614Z"
   },
   {
    "duration": 214,
    "start_time": "2023-02-27T15:21:54.643Z"
   },
   {
    "duration": 8,
    "start_time": "2023-02-27T15:21:54.859Z"
   },
   {
    "duration": 12,
    "start_time": "2023-02-27T15:21:54.869Z"
   },
   {
    "duration": 163,
    "start_time": "2023-02-27T15:21:54.883Z"
   },
   {
    "duration": 260,
    "start_time": "2023-02-27T15:21:55.048Z"
   },
   {
    "duration": 135,
    "start_time": "2023-02-27T15:21:55.310Z"
   },
   {
    "duration": 166,
    "start_time": "2023-02-27T15:21:55.446Z"
   },
   {
    "duration": 21,
    "start_time": "2023-02-27T15:21:55.614Z"
   },
   {
    "duration": 12,
    "start_time": "2023-02-27T15:21:55.637Z"
   },
   {
    "duration": 329,
    "start_time": "2023-02-27T15:21:55.651Z"
   },
   {
    "duration": 3,
    "start_time": "2023-02-27T15:21:55.982Z"
   },
   {
    "duration": 12,
    "start_time": "2023-02-27T15:21:55.986Z"
   },
   {
    "duration": 8,
    "start_time": "2023-02-27T15:21:56.000Z"
   },
   {
    "duration": 19,
    "start_time": "2023-02-27T15:21:56.010Z"
   },
   {
    "duration": 7,
    "start_time": "2023-02-27T15:21:56.031Z"
   },
   {
    "duration": 607,
    "start_time": "2023-02-27T15:21:56.039Z"
   },
   {
    "duration": 26,
    "start_time": "2023-02-27T15:21:56.648Z"
   },
   {
    "duration": 155,
    "start_time": "2023-02-27T15:21:56.676Z"
   },
   {
    "duration": 268,
    "start_time": "2023-02-27T15:21:56.834Z"
   },
   {
    "duration": 14,
    "start_time": "2023-02-27T15:21:57.104Z"
   },
   {
    "duration": 187,
    "start_time": "2023-02-27T15:21:57.127Z"
   },
   {
    "duration": 303,
    "start_time": "2023-02-27T15:21:57.316Z"
   },
   {
    "duration": 13,
    "start_time": "2023-02-27T15:21:57.621Z"
   },
   {
    "duration": 10,
    "start_time": "2023-02-27T15:21:57.636Z"
   },
   {
    "duration": 222,
    "start_time": "2023-02-27T15:21:57.648Z"
   },
   {
    "duration": 236,
    "start_time": "2023-02-27T15:21:57.871Z"
   },
   {
    "duration": 20,
    "start_time": "2023-02-27T15:21:58.110Z"
   },
   {
    "duration": 181,
    "start_time": "2023-02-27T15:21:58.139Z"
   },
   {
    "duration": 9,
    "start_time": "2023-02-27T15:21:58.322Z"
   },
   {
    "duration": 256,
    "start_time": "2023-02-27T15:21:58.332Z"
   },
   {
    "duration": 222,
    "start_time": "2023-02-27T15:21:58.590Z"
   },
   {
    "duration": 189,
    "start_time": "2023-02-27T15:21:58.814Z"
   },
   {
    "duration": 35,
    "start_time": "2023-02-27T15:21:59.005Z"
   },
   {
    "duration": 177,
    "start_time": "2023-02-27T15:21:59.042Z"
   },
   {
    "duration": 185,
    "start_time": "2023-02-27T15:21:59.221Z"
   },
   {
    "duration": 21,
    "start_time": "2023-02-27T15:21:59.407Z"
   },
   {
    "duration": 138,
    "start_time": "2023-02-27T15:21:59.430Z"
   },
   {
    "duration": 208,
    "start_time": "2023-02-27T15:21:59.570Z"
   },
   {
    "duration": 349,
    "start_time": "2023-02-27T15:21:59.780Z"
   },
   {
    "duration": 24,
    "start_time": "2023-02-27T15:22:00.130Z"
   },
   {
    "duration": 290,
    "start_time": "2023-02-27T15:22:00.156Z"
   },
   {
    "duration": 249,
    "start_time": "2023-02-27T15:22:00.448Z"
   },
   {
    "duration": 215,
    "start_time": "2023-02-27T15:22:00.699Z"
   },
   {
    "duration": 189,
    "start_time": "2023-02-27T15:22:00.916Z"
   },
   {
    "duration": 168,
    "start_time": "2023-02-27T15:22:01.107Z"
   },
   {
    "duration": 166,
    "start_time": "2023-02-27T15:22:01.277Z"
   },
   {
    "duration": 270,
    "start_time": "2023-02-27T15:22:01.445Z"
   },
   {
    "duration": 343,
    "start_time": "2023-02-27T15:22:01.717Z"
   },
   {
    "duration": 167,
    "start_time": "2023-02-27T15:22:02.061Z"
   },
   {
    "duration": 6,
    "start_time": "2023-02-27T15:22:02.230Z"
   },
   {
    "duration": 36,
    "start_time": "2023-02-27T15:22:02.238Z"
   },
   {
    "duration": 15,
    "start_time": "2023-02-27T15:22:02.276Z"
   },
   {
    "duration": 275,
    "start_time": "2023-02-27T15:22:02.293Z"
   },
   {
    "duration": 5,
    "start_time": "2023-02-27T15:22:02.570Z"
   },
   {
    "duration": 207,
    "start_time": "2023-02-27T15:22:02.577Z"
   },
   {
    "duration": 5,
    "start_time": "2023-02-27T15:22:02.786Z"
   },
   {
    "duration": 198,
    "start_time": "2023-02-27T15:22:02.793Z"
   },
   {
    "duration": 6,
    "start_time": "2023-02-27T15:22:02.993Z"
   },
   {
    "duration": 201,
    "start_time": "2023-02-27T15:22:03.000Z"
   },
   {
    "duration": 11,
    "start_time": "2023-02-27T15:22:03.203Z"
   },
   {
    "duration": 15,
    "start_time": "2023-02-27T15:22:03.215Z"
   },
   {
    "duration": 149,
    "start_time": "2023-02-27T15:22:03.232Z"
   },
   {
    "duration": 5,
    "start_time": "2023-02-27T15:22:03.383Z"
   },
   {
    "duration": 332,
    "start_time": "2023-02-27T15:22:03.390Z"
   },
   {
    "duration": 5,
    "start_time": "2023-02-27T15:22:03.727Z"
   },
   {
    "duration": 198,
    "start_time": "2023-02-27T15:22:03.734Z"
   },
   {
    "duration": 6,
    "start_time": "2023-02-27T15:22:03.934Z"
   },
   {
    "duration": 169,
    "start_time": "2023-02-27T15:22:03.942Z"
   },
   {
    "duration": 34,
    "start_time": "2023-02-27T15:22:04.113Z"
   },
   {
    "duration": 203,
    "start_time": "2023-02-27T15:22:04.149Z"
   },
   {
    "duration": 29,
    "start_time": "2023-02-27T15:22:04.354Z"
   },
   {
    "duration": 10,
    "start_time": "2023-02-27T15:22:04.385Z"
   },
   {
    "duration": 312,
    "start_time": "2023-02-27T15:22:04.396Z"
   },
   {
    "duration": 228,
    "start_time": "2023-02-27T15:22:04.710Z"
   },
   {
    "duration": 0,
    "start_time": "2023-02-27T15:22:04.939Z"
   },
   {
    "duration": 449,
    "start_time": "2023-02-27T16:19:06.929Z"
   },
   {
    "duration": 116,
    "start_time": "2023-02-27T16:19:07.380Z"
   },
   {
    "duration": 29,
    "start_time": "2023-02-27T16:19:07.498Z"
   },
   {
    "duration": 2186,
    "start_time": "2023-02-27T16:19:07.529Z"
   },
   {
    "duration": 19,
    "start_time": "2023-02-27T16:19:09.718Z"
   },
   {
    "duration": 4,
    "start_time": "2023-02-27T16:19:09.739Z"
   },
   {
    "duration": 11,
    "start_time": "2023-02-27T16:19:09.745Z"
   },
   {
    "duration": 7,
    "start_time": "2023-02-27T16:19:09.758Z"
   },
   {
    "duration": 10,
    "start_time": "2023-02-27T16:19:09.767Z"
   },
   {
    "duration": 10,
    "start_time": "2023-02-27T16:19:09.779Z"
   },
   {
    "duration": 39,
    "start_time": "2023-02-27T16:19:09.790Z"
   },
   {
    "duration": 7,
    "start_time": "2023-02-27T16:19:09.831Z"
   },
   {
    "duration": 3,
    "start_time": "2023-02-27T16:19:09.840Z"
   },
   {
    "duration": 3,
    "start_time": "2023-02-27T16:19:09.846Z"
   },
   {
    "duration": 6,
    "start_time": "2023-02-27T16:19:09.851Z"
   },
   {
    "duration": 13,
    "start_time": "2023-02-27T16:19:09.858Z"
   },
   {
    "duration": 5,
    "start_time": "2023-02-27T16:19:09.872Z"
   },
   {
    "duration": 26,
    "start_time": "2023-02-27T16:19:09.878Z"
   },
   {
    "duration": 24,
    "start_time": "2023-02-27T16:19:09.927Z"
   },
   {
    "duration": 7,
    "start_time": "2023-02-27T16:19:09.953Z"
   },
   {
    "duration": 13,
    "start_time": "2023-02-27T16:19:09.961Z"
   },
   {
    "duration": 19,
    "start_time": "2023-02-27T16:19:09.975Z"
   },
   {
    "duration": 35,
    "start_time": "2023-02-27T16:19:09.995Z"
   },
   {
    "duration": 26,
    "start_time": "2023-02-27T16:19:10.032Z"
   },
   {
    "duration": 31,
    "start_time": "2023-02-27T16:19:10.060Z"
   },
   {
    "duration": 149,
    "start_time": "2023-02-27T16:19:10.092Z"
   },
   {
    "duration": 263,
    "start_time": "2023-02-27T16:19:10.243Z"
   },
   {
    "duration": 20,
    "start_time": "2023-02-27T16:19:10.508Z"
   },
   {
    "duration": 15,
    "start_time": "2023-02-27T16:19:10.530Z"
   },
   {
    "duration": 17,
    "start_time": "2023-02-27T16:19:10.547Z"
   },
   {
    "duration": 236,
    "start_time": "2023-02-27T16:19:10.566Z"
   },
   {
    "duration": 23,
    "start_time": "2023-02-27T16:19:10.804Z"
   },
   {
    "duration": 20,
    "start_time": "2023-02-27T16:19:10.829Z"
   },
   {
    "duration": 11,
    "start_time": "2023-02-27T16:19:10.850Z"
   },
   {
    "duration": 231,
    "start_time": "2023-02-27T16:19:10.862Z"
   },
   {
    "duration": 5,
    "start_time": "2023-02-27T16:19:11.094Z"
   },
   {
    "duration": 43,
    "start_time": "2023-02-27T16:19:11.100Z"
   },
   {
    "duration": 20,
    "start_time": "2023-02-27T16:19:11.145Z"
   },
   {
    "duration": 202,
    "start_time": "2023-02-27T16:19:11.167Z"
   },
   {
    "duration": 5,
    "start_time": "2023-02-27T16:19:11.371Z"
   },
   {
    "duration": 186,
    "start_time": "2023-02-27T16:19:11.476Z"
   },
   {
    "duration": 173,
    "start_time": "2023-02-27T16:19:11.664Z"
   },
   {
    "duration": 11,
    "start_time": "2023-02-27T16:19:11.839Z"
   },
   {
    "duration": 11,
    "start_time": "2023-02-27T16:19:11.852Z"
   },
   {
    "duration": 7,
    "start_time": "2023-02-27T16:19:11.865Z"
   },
   {
    "duration": 212,
    "start_time": "2023-02-27T16:19:11.874Z"
   },
   {
    "duration": 4,
    "start_time": "2023-02-27T16:19:12.088Z"
   },
   {
    "duration": 186,
    "start_time": "2023-02-27T16:19:12.093Z"
   },
   {
    "duration": 204,
    "start_time": "2023-02-27T16:19:12.281Z"
   },
   {
    "duration": 13,
    "start_time": "2023-02-27T16:19:12.487Z"
   },
   {
    "duration": 165,
    "start_time": "2023-02-27T16:19:12.501Z"
   },
   {
    "duration": 235,
    "start_time": "2023-02-27T16:19:12.668Z"
   },
   {
    "duration": 9,
    "start_time": "2023-02-27T16:19:12.905Z"
   },
   {
    "duration": 12,
    "start_time": "2023-02-27T16:19:12.926Z"
   },
   {
    "duration": 199,
    "start_time": "2023-02-27T16:19:12.939Z"
   },
   {
    "duration": 9,
    "start_time": "2023-02-27T16:19:13.140Z"
   },
   {
    "duration": 11,
    "start_time": "2023-02-27T16:19:13.151Z"
   },
   {
    "duration": 154,
    "start_time": "2023-02-27T16:19:13.164Z"
   },
   {
    "duration": 154,
    "start_time": "2023-02-27T16:19:13.327Z"
   },
   {
    "duration": 238,
    "start_time": "2023-02-27T16:19:13.483Z"
   },
   {
    "duration": 152,
    "start_time": "2023-02-27T16:19:13.727Z"
   },
   {
    "duration": 15,
    "start_time": "2023-02-27T16:19:13.880Z"
   },
   {
    "duration": 36,
    "start_time": "2023-02-27T16:19:13.896Z"
   },
   {
    "duration": 318,
    "start_time": "2023-02-27T16:19:13.934Z"
   },
   {
    "duration": 3,
    "start_time": "2023-02-27T16:19:14.254Z"
   },
   {
    "duration": 8,
    "start_time": "2023-02-27T16:19:14.259Z"
   },
   {
    "duration": 7,
    "start_time": "2023-02-27T16:19:14.269Z"
   },
   {
    "duration": 7,
    "start_time": "2023-02-27T16:19:14.278Z"
   },
   {
    "duration": 6,
    "start_time": "2023-02-27T16:19:14.286Z"
   },
   {
    "duration": 677,
    "start_time": "2023-02-27T16:19:14.294Z"
   },
   {
    "duration": 28,
    "start_time": "2023-02-27T16:19:14.973Z"
   },
   {
    "duration": 151,
    "start_time": "2023-02-27T16:19:15.003Z"
   },
   {
    "duration": 268,
    "start_time": "2023-02-27T16:19:15.155Z"
   },
   {
    "duration": 13,
    "start_time": "2023-02-27T16:19:15.426Z"
   },
   {
    "duration": 191,
    "start_time": "2023-02-27T16:19:15.441Z"
   },
   {
    "duration": 286,
    "start_time": "2023-02-27T16:19:15.635Z"
   },
   {
    "duration": 10,
    "start_time": "2023-02-27T16:19:15.927Z"
   },
   {
    "duration": 10,
    "start_time": "2023-02-27T16:19:15.939Z"
   },
   {
    "duration": 222,
    "start_time": "2023-02-27T16:19:15.951Z"
   },
   {
    "duration": 213,
    "start_time": "2023-02-27T16:19:16.175Z"
   },
   {
    "duration": 10,
    "start_time": "2023-02-27T16:19:16.391Z"
   },
   {
    "duration": 185,
    "start_time": "2023-02-27T16:19:16.403Z"
   },
   {
    "duration": 9,
    "start_time": "2023-02-27T16:19:16.590Z"
   },
   {
    "duration": 267,
    "start_time": "2023-02-27T16:19:16.601Z"
   },
   {
    "duration": 217,
    "start_time": "2023-02-27T16:19:16.869Z"
   },
   {
    "duration": 172,
    "start_time": "2023-02-27T16:19:17.088Z"
   },
   {
    "duration": 19,
    "start_time": "2023-02-27T16:19:17.262Z"
   },
   {
    "duration": 183,
    "start_time": "2023-02-27T16:19:17.283Z"
   },
   {
    "duration": 168,
    "start_time": "2023-02-27T16:19:17.467Z"
   },
   {
    "duration": 10,
    "start_time": "2023-02-27T16:19:17.637Z"
   },
   {
    "duration": 143,
    "start_time": "2023-02-27T16:19:17.649Z"
   },
   {
    "duration": 202,
    "start_time": "2023-02-27T16:19:17.794Z"
   },
   {
    "duration": 303,
    "start_time": "2023-02-27T16:19:17.998Z"
   },
   {
    "duration": 34,
    "start_time": "2023-02-27T16:19:18.302Z"
   },
   {
    "duration": 197,
    "start_time": "2023-02-27T16:19:18.338Z"
   },
   {
    "duration": 200,
    "start_time": "2023-02-27T16:19:18.537Z"
   },
   {
    "duration": 214,
    "start_time": "2023-02-27T16:19:18.739Z"
   },
   {
    "duration": 178,
    "start_time": "2023-02-27T16:19:18.955Z"
   },
   {
    "duration": 166,
    "start_time": "2023-02-27T16:19:19.136Z"
   },
   {
    "duration": 159,
    "start_time": "2023-02-27T16:19:19.304Z"
   },
   {
    "duration": 268,
    "start_time": "2023-02-27T16:19:19.465Z"
   },
   {
    "duration": 304,
    "start_time": "2023-02-27T16:19:19.734Z"
   },
   {
    "duration": 153,
    "start_time": "2023-02-27T16:19:20.040Z"
   },
   {
    "duration": 6,
    "start_time": "2023-02-27T16:19:20.194Z"
   },
   {
    "duration": 32,
    "start_time": "2023-02-27T16:19:20.202Z"
   },
   {
    "duration": 4,
    "start_time": "2023-02-27T16:19:20.236Z"
   },
   {
    "duration": 241,
    "start_time": "2023-02-27T16:19:20.242Z"
   },
   {
    "duration": 5,
    "start_time": "2023-02-27T16:19:20.485Z"
   },
   {
    "duration": 237,
    "start_time": "2023-02-27T16:19:20.492Z"
   },
   {
    "duration": 5,
    "start_time": "2023-02-27T16:19:20.730Z"
   },
   {
    "duration": 219,
    "start_time": "2023-02-27T16:19:20.737Z"
   },
   {
    "duration": 5,
    "start_time": "2023-02-27T16:19:20.958Z"
   },
   {
    "duration": 204,
    "start_time": "2023-02-27T16:19:20.965Z"
   },
   {
    "duration": 11,
    "start_time": "2023-02-27T16:19:21.171Z"
   },
   {
    "duration": 7,
    "start_time": "2023-02-27T16:19:21.183Z"
   },
   {
    "duration": 152,
    "start_time": "2023-02-27T16:19:21.191Z"
   },
   {
    "duration": 5,
    "start_time": "2023-02-27T16:19:21.344Z"
   },
   {
    "duration": 348,
    "start_time": "2023-02-27T16:19:21.351Z"
   },
   {
    "duration": 4,
    "start_time": "2023-02-27T16:19:21.701Z"
   },
   {
    "duration": 205,
    "start_time": "2023-02-27T16:19:21.707Z"
   },
   {
    "duration": 15,
    "start_time": "2023-02-27T16:19:21.914Z"
   },
   {
    "duration": 166,
    "start_time": "2023-02-27T16:19:21.937Z"
   },
   {
    "duration": 36,
    "start_time": "2023-02-27T16:19:22.105Z"
   },
   {
    "duration": 194,
    "start_time": "2023-02-27T16:19:22.144Z"
   },
   {
    "duration": 19,
    "start_time": "2023-02-27T16:19:22.340Z"
   },
   {
    "duration": 10,
    "start_time": "2023-02-27T16:19:22.361Z"
   },
   {
    "duration": 324,
    "start_time": "2023-02-27T16:19:22.372Z"
   },
   {
    "duration": 238,
    "start_time": "2023-02-27T16:19:22.698Z"
   },
   {
    "duration": 0,
    "start_time": "2023-02-27T16:19:22.938Z"
   },
   {
    "duration": 54,
    "start_time": "2023-02-27T16:24:59.733Z"
   },
   {
    "duration": 14,
    "start_time": "2023-02-27T16:25:07.560Z"
   },
   {
    "duration": 41,
    "start_time": "2023-02-27T16:26:05.485Z"
   },
   {
    "duration": 5,
    "start_time": "2023-02-27T16:32:50.289Z"
   },
   {
    "duration": 6,
    "start_time": "2023-02-27T16:33:04.527Z"
   },
   {
    "duration": 7,
    "start_time": "2023-02-27T16:33:20.278Z"
   },
   {
    "duration": 168,
    "start_time": "2023-02-27T16:33:57.776Z"
   },
   {
    "duration": 151,
    "start_time": "2023-02-27T16:34:41.099Z"
   },
   {
    "duration": 542,
    "start_time": "2023-02-27T16:35:16.279Z"
   },
   {
    "duration": 13,
    "start_time": "2023-02-27T16:36:27.865Z"
   },
   {
    "duration": 18,
    "start_time": "2023-02-27T16:38:57.039Z"
   },
   {
    "duration": 16,
    "start_time": "2023-02-27T16:39:18.657Z"
   },
   {
    "duration": 16,
    "start_time": "2023-02-27T16:39:57.405Z"
   },
   {
    "duration": 14,
    "start_time": "2023-02-27T16:40:24.283Z"
   },
   {
    "duration": 9,
    "start_time": "2023-02-27T16:40:39.094Z"
   },
   {
    "duration": 21,
    "start_time": "2023-02-27T16:41:12.824Z"
   },
   {
    "duration": 149,
    "start_time": "2023-02-27T16:41:38.470Z"
   },
   {
    "duration": 17,
    "start_time": "2023-02-27T16:46:51.115Z"
   },
   {
    "duration": 425,
    "start_time": "2023-02-27T17:07:02.853Z"
   },
   {
    "duration": 125,
    "start_time": "2023-02-27T17:07:03.280Z"
   },
   {
    "duration": 28,
    "start_time": "2023-02-27T17:07:03.406Z"
   },
   {
    "duration": 2215,
    "start_time": "2023-02-27T17:07:03.436Z"
   },
   {
    "duration": 21,
    "start_time": "2023-02-27T17:07:05.653Z"
   },
   {
    "duration": 8,
    "start_time": "2023-02-27T17:07:05.676Z"
   },
   {
    "duration": 12,
    "start_time": "2023-02-27T17:07:05.686Z"
   },
   {
    "duration": 8,
    "start_time": "2023-02-27T17:07:05.699Z"
   },
   {
    "duration": 26,
    "start_time": "2023-02-27T17:07:05.708Z"
   },
   {
    "duration": 32,
    "start_time": "2023-02-27T17:07:05.737Z"
   },
   {
    "duration": 16,
    "start_time": "2023-02-27T17:07:05.770Z"
   },
   {
    "duration": 8,
    "start_time": "2023-02-27T17:07:05.787Z"
   },
   {
    "duration": 3,
    "start_time": "2023-02-27T17:07:05.797Z"
   },
   {
    "duration": 5,
    "start_time": "2023-02-27T17:07:05.802Z"
   },
   {
    "duration": 20,
    "start_time": "2023-02-27T17:07:05.808Z"
   },
   {
    "duration": 9,
    "start_time": "2023-02-27T17:07:05.829Z"
   },
   {
    "duration": 6,
    "start_time": "2023-02-27T17:07:05.840Z"
   },
   {
    "duration": 8,
    "start_time": "2023-02-27T17:07:05.847Z"
   },
   {
    "duration": 24,
    "start_time": "2023-02-27T17:07:05.857Z"
   },
   {
    "duration": 6,
    "start_time": "2023-02-27T17:07:05.882Z"
   },
   {
    "duration": 8,
    "start_time": "2023-02-27T17:07:05.926Z"
   },
   {
    "duration": 17,
    "start_time": "2023-02-27T17:07:05.936Z"
   },
   {
    "duration": 11,
    "start_time": "2023-02-27T17:07:05.955Z"
   },
   {
    "duration": 23,
    "start_time": "2023-02-27T17:07:05.967Z"
   },
   {
    "duration": 54,
    "start_time": "2023-02-27T17:07:05.992Z"
   },
   {
    "duration": 119,
    "start_time": "2023-02-27T17:07:06.048Z"
   },
   {
    "duration": 226,
    "start_time": "2023-02-27T17:07:06.169Z"
   },
   {
    "duration": 27,
    "start_time": "2023-02-27T17:07:06.401Z"
   },
   {
    "duration": 14,
    "start_time": "2023-02-27T17:07:06.431Z"
   },
   {
    "duration": 18,
    "start_time": "2023-02-27T17:07:06.447Z"
   },
   {
    "duration": 223,
    "start_time": "2023-02-27T17:07:06.467Z"
   },
   {
    "duration": 15,
    "start_time": "2023-02-27T17:07:06.691Z"
   },
   {
    "duration": 34,
    "start_time": "2023-02-27T17:07:06.708Z"
   },
   {
    "duration": 10,
    "start_time": "2023-02-27T17:07:06.743Z"
   },
   {
    "duration": 241,
    "start_time": "2023-02-27T17:07:06.755Z"
   },
   {
    "duration": 4,
    "start_time": "2023-02-27T17:07:06.998Z"
   },
   {
    "duration": 120,
    "start_time": "2023-02-27T17:07:07.004Z"
   },
   {
    "duration": 25,
    "start_time": "2023-02-27T17:07:07.127Z"
   },
   {
    "duration": 207,
    "start_time": "2023-02-27T17:07:07.154Z"
   },
   {
    "duration": 6,
    "start_time": "2023-02-27T17:07:07.363Z"
   },
   {
    "duration": 198,
    "start_time": "2023-02-27T17:07:07.370Z"
   },
   {
    "duration": 172,
    "start_time": "2023-02-27T17:07:07.570Z"
   },
   {
    "duration": 13,
    "start_time": "2023-02-27T17:07:07.744Z"
   },
   {
    "duration": 16,
    "start_time": "2023-02-27T17:07:07.759Z"
   },
   {
    "duration": 12,
    "start_time": "2023-02-27T17:07:07.777Z"
   },
   {
    "duration": 201,
    "start_time": "2023-02-27T17:07:07.790Z"
   },
   {
    "duration": 5,
    "start_time": "2023-02-27T17:07:07.992Z"
   },
   {
    "duration": 183,
    "start_time": "2023-02-27T17:07:07.998Z"
   },
   {
    "duration": 194,
    "start_time": "2023-02-27T17:07:08.183Z"
   },
   {
    "duration": 11,
    "start_time": "2023-02-27T17:07:08.379Z"
   },
   {
    "duration": 159,
    "start_time": "2023-02-27T17:07:08.392Z"
   },
   {
    "duration": 240,
    "start_time": "2023-02-27T17:07:08.552Z"
   },
   {
    "duration": 10,
    "start_time": "2023-02-27T17:07:08.794Z"
   },
   {
    "duration": 25,
    "start_time": "2023-02-27T17:07:08.806Z"
   },
   {
    "duration": 209,
    "start_time": "2023-02-27T17:07:08.833Z"
   },
   {
    "duration": 10,
    "start_time": "2023-02-27T17:07:09.044Z"
   },
   {
    "duration": 25,
    "start_time": "2023-02-27T17:07:09.055Z"
   },
   {
    "duration": 146,
    "start_time": "2023-02-27T17:07:09.081Z"
   },
   {
    "duration": 264,
    "start_time": "2023-02-27T17:07:09.229Z"
   },
   {
    "duration": 150,
    "start_time": "2023-02-27T17:07:09.495Z"
   },
   {
    "duration": 152,
    "start_time": "2023-02-27T17:07:09.647Z"
   },
   {
    "duration": 26,
    "start_time": "2023-02-27T17:07:09.801Z"
   },
   {
    "duration": 13,
    "start_time": "2023-02-27T17:07:09.829Z"
   },
   {
    "duration": 333,
    "start_time": "2023-02-27T17:07:09.844Z"
   },
   {
    "duration": 3,
    "start_time": "2023-02-27T17:07:10.179Z"
   },
   {
    "duration": 7,
    "start_time": "2023-02-27T17:07:10.183Z"
   },
   {
    "duration": 9,
    "start_time": "2023-02-27T17:07:10.191Z"
   },
   {
    "duration": 31,
    "start_time": "2023-02-27T17:07:10.202Z"
   },
   {
    "duration": 15,
    "start_time": "2023-02-27T17:07:10.236Z"
   },
   {
    "duration": 613,
    "start_time": "2023-02-27T17:07:10.253Z"
   },
   {
    "duration": 24,
    "start_time": "2023-02-27T17:07:10.868Z"
   },
   {
    "duration": 142,
    "start_time": "2023-02-27T17:07:10.894Z"
   },
   {
    "duration": 243,
    "start_time": "2023-02-27T17:07:11.038Z"
   },
   {
    "duration": 13,
    "start_time": "2023-02-27T17:07:11.282Z"
   },
   {
    "duration": 179,
    "start_time": "2023-02-27T17:07:11.296Z"
   },
   {
    "duration": 310,
    "start_time": "2023-02-27T17:07:11.477Z"
   },
   {
    "duration": 10,
    "start_time": "2023-02-27T17:07:11.788Z"
   },
   {
    "duration": 28,
    "start_time": "2023-02-27T17:07:11.800Z"
   },
   {
    "duration": 198,
    "start_time": "2023-02-27T17:07:11.830Z"
   },
   {
    "duration": 228,
    "start_time": "2023-02-27T17:07:12.029Z"
   },
   {
    "duration": 9,
    "start_time": "2023-02-27T17:07:12.259Z"
   },
   {
    "duration": 172,
    "start_time": "2023-02-27T17:07:12.273Z"
   },
   {
    "duration": 9,
    "start_time": "2023-02-27T17:07:12.447Z"
   },
   {
    "duration": 262,
    "start_time": "2023-02-27T17:07:12.458Z"
   },
   {
    "duration": 217,
    "start_time": "2023-02-27T17:07:12.722Z"
   },
   {
    "duration": 188,
    "start_time": "2023-02-27T17:07:12.941Z"
   },
   {
    "duration": 19,
    "start_time": "2023-02-27T17:07:13.131Z"
   },
   {
    "duration": 190,
    "start_time": "2023-02-27T17:07:13.152Z"
   },
   {
    "duration": 180,
    "start_time": "2023-02-27T17:07:13.344Z"
   },
   {
    "duration": 12,
    "start_time": "2023-02-27T17:07:13.527Z"
   },
   {
    "duration": 138,
    "start_time": "2023-02-27T17:07:13.541Z"
   },
   {
    "duration": 204,
    "start_time": "2023-02-27T17:07:13.681Z"
   },
   {
    "duration": 319,
    "start_time": "2023-02-27T17:07:13.886Z"
   },
   {
    "duration": 34,
    "start_time": "2023-02-27T17:07:14.207Z"
   },
   {
    "duration": 208,
    "start_time": "2023-02-27T17:07:14.243Z"
   },
   {
    "duration": 178,
    "start_time": "2023-02-27T17:07:14.453Z"
   },
   {
    "duration": 223,
    "start_time": "2023-02-27T17:07:14.633Z"
   },
   {
    "duration": 172,
    "start_time": "2023-02-27T17:07:14.858Z"
   },
   {
    "duration": 160,
    "start_time": "2023-02-27T17:07:15.032Z"
   },
   {
    "duration": 157,
    "start_time": "2023-02-27T17:07:15.193Z"
   },
   {
    "duration": 257,
    "start_time": "2023-02-27T17:07:15.352Z"
   },
   {
    "duration": 305,
    "start_time": "2023-02-27T17:07:15.611Z"
   },
   {
    "duration": 174,
    "start_time": "2023-02-27T17:07:15.918Z"
   },
   {
    "duration": 6,
    "start_time": "2023-02-27T17:07:16.093Z"
   },
   {
    "duration": 35,
    "start_time": "2023-02-27T17:07:16.101Z"
   },
   {
    "duration": 4,
    "start_time": "2023-02-27T17:07:16.138Z"
   },
   {
    "duration": 210,
    "start_time": "2023-02-27T17:07:16.143Z"
   },
   {
    "duration": 5,
    "start_time": "2023-02-27T17:07:16.355Z"
   },
   {
    "duration": 232,
    "start_time": "2023-02-27T17:07:16.361Z"
   },
   {
    "duration": 7,
    "start_time": "2023-02-27T17:07:16.595Z"
   },
   {
    "duration": 205,
    "start_time": "2023-02-27T17:07:16.604Z"
   },
   {
    "duration": 5,
    "start_time": "2023-02-27T17:07:16.811Z"
   },
   {
    "duration": 200,
    "start_time": "2023-02-27T17:07:16.827Z"
   },
   {
    "duration": 12,
    "start_time": "2023-02-27T17:07:17.029Z"
   },
   {
    "duration": 16,
    "start_time": "2023-02-27T17:07:17.043Z"
   },
   {
    "duration": 155,
    "start_time": "2023-02-27T17:07:17.061Z"
   },
   {
    "duration": 10,
    "start_time": "2023-02-27T17:07:17.218Z"
   },
   {
    "duration": 346,
    "start_time": "2023-02-27T17:07:17.230Z"
   },
   {
    "duration": 6,
    "start_time": "2023-02-27T17:07:17.577Z"
   },
   {
    "duration": 221,
    "start_time": "2023-02-27T17:07:17.585Z"
   },
   {
    "duration": 6,
    "start_time": "2023-02-27T17:07:17.808Z"
   },
   {
    "duration": 166,
    "start_time": "2023-02-27T17:07:17.827Z"
   },
   {
    "duration": 43,
    "start_time": "2023-02-27T17:07:17.996Z"
   },
   {
    "duration": 191,
    "start_time": "2023-02-27T17:07:18.041Z"
   },
   {
    "duration": 20,
    "start_time": "2023-02-27T17:07:18.234Z"
   },
   {
    "duration": 9,
    "start_time": "2023-02-27T17:07:18.256Z"
   },
   {
    "duration": 323,
    "start_time": "2023-02-27T17:07:18.267Z"
   },
   {
    "duration": 14,
    "start_time": "2023-02-27T17:07:18.592Z"
   },
   {
    "duration": 53,
    "start_time": "2023-02-27T17:07:18.608Z"
   },
   {
    "duration": 420,
    "start_time": "2023-11-04T07:49:12.631Z"
   },
   {
    "duration": 352,
    "start_time": "2023-11-04T07:49:13.053Z"
   },
   {
    "duration": 15,
    "start_time": "2023-11-04T07:49:13.406Z"
   },
   {
    "duration": 2251,
    "start_time": "2023-11-04T07:49:13.423Z"
   },
   {
    "duration": 19,
    "start_time": "2023-11-04T07:49:15.675Z"
   },
   {
    "duration": 5,
    "start_time": "2023-11-04T07:49:15.695Z"
   },
   {
    "duration": 15,
    "start_time": "2023-11-04T07:49:15.702Z"
   },
   {
    "duration": 7,
    "start_time": "2023-11-04T07:49:15.718Z"
   },
   {
    "duration": 31,
    "start_time": "2023-11-04T07:49:15.726Z"
   },
   {
    "duration": 38,
    "start_time": "2023-11-04T07:49:15.760Z"
   },
   {
    "duration": 17,
    "start_time": "2023-11-04T07:49:15.800Z"
   },
   {
    "duration": 12,
    "start_time": "2023-11-04T07:49:15.819Z"
   },
   {
    "duration": 10,
    "start_time": "2023-11-04T07:49:15.832Z"
   },
   {
    "duration": 5,
    "start_time": "2023-11-04T07:49:15.843Z"
   },
   {
    "duration": 7,
    "start_time": "2023-11-04T07:49:15.849Z"
   },
   {
    "duration": 29,
    "start_time": "2023-11-04T07:49:15.858Z"
   },
   {
    "duration": 13,
    "start_time": "2023-11-04T07:49:15.888Z"
   },
   {
    "duration": 15,
    "start_time": "2023-11-04T07:49:15.903Z"
   },
   {
    "duration": 37,
    "start_time": "2023-11-04T07:49:15.919Z"
   },
   {
    "duration": 21,
    "start_time": "2023-11-04T07:49:15.958Z"
   },
   {
    "duration": 35,
    "start_time": "2023-11-04T07:49:15.981Z"
   },
   {
    "duration": 37,
    "start_time": "2023-11-04T07:49:16.018Z"
   },
   {
    "duration": 27,
    "start_time": "2023-11-04T07:49:16.060Z"
   },
   {
    "duration": 47,
    "start_time": "2023-11-04T07:49:16.089Z"
   },
   {
    "duration": 30,
    "start_time": "2023-11-04T07:49:16.138Z"
   },
   {
    "duration": 128,
    "start_time": "2023-11-04T07:49:16.170Z"
   },
   {
    "duration": 194,
    "start_time": "2023-11-04T07:49:16.300Z"
   },
   {
    "duration": 13,
    "start_time": "2023-11-04T07:49:16.498Z"
   },
   {
    "duration": 12,
    "start_time": "2023-11-04T07:49:16.512Z"
   },
   {
    "duration": 15,
    "start_time": "2023-11-04T07:49:16.525Z"
   },
   {
    "duration": 191,
    "start_time": "2023-11-04T07:49:16.541Z"
   },
   {
    "duration": 13,
    "start_time": "2023-11-04T07:49:16.734Z"
   },
   {
    "duration": 33,
    "start_time": "2023-11-04T07:49:16.749Z"
   },
   {
    "duration": 13,
    "start_time": "2023-11-04T07:49:16.784Z"
   },
   {
    "duration": 224,
    "start_time": "2023-11-04T07:49:16.799Z"
   },
   {
    "duration": 5,
    "start_time": "2023-11-04T07:49:17.025Z"
   },
   {
    "duration": 136,
    "start_time": "2023-11-04T07:49:17.031Z"
   },
   {
    "duration": 52,
    "start_time": "2023-11-04T07:49:17.169Z"
   },
   {
    "duration": 206,
    "start_time": "2023-11-04T07:49:17.223Z"
   },
   {
    "duration": 6,
    "start_time": "2023-11-04T07:49:17.431Z"
   },
   {
    "duration": 182,
    "start_time": "2023-11-04T07:49:17.439Z"
   },
   {
    "duration": 159,
    "start_time": "2023-11-04T07:49:17.622Z"
   },
   {
    "duration": 10,
    "start_time": "2023-11-04T07:49:17.783Z"
   },
   {
    "duration": 27,
    "start_time": "2023-11-04T07:49:17.795Z"
   },
   {
    "duration": 19,
    "start_time": "2023-11-04T07:49:17.823Z"
   },
   {
    "duration": 168,
    "start_time": "2023-11-04T07:49:17.843Z"
   },
   {
    "duration": 4,
    "start_time": "2023-11-04T07:49:18.013Z"
   },
   {
    "duration": 172,
    "start_time": "2023-11-04T07:49:18.019Z"
   },
   {
    "duration": 172,
    "start_time": "2023-11-04T07:49:18.193Z"
   },
   {
    "duration": 9,
    "start_time": "2023-11-04T07:49:18.367Z"
   },
   {
    "duration": 149,
    "start_time": "2023-11-04T07:49:18.378Z"
   },
   {
    "duration": 224,
    "start_time": "2023-11-04T07:49:18.529Z"
   },
   {
    "duration": 8,
    "start_time": "2023-11-04T07:49:18.754Z"
   },
   {
    "duration": 27,
    "start_time": "2023-11-04T07:49:18.763Z"
   },
   {
    "duration": 208,
    "start_time": "2023-11-04T07:49:18.792Z"
   },
   {
    "duration": 6,
    "start_time": "2023-11-04T07:49:19.002Z"
   },
   {
    "duration": 47,
    "start_time": "2023-11-04T07:49:19.010Z"
   },
   {
    "duration": 140,
    "start_time": "2023-11-04T07:49:19.059Z"
   },
   {
    "duration": 249,
    "start_time": "2023-11-04T07:49:19.201Z"
   },
   {
    "duration": 130,
    "start_time": "2023-11-04T07:49:19.453Z"
   },
   {
    "duration": 144,
    "start_time": "2023-11-04T07:49:19.586Z"
   },
   {
    "duration": 14,
    "start_time": "2023-11-04T07:49:19.733Z"
   },
   {
    "duration": 47,
    "start_time": "2023-11-04T07:49:19.749Z"
   },
   {
    "duration": 337,
    "start_time": "2023-11-04T07:49:19.797Z"
   },
   {
    "duration": 4,
    "start_time": "2023-11-04T07:49:20.136Z"
   },
   {
    "duration": 106,
    "start_time": "2023-11-04T07:49:20.141Z"
   },
   {
    "duration": 46,
    "start_time": "2023-11-04T07:49:20.248Z"
   },
   {
    "duration": 18,
    "start_time": "2023-11-04T07:49:20.296Z"
   },
   {
    "duration": 6,
    "start_time": "2023-11-04T07:49:20.315Z"
   },
   {
    "duration": 549,
    "start_time": "2023-11-04T07:49:20.323Z"
   },
   {
    "duration": 22,
    "start_time": "2023-11-04T07:49:20.873Z"
   },
   {
    "duration": 134,
    "start_time": "2023-11-04T07:49:20.896Z"
   },
   {
    "duration": 250,
    "start_time": "2023-11-04T07:49:21.032Z"
   },
   {
    "duration": 23,
    "start_time": "2023-11-04T07:49:21.284Z"
   },
   {
    "duration": 173,
    "start_time": "2023-11-04T07:49:21.309Z"
   },
   {
    "duration": 258,
    "start_time": "2023-11-04T07:49:21.484Z"
   },
   {
    "duration": 8,
    "start_time": "2023-11-04T07:49:21.744Z"
   },
   {
    "duration": 8,
    "start_time": "2023-11-04T07:49:21.754Z"
   },
   {
    "duration": 211,
    "start_time": "2023-11-04T07:49:21.763Z"
   },
   {
    "duration": 189,
    "start_time": "2023-11-04T07:49:21.977Z"
   },
   {
    "duration": 10,
    "start_time": "2023-11-04T07:49:22.168Z"
   },
   {
    "duration": 166,
    "start_time": "2023-11-04T07:49:22.184Z"
   },
   {
    "duration": 9,
    "start_time": "2023-11-04T07:49:22.352Z"
   },
   {
    "duration": 247,
    "start_time": "2023-11-04T07:49:22.362Z"
   },
   {
    "duration": 184,
    "start_time": "2023-11-04T07:49:22.611Z"
   },
   {
    "duration": 161,
    "start_time": "2023-11-04T07:49:22.796Z"
   },
   {
    "duration": 17,
    "start_time": "2023-11-04T07:49:22.958Z"
   },
   {
    "duration": 167,
    "start_time": "2023-11-04T07:49:22.977Z"
   },
   {
    "duration": 162,
    "start_time": "2023-11-04T07:49:23.145Z"
   },
   {
    "duration": 9,
    "start_time": "2023-11-04T07:49:23.309Z"
   },
   {
    "duration": 147,
    "start_time": "2023-11-04T07:49:23.320Z"
   },
   {
    "duration": 192,
    "start_time": "2023-11-04T07:49:23.469Z"
   },
   {
    "duration": 294,
    "start_time": "2023-11-04T07:49:23.662Z"
   },
   {
    "duration": 20,
    "start_time": "2023-11-04T07:49:23.957Z"
   },
   {
    "duration": 187,
    "start_time": "2023-11-04T07:49:23.979Z"
   },
   {
    "duration": 171,
    "start_time": "2023-11-04T07:49:24.167Z"
   },
   {
    "duration": 183,
    "start_time": "2023-11-04T07:49:24.339Z"
   },
   {
    "duration": 160,
    "start_time": "2023-11-04T07:49:24.523Z"
   },
   {
    "duration": 140,
    "start_time": "2023-11-04T07:49:24.685Z"
   },
   {
    "duration": 140,
    "start_time": "2023-11-04T07:49:24.826Z"
   },
   {
    "duration": 260,
    "start_time": "2023-11-04T07:49:24.967Z"
   },
   {
    "duration": 319,
    "start_time": "2023-11-04T07:49:25.229Z"
   },
   {
    "duration": 145,
    "start_time": "2023-11-04T07:49:25.549Z"
   },
   {
    "duration": 12,
    "start_time": "2023-11-04T07:49:25.695Z"
   },
   {
    "duration": 27,
    "start_time": "2023-11-04T07:49:25.708Z"
   },
   {
    "duration": 8,
    "start_time": "2023-11-04T07:49:25.737Z"
   },
   {
    "duration": 201,
    "start_time": "2023-11-04T07:49:25.747Z"
   },
   {
    "duration": 6,
    "start_time": "2023-11-04T07:49:25.950Z"
   },
   {
    "duration": 222,
    "start_time": "2023-11-04T07:49:25.958Z"
   },
   {
    "duration": 5,
    "start_time": "2023-11-04T07:49:26.181Z"
   },
   {
    "duration": 180,
    "start_time": "2023-11-04T07:49:26.187Z"
   },
   {
    "duration": 5,
    "start_time": "2023-11-04T07:49:26.369Z"
   },
   {
    "duration": 193,
    "start_time": "2023-11-04T07:49:26.375Z"
   },
   {
    "duration": 12,
    "start_time": "2023-11-04T07:49:26.570Z"
   },
   {
    "duration": 27,
    "start_time": "2023-11-04T07:49:26.583Z"
   },
   {
    "duration": 134,
    "start_time": "2023-11-04T07:49:26.611Z"
   },
   {
    "duration": 5,
    "start_time": "2023-11-04T07:49:26.747Z"
   },
   {
    "duration": 313,
    "start_time": "2023-11-04T07:49:26.753Z"
   },
   {
    "duration": 5,
    "start_time": "2023-11-04T07:49:27.067Z"
   },
   {
    "duration": 188,
    "start_time": "2023-11-04T07:49:27.073Z"
   },
   {
    "duration": 4,
    "start_time": "2023-11-04T07:49:27.263Z"
   },
   {
    "duration": 153,
    "start_time": "2023-11-04T07:49:27.269Z"
   },
   {
    "duration": 27,
    "start_time": "2023-11-04T07:49:27.423Z"
   },
   {
    "duration": 198,
    "start_time": "2023-11-04T07:49:27.451Z"
   },
   {
    "duration": 18,
    "start_time": "2023-11-04T07:49:27.651Z"
   },
   {
    "duration": 9,
    "start_time": "2023-11-04T07:49:27.670Z"
   },
   {
    "duration": 320,
    "start_time": "2023-11-04T07:49:27.680Z"
   },
   {
    "duration": 14,
    "start_time": "2023-11-04T07:49:28.007Z"
   },
   {
    "duration": 44,
    "start_time": "2023-11-04T07:49:28.023Z"
   }
  ],
  "kernelspec": {
   "display_name": "Python 3 (ipykernel)",
   "language": "python",
   "name": "python3"
  },
  "language_info": {
   "codemirror_mode": {
    "name": "ipython",
    "version": 3
   },
   "file_extension": ".py",
   "mimetype": "text/x-python",
   "name": "python",
   "nbconvert_exporter": "python",
   "pygments_lexer": "ipython3",
   "version": "3.9.13"
  },
  "toc": {
   "base_numbering": 1,
   "nav_menu": {},
   "number_sections": true,
   "sideBar": true,
   "skip_h1_title": true,
   "title_cell": "Table of Contents",
   "title_sidebar": "Contents",
   "toc_cell": false,
   "toc_position": {},
   "toc_section_display": true,
   "toc_window_display": false
  }
 },
 "nbformat": 4,
 "nbformat_minor": 2
}
